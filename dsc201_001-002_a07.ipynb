{
 "cells": [
  {
   "cell_type": "markdown",
   "id": "12ac16fa-e80a-4a0b-9b4d-615e573e7fca",
   "metadata": {},
   "source": [
    "# Assignment 07\n",
    "\n",
    "## Due: See Date in Moodle\n",
    "\n",
    "In this assignment you will use intermediate and advanced features in R.\n",
    "\n",
    "To receive a **full credit** for this assignment, you must complete **all** questions.\n",
    "\n",
    "## This Week's Assignment\n",
    "\n",
    "In this week's assignment, you will perform data wrangling. This includes, but is not limited to the following:\n",
    "    \n",
    "- converting strings to numbers\n",
    "\n",
    "- adding a new column to a dataframe\n",
    "\n",
    "### Notes\n",
    "\n",
    "- Adhere to good programming practices, utilizing descriptive variable names, appropriate spacing for readability, and adding comments to your code. \n",
    "\n",
    "- Ensure written responses maintain correct spelling, complete sentences, and proper grammar.\n",
    "\n",
    "**Name:** Mahesh Jammu\n",
    "\n",
    "**Section:** 001\n",
    "\n",
    "**Date:** 03/26/2024\n",
    "\n",
    "In this notebook we will be working with a slightly modified version of the skyscraper data that your class collected. The dataset can be accessed [**here**](https://docs.google.com/spreadsheets/d/1W0uRGIU43sMvQ1pANUtlSkFKeY_TMl9d3QZyegEhxOo/edit#gid=1105865786).\n",
    "\n",
    "\n",
    "Let's get started!"
   ]
  },
  {
   "cell_type": "code",
   "execution_count": 1,
   "id": "206a1e47-7223-45a7-a11d-e725555fb472",
   "metadata": {
    "vscode": {
     "languageId": "r"
    }
   },
   "outputs": [
    {
     "data": {
      "text/html": [
       "<table class=\"dataframe\">\n",
       "<caption>A data.frame: 6 × 10</caption>\n",
       "<thead>\n",
       "\t<tr><th></th><th scope=col>X</th><th scope=col>name</th><th scope=col>city</th><th scope=col>country</th><th scope=col>status.started</th><th scope=col>status.completed</th><th scope=col>height</th><th scope=col>floors</th><th scope=col>material</th><th scope=col>function.</th></tr>\n",
       "\t<tr><th></th><th scope=col>&lt;int&gt;</th><th scope=col>&lt;chr&gt;</th><th scope=col>&lt;chr&gt;</th><th scope=col>&lt;chr&gt;</th><th scope=col>&lt;int&gt;</th><th scope=col>&lt;int&gt;</th><th scope=col>&lt;chr&gt;</th><th scope=col>&lt;chr&gt;</th><th scope=col>&lt;chr&gt;</th><th scope=col>&lt;chr&gt;</th></tr>\n",
       "</thead>\n",
       "<tbody>\n",
       "\t<tr><th scope=row>1</th><td>1</td><td>CITIC Tower                     </td><td>Beijing  </td><td>China</td><td>2012</td><td>2018</td><td>528 m / 1,732 ft   </td><td>109</td><td>composite</td><td>office                     </td></tr>\n",
       "\t<tr><th scope=row>2</th><td>2</td><td>Shimao Hunan Center             </td><td>Changsha </td><td>China</td><td>2014</td><td>2019</td><td>343 m / 1,125 ft   </td><td>74 </td><td>composite</td><td>office                     </td></tr>\n",
       "\t<tr><th scope=row>3</th><td>3</td><td>Changsha IFS Tower T1           </td><td>Changsha </td><td>China</td><td>2013</td><td>2017</td><td>452.1 m / 1,483 ft </td><td>95 </td><td>composite</td><td>retail, residential, dining</td></tr>\n",
       "\t<tr><th scope=row>4</th><td>4</td><td>Raffles City Chongqing T4N      </td><td>Chongqing</td><td>China</td><td>2015</td><td>2019</td><td>354.5 m / 1, 163 ft</td><td>74 </td><td>composite</td><td>Hotel/Office/Retail        </td></tr>\n",
       "\t<tr><th scope=row>5</th><td>5</td><td>Raffles City Chongqing T3N      </td><td>Chongqing</td><td>China</td><td>2013</td><td>2019</td><td>354.6 m / 1,163 ft </td><td>79 </td><td>composite</td><td>residential/retail         </td></tr>\n",
       "\t<tr><th scope=row>6</th><td>6</td><td>Chongqing World Financial Center</td><td>Chongqing</td><td>China</td><td>2010</td><td>2015</td><td>338.9 m (1,112 ft) </td><td>72 </td><td>composite</td><td>hotel / office             </td></tr>\n",
       "</tbody>\n",
       "</table>\n"
      ],
      "text/latex": [
       "A data.frame: 6 × 10\n",
       "\\begin{tabular}{r|llllllllll}\n",
       "  & X & name & city & country & status.started & status.completed & height & floors & material & function.\\\\\n",
       "  & <int> & <chr> & <chr> & <chr> & <int> & <int> & <chr> & <chr> & <chr> & <chr>\\\\\n",
       "\\hline\n",
       "\t1 & 1 & CITIC Tower                      & Beijing   & China & 2012 & 2018 & 528 m / 1,732 ft    & 109 & composite & office                     \\\\\n",
       "\t2 & 2 & Shimao Hunan Center              & Changsha  & China & 2014 & 2019 & 343 m / 1,125 ft    & 74  & composite & office                     \\\\\n",
       "\t3 & 3 & Changsha IFS Tower T1            & Changsha  & China & 2013 & 2017 & 452.1 m / 1,483 ft  & 95  & composite & retail, residential, dining\\\\\n",
       "\t4 & 4 & Raffles City Chongqing T4N       & Chongqing & China & 2015 & 2019 & 354.5 m / 1, 163 ft & 74  & composite & Hotel/Office/Retail        \\\\\n",
       "\t5 & 5 & Raffles City Chongqing T3N       & Chongqing & China & 2013 & 2019 & 354.6 m / 1,163 ft  & 79  & composite & residential/retail         \\\\\n",
       "\t6 & 6 & Chongqing World Financial Center & Chongqing & China & 2010 & 2015 & 338.9 m (1,112 ft)  & 72  & composite & hotel / office             \\\\\n",
       "\\end{tabular}\n"
      ],
      "text/markdown": [
       "\n",
       "A data.frame: 6 × 10\n",
       "\n",
       "| <!--/--> | X &lt;int&gt; | name &lt;chr&gt; | city &lt;chr&gt; | country &lt;chr&gt; | status.started &lt;int&gt; | status.completed &lt;int&gt; | height &lt;chr&gt; | floors &lt;chr&gt; | material &lt;chr&gt; | function. &lt;chr&gt; |\n",
       "|---|---|---|---|---|---|---|---|---|---|---|\n",
       "| 1 | 1 | CITIC Tower                      | Beijing   | China | 2012 | 2018 | 528 m / 1,732 ft    | 109 | composite | office                      |\n",
       "| 2 | 2 | Shimao Hunan Center              | Changsha  | China | 2014 | 2019 | 343 m / 1,125 ft    | 74  | composite | office                      |\n",
       "| 3 | 3 | Changsha IFS Tower T1            | Changsha  | China | 2013 | 2017 | 452.1 m / 1,483 ft  | 95  | composite | retail, residential, dining |\n",
       "| 4 | 4 | Raffles City Chongqing T4N       | Chongqing | China | 2015 | 2019 | 354.5 m / 1, 163 ft | 74  | composite | Hotel/Office/Retail         |\n",
       "| 5 | 5 | Raffles City Chongqing T3N       | Chongqing | China | 2013 | 2019 | 354.6 m / 1,163 ft  | 79  | composite | residential/retail          |\n",
       "| 6 | 6 | Chongqing World Financial Center | Chongqing | China | 2010 | 2015 | 338.9 m (1,112 ft)  | 72  | composite | hotel / office              |\n",
       "\n"
      ],
      "text/plain": [
       "  X name                             city      country status.started\n",
       "1 1 CITIC Tower                      Beijing   China   2012          \n",
       "2 2 Shimao Hunan Center              Changsha  China   2014          \n",
       "3 3 Changsha IFS Tower T1            Changsha  China   2013          \n",
       "4 4 Raffles City Chongqing T4N       Chongqing China   2015          \n",
       "5 5 Raffles City Chongqing T3N       Chongqing China   2013          \n",
       "6 6 Chongqing World Financial Center Chongqing China   2010          \n",
       "  status.completed height              floors material \n",
       "1 2018             528 m / 1,732 ft    109    composite\n",
       "2 2019             343 m / 1,125 ft    74     composite\n",
       "3 2017             452.1 m / 1,483 ft  95     composite\n",
       "4 2019             354.5 m / 1, 163 ft 74     composite\n",
       "5 2019             354.6 m / 1,163 ft  79     composite\n",
       "6 2015             338.9 m (1,112 ft)  72     composite\n",
       "  function.                  \n",
       "1 office                     \n",
       "2 office                     \n",
       "3 retail, residential, dining\n",
       "4 Hotel/Office/Retail        \n",
       "5 residential/retail         \n",
       "6 hotel / office             "
      ]
     },
     "metadata": {},
     "output_type": "display_data"
    }
   ],
   "source": [
    "# Load the dataset to a dataframe namde skyscrapers\n",
    "skyscrapers <- read.csv('data/skyscrapers.csv')\n",
    "\n",
    "# Show the first 6 rows of the dataset\n",
    "head(skyscrapers)"
   ]
  },
  {
   "cell_type": "markdown",
   "id": "e6e1f675-fc9a-4a2d-8e1b-d313ed636533",
   "metadata": {},
   "source": [
    "**Question 1.** Load the `dplyr` package."
   ]
  },
  {
   "cell_type": "code",
   "execution_count": 2,
   "id": "62061bed-18ea-4058-a4a8-96bfa34a7113",
   "metadata": {
    "tags": [],
    "vscode": {
     "languageId": "r"
    }
   },
   "outputs": [
    {
     "name": "stderr",
     "output_type": "stream",
     "text": [
      "\n",
      "Attaching package: ‘dplyr’\n",
      "\n",
      "\n",
      "The following objects are masked from ‘package:stats’:\n",
      "\n",
      "    filter, lag\n",
      "\n",
      "\n",
      "The following objects are masked from ‘package:base’:\n",
      "\n",
      "    intersect, setdiff, setequal, union\n",
      "\n",
      "\n"
     ]
    }
   ],
   "source": [
    "library(dplyr)"
   ]
  },
  {
   "cell_type": "markdown",
   "id": "24d4f387-6acc-4446-8843-9ea64af449ea",
   "metadata": {},
   "source": [
    "**Question 2.** Remove the first and last columns from the `skyscrapers` dataframe, then store the resulting dataframe as `df`."
   ]
  },
  {
   "cell_type": "code",
   "execution_count": 3,
   "id": "d13cfce5-9647-4583-9e7d-517f9e76e9e3",
   "metadata": {
    "tags": [],
    "vscode": {
     "languageId": "r"
    }
   },
   "outputs": [
    {
     "data": {
      "text/html": [
       "<table class=\"dataframe\">\n",
       "<caption>A data.frame: 6 × 8</caption>\n",
       "<thead>\n",
       "\t<tr><th></th><th scope=col>name</th><th scope=col>city</th><th scope=col>country</th><th scope=col>status.started</th><th scope=col>status.completed</th><th scope=col>height</th><th scope=col>floors</th><th scope=col>material</th></tr>\n",
       "\t<tr><th></th><th scope=col>&lt;chr&gt;</th><th scope=col>&lt;chr&gt;</th><th scope=col>&lt;chr&gt;</th><th scope=col>&lt;int&gt;</th><th scope=col>&lt;int&gt;</th><th scope=col>&lt;chr&gt;</th><th scope=col>&lt;chr&gt;</th><th scope=col>&lt;chr&gt;</th></tr>\n",
       "</thead>\n",
       "<tbody>\n",
       "\t<tr><th scope=row>1</th><td>CITIC Tower                     </td><td>Beijing  </td><td>China</td><td>2012</td><td>2018</td><td>528 m / 1,732 ft   </td><td>109</td><td>composite</td></tr>\n",
       "\t<tr><th scope=row>2</th><td>Shimao Hunan Center             </td><td>Changsha </td><td>China</td><td>2014</td><td>2019</td><td>343 m / 1,125 ft   </td><td>74 </td><td>composite</td></tr>\n",
       "\t<tr><th scope=row>3</th><td>Changsha IFS Tower T1           </td><td>Changsha </td><td>China</td><td>2013</td><td>2017</td><td>452.1 m / 1,483 ft </td><td>95 </td><td>composite</td></tr>\n",
       "\t<tr><th scope=row>4</th><td>Raffles City Chongqing T4N      </td><td>Chongqing</td><td>China</td><td>2015</td><td>2019</td><td>354.5 m / 1, 163 ft</td><td>74 </td><td>composite</td></tr>\n",
       "\t<tr><th scope=row>5</th><td>Raffles City Chongqing T3N      </td><td>Chongqing</td><td>China</td><td>2013</td><td>2019</td><td>354.6 m / 1,163 ft </td><td>79 </td><td>composite</td></tr>\n",
       "\t<tr><th scope=row>6</th><td>Chongqing World Financial Center</td><td>Chongqing</td><td>China</td><td>2010</td><td>2015</td><td>338.9 m (1,112 ft) </td><td>72 </td><td>composite</td></tr>\n",
       "</tbody>\n",
       "</table>\n"
      ],
      "text/latex": [
       "A data.frame: 6 × 8\n",
       "\\begin{tabular}{r|llllllll}\n",
       "  & name & city & country & status.started & status.completed & height & floors & material\\\\\n",
       "  & <chr> & <chr> & <chr> & <int> & <int> & <chr> & <chr> & <chr>\\\\\n",
       "\\hline\n",
       "\t1 & CITIC Tower                      & Beijing   & China & 2012 & 2018 & 528 m / 1,732 ft    & 109 & composite\\\\\n",
       "\t2 & Shimao Hunan Center              & Changsha  & China & 2014 & 2019 & 343 m / 1,125 ft    & 74  & composite\\\\\n",
       "\t3 & Changsha IFS Tower T1            & Changsha  & China & 2013 & 2017 & 452.1 m / 1,483 ft  & 95  & composite\\\\\n",
       "\t4 & Raffles City Chongqing T4N       & Chongqing & China & 2015 & 2019 & 354.5 m / 1, 163 ft & 74  & composite\\\\\n",
       "\t5 & Raffles City Chongqing T3N       & Chongqing & China & 2013 & 2019 & 354.6 m / 1,163 ft  & 79  & composite\\\\\n",
       "\t6 & Chongqing World Financial Center & Chongqing & China & 2010 & 2015 & 338.9 m (1,112 ft)  & 72  & composite\\\\\n",
       "\\end{tabular}\n"
      ],
      "text/markdown": [
       "\n",
       "A data.frame: 6 × 8\n",
       "\n",
       "| <!--/--> | name &lt;chr&gt; | city &lt;chr&gt; | country &lt;chr&gt; | status.started &lt;int&gt; | status.completed &lt;int&gt; | height &lt;chr&gt; | floors &lt;chr&gt; | material &lt;chr&gt; |\n",
       "|---|---|---|---|---|---|---|---|---|\n",
       "| 1 | CITIC Tower                      | Beijing   | China | 2012 | 2018 | 528 m / 1,732 ft    | 109 | composite |\n",
       "| 2 | Shimao Hunan Center              | Changsha  | China | 2014 | 2019 | 343 m / 1,125 ft    | 74  | composite |\n",
       "| 3 | Changsha IFS Tower T1            | Changsha  | China | 2013 | 2017 | 452.1 m / 1,483 ft  | 95  | composite |\n",
       "| 4 | Raffles City Chongqing T4N       | Chongqing | China | 2015 | 2019 | 354.5 m / 1, 163 ft | 74  | composite |\n",
       "| 5 | Raffles City Chongqing T3N       | Chongqing | China | 2013 | 2019 | 354.6 m / 1,163 ft  | 79  | composite |\n",
       "| 6 | Chongqing World Financial Center | Chongqing | China | 2010 | 2015 | 338.9 m (1,112 ft)  | 72  | composite |\n",
       "\n"
      ],
      "text/plain": [
       "  name                             city      country status.started\n",
       "1 CITIC Tower                      Beijing   China   2012          \n",
       "2 Shimao Hunan Center              Changsha  China   2014          \n",
       "3 Changsha IFS Tower T1            Changsha  China   2013          \n",
       "4 Raffles City Chongqing T4N       Chongqing China   2015          \n",
       "5 Raffles City Chongqing T3N       Chongqing China   2013          \n",
       "6 Chongqing World Financial Center Chongqing China   2010          \n",
       "  status.completed height              floors material \n",
       "1 2018             528 m / 1,732 ft    109    composite\n",
       "2 2019             343 m / 1,125 ft    74     composite\n",
       "3 2017             452.1 m / 1,483 ft  95     composite\n",
       "4 2019             354.5 m / 1, 163 ft 74     composite\n",
       "5 2019             354.6 m / 1,163 ft  79     composite\n",
       "6 2015             338.9 m (1,112 ft)  72     composite"
      ]
     },
     "metadata": {},
     "output_type": "display_data"
    }
   ],
   "source": [
    "df <- skyscrapers[, -c(1, ncol(skyscrapers))]\n",
    "head(df)"
   ]
  },
  {
   "cell_type": "markdown",
   "id": "c2567c01-ba90-47d3-9fe5-42aefc11c839",
   "metadata": {},
   "source": [
    "We're interested in exploring the duration required to construct a skyscraper and whether this construction period has evolved over the years.\n",
    "\n",
    "**Question 3:** In your opinion, has the average time required to construct a skyscraper increased or decreased as time has progressed?"
   ]
  },
  {
   "cell_type": "markdown",
   "id": "80801e33-6d5e-442a-a069-f3d4446ab948",
   "metadata": {},
   "source": [
    "I think the average time required to construct a skyscraper has decreased as time has progressed. This is because technology has grown and and gotten more advanced and with that comes quicker results in building skyscrapers and making taller buildings. "
   ]
  },
  {
   "cell_type": "markdown",
   "id": "ee96e8f7-0088-464f-bf8b-168c9ac40a63",
   "metadata": {},
   "source": [
    "In R, the `mutate` function allows us to append a new column to a dataframe, using data from its existing columns. This technique was applied in **Assignment 03**, where we introduced a new column to calculate the BMI for each character from Naboo.\n",
    "\n",
    "Now, our objective is to incorporate a column into the `df` dataframe representing the construction time (in years) required to complete each skyscraper.\n",
    "\n",
    "**Note:** This task will be executed incrementally, in distinct steps.\n",
    "\n",
    "**Question 4:** Retrieve the values from the `status.completed` column by utilizing `$` notation. Assign this data to a variable named `completed` and display its contents."
   ]
  },
  {
   "cell_type": "code",
   "execution_count": 4,
   "id": "db6e35a5-a177-448f-b32a-5b4d9b6751cc",
   "metadata": {
    "tags": [],
    "vscode": {
     "languageId": "r"
    }
   },
   "outputs": [
    {
     "data": {
      "text/html": [
       "<style>\n",
       ".list-inline {list-style: none; margin:0; padding: 0}\n",
       ".list-inline>li {display: inline-block}\n",
       ".list-inline>li:not(:last-child)::after {content: \"\\00b7\"; padding: 0 .5ex}\n",
       "</style>\n",
       "<ol class=list-inline><li>2018</li><li>2019</li><li>2017</li><li>2019</li><li>2019</li><li>2015</li><li>2016</li><li>2019</li><li>2021</li><li>2016</li><li>2016</li><li>2012</li><li>1996</li><li>2020</li><li>2020</li><li>2020</li><li>2010</li><li>2003</li><li>1998</li><li>1992</li><li>1990</li><li>2020</li><li>2019</li><li>2019</li><li>2010</li><li>2018</li><li>2020</li><li>2022</li><li>2014</li><li>2006</li><li>2007</li><li>1999</li><li>2015</li><li>2018</li><li>2020</li><li>2018</li><li>2021</li><li>2017</li><li>2011</li><li>1996</li><li>2019</li><li>2019</li><li>2016</li><li>2011</li><li>2020</li><li>2021</li><li>2019</li><li>2014</li><li>2018</li><li>2020</li><li>2018</li><li>2003</li><li>2011</li><li>1996</li><li>1996</li><li>2018</li><li>2019</li><li>2020</li><li>2015</li><li>2013</li><li>2017</li><li>2019</li><li>2012</li><li>2021</li><li>2019</li><li>2019</li><li>2017</li><li>2008</li><li>1997</li><li>2004</li><li>2010</li><li>2012</li><li>2015</li><li>2014</li><li>2020</li><li>2017</li><li>2018</li><li>2011</li><li>2012</li><li>2017</li><li>2012</li><li>2008</li><li>2017</li><li>2000</li><li>2012</li><li>2013</li><li>1931</li><li>2020</li><li>2009</li><li>1974</li><li>2017</li><li>2020</li><li>2021</li><li>2019</li><li>2020</li><li>2015</li><li>2014</li><li>2009</li><li>2018</li><li>1969</li><li>1973</li><li>2018</li></ol>\n"
      ],
      "text/latex": [
       "\\begin{enumerate*}\n",
       "\\item 2018\n",
       "\\item 2019\n",
       "\\item 2017\n",
       "\\item 2019\n",
       "\\item 2019\n",
       "\\item 2015\n",
       "\\item 2016\n",
       "\\item 2019\n",
       "\\item 2021\n",
       "\\item 2016\n",
       "\\item 2016\n",
       "\\item 2012\n",
       "\\item 1996\n",
       "\\item 2020\n",
       "\\item 2020\n",
       "\\item 2020\n",
       "\\item 2010\n",
       "\\item 2003\n",
       "\\item 1998\n",
       "\\item 1992\n",
       "\\item 1990\n",
       "\\item 2020\n",
       "\\item 2019\n",
       "\\item 2019\n",
       "\\item 2010\n",
       "\\item 2018\n",
       "\\item 2020\n",
       "\\item 2022\n",
       "\\item 2014\n",
       "\\item 2006\n",
       "\\item 2007\n",
       "\\item 1999\n",
       "\\item 2015\n",
       "\\item 2018\n",
       "\\item 2020\n",
       "\\item 2018\n",
       "\\item 2021\n",
       "\\item 2017\n",
       "\\item 2011\n",
       "\\item 1996\n",
       "\\item 2019\n",
       "\\item 2019\n",
       "\\item 2016\n",
       "\\item 2011\n",
       "\\item 2020\n",
       "\\item 2021\n",
       "\\item 2019\n",
       "\\item 2014\n",
       "\\item 2018\n",
       "\\item 2020\n",
       "\\item 2018\n",
       "\\item 2003\n",
       "\\item 2011\n",
       "\\item 1996\n",
       "\\item 1996\n",
       "\\item 2018\n",
       "\\item 2019\n",
       "\\item 2020\n",
       "\\item 2015\n",
       "\\item 2013\n",
       "\\item 2017\n",
       "\\item 2019\n",
       "\\item 2012\n",
       "\\item 2021\n",
       "\\item 2019\n",
       "\\item 2019\n",
       "\\item 2017\n",
       "\\item 2008\n",
       "\\item 1997\n",
       "\\item 2004\n",
       "\\item 2010\n",
       "\\item 2012\n",
       "\\item 2015\n",
       "\\item 2014\n",
       "\\item 2020\n",
       "\\item 2017\n",
       "\\item 2018\n",
       "\\item 2011\n",
       "\\item 2012\n",
       "\\item 2017\n",
       "\\item 2012\n",
       "\\item 2008\n",
       "\\item 2017\n",
       "\\item 2000\n",
       "\\item 2012\n",
       "\\item 2013\n",
       "\\item 1931\n",
       "\\item 2020\n",
       "\\item 2009\n",
       "\\item 1974\n",
       "\\item 2017\n",
       "\\item 2020\n",
       "\\item 2021\n",
       "\\item 2019\n",
       "\\item 2020\n",
       "\\item 2015\n",
       "\\item 2014\n",
       "\\item 2009\n",
       "\\item 2018\n",
       "\\item 1969\n",
       "\\item 1973\n",
       "\\item 2018\n",
       "\\end{enumerate*}\n"
      ],
      "text/markdown": [
       "1. 2018\n",
       "2. 2019\n",
       "3. 2017\n",
       "4. 2019\n",
       "5. 2019\n",
       "6. 2015\n",
       "7. 2016\n",
       "8. 2019\n",
       "9. 2021\n",
       "10. 2016\n",
       "11. 2016\n",
       "12. 2012\n",
       "13. 1996\n",
       "14. 2020\n",
       "15. 2020\n",
       "16. 2020\n",
       "17. 2010\n",
       "18. 2003\n",
       "19. 1998\n",
       "20. 1992\n",
       "21. 1990\n",
       "22. 2020\n",
       "23. 2019\n",
       "24. 2019\n",
       "25. 2010\n",
       "26. 2018\n",
       "27. 2020\n",
       "28. 2022\n",
       "29. 2014\n",
       "30. 2006\n",
       "31. 2007\n",
       "32. 1999\n",
       "33. 2015\n",
       "34. 2018\n",
       "35. 2020\n",
       "36. 2018\n",
       "37. 2021\n",
       "38. 2017\n",
       "39. 2011\n",
       "40. 1996\n",
       "41. 2019\n",
       "42. 2019\n",
       "43. 2016\n",
       "44. 2011\n",
       "45. 2020\n",
       "46. 2021\n",
       "47. 2019\n",
       "48. 2014\n",
       "49. 2018\n",
       "50. 2020\n",
       "51. 2018\n",
       "52. 2003\n",
       "53. 2011\n",
       "54. 1996\n",
       "55. 1996\n",
       "56. 2018\n",
       "57. 2019\n",
       "58. 2020\n",
       "59. 2015\n",
       "60. 2013\n",
       "61. 2017\n",
       "62. 2019\n",
       "63. 2012\n",
       "64. 2021\n",
       "65. 2019\n",
       "66. 2019\n",
       "67. 2017\n",
       "68. 2008\n",
       "69. 1997\n",
       "70. 2004\n",
       "71. 2010\n",
       "72. 2012\n",
       "73. 2015\n",
       "74. 2014\n",
       "75. 2020\n",
       "76. 2017\n",
       "77. 2018\n",
       "78. 2011\n",
       "79. 2012\n",
       "80. 2017\n",
       "81. 2012\n",
       "82. 2008\n",
       "83. 2017\n",
       "84. 2000\n",
       "85. 2012\n",
       "86. 2013\n",
       "87. 1931\n",
       "88. 2020\n",
       "89. 2009\n",
       "90. 1974\n",
       "91. 2017\n",
       "92. 2020\n",
       "93. 2021\n",
       "94. 2019\n",
       "95. 2020\n",
       "96. 2015\n",
       "97. 2014\n",
       "98. 2009\n",
       "99. 2018\n",
       "100. 1969\n",
       "101. 1973\n",
       "102. 2018\n",
       "\n",
       "\n"
      ],
      "text/plain": [
       "  [1] 2018 2019 2017 2019 2019 2015 2016 2019 2021 2016 2016 2012 1996 2020 2020\n",
       " [16] 2020 2010 2003 1998 1992 1990 2020 2019 2019 2010 2018 2020 2022 2014 2006\n",
       " [31] 2007 1999 2015 2018 2020 2018 2021 2017 2011 1996 2019 2019 2016 2011 2020\n",
       " [46] 2021 2019 2014 2018 2020 2018 2003 2011 1996 1996 2018 2019 2020 2015 2013\n",
       " [61] 2017 2019 2012 2021 2019 2019 2017 2008 1997 2004 2010 2012 2015 2014 2020\n",
       " [76] 2017 2018 2011 2012 2017 2012 2008 2017 2000 2012 2013 1931 2020 2009 1974\n",
       " [91] 2017 2020 2021 2019 2020 2015 2014 2009 2018 1969 1973 2018"
      ]
     },
     "metadata": {},
     "output_type": "display_data"
    }
   ],
   "source": [
    "completed <- df$status.completed\n",
    "completed"
   ]
  },
  {
   "cell_type": "markdown",
   "id": "df77e4da-bb60-469c-b427-43d5cb1a3295",
   "metadata": {},
   "source": [
    "**Question 5.** Retrieve the values from the `status.started` column by utilizing `$` notation. Assign this data to a variable named `started` and display its contents."
   ]
  },
  {
   "cell_type": "code",
   "execution_count": 5,
   "id": "dc317018-ea3b-47c0-a33c-2f697139a548",
   "metadata": {
    "tags": [],
    "vscode": {
     "languageId": "r"
    }
   },
   "outputs": [
    {
     "data": {
      "text/html": [
       "<style>\n",
       ".list-inline {list-style: none; margin:0; padding: 0}\n",
       ".list-inline>li {display: inline-block}\n",
       ".list-inline>li:not(:last-child)::after {content: \"\\00b7\"; padding: 0 .5ex}\n",
       "</style>\n",
       "<ol class=list-inline><li>2012</li><li>2014</li><li>2013</li><li>2015</li><li>2013</li><li>2010</li><li>2006</li><li>2003</li><li>2014</li><li>2010</li><li>2010</li><li>2008</li><li>1993</li><li>2016</li><li>2012</li><li>2012</li><li>2002</li><li>1996</li><li>1995</li><li>1989</li><li>1985</li><li>2016</li><li>2013</li><li>2013</li><li>2005</li><li>2013</li><li>2014</li><li>2016</li><li>2008</li><li>2001</li><li>1997</li><li>1994</li><li>2008</li><li>2014</li><li>2014</li><li>2013</li><li>2012</li><li>2010</li><li>2007</li><li>1993</li><li>2012</li><li>2013</li><li>2011</li><li>2007</li><li>2015</li><li>2013</li><li>2011</li><li>2011</li><li>2012</li><li>2015</li><li>2012</li><li>1994</li><li>2005</li><li>1993</li><li>1993</li><li>2013</li><li>2016</li><li>2013</li><li>2012</li><li>2006</li><li>2005</li><li>2012</li><li>2002</li><li>2010</li><li>2013</li><li>2013</li><li>2012</li><li>2004</li><li>1994</li><li>1999</li><li>2009</li><li>2006</li><li>2009</li><li>2007</li><li>2016</li><li>2012</li><li>2011</li><li>2007</li><li>2007</li><li>2007</li><li>2006</li><li>2005</li><li>2005</li><li>1996</li><li>2006</li><li>2006</li><li>1930</li><li>2016</li><li>2005</li><li>1970</li><li>2014</li><li>2016</li><li>2015</li><li>2014</li><li>2014</li><li>2011</li><li>2006</li><li>2004</li><li>2014</li><li>1965</li><li>1970</li><li>2015</li></ol>\n"
      ],
      "text/latex": [
       "\\begin{enumerate*}\n",
       "\\item 2012\n",
       "\\item 2014\n",
       "\\item 2013\n",
       "\\item 2015\n",
       "\\item 2013\n",
       "\\item 2010\n",
       "\\item 2006\n",
       "\\item 2003\n",
       "\\item 2014\n",
       "\\item 2010\n",
       "\\item 2010\n",
       "\\item 2008\n",
       "\\item 1993\n",
       "\\item 2016\n",
       "\\item 2012\n",
       "\\item 2012\n",
       "\\item 2002\n",
       "\\item 1996\n",
       "\\item 1995\n",
       "\\item 1989\n",
       "\\item 1985\n",
       "\\item 2016\n",
       "\\item 2013\n",
       "\\item 2013\n",
       "\\item 2005\n",
       "\\item 2013\n",
       "\\item 2014\n",
       "\\item 2016\n",
       "\\item 2008\n",
       "\\item 2001\n",
       "\\item 1997\n",
       "\\item 1994\n",
       "\\item 2008\n",
       "\\item 2014\n",
       "\\item 2014\n",
       "\\item 2013\n",
       "\\item 2012\n",
       "\\item 2010\n",
       "\\item 2007\n",
       "\\item 1993\n",
       "\\item 2012\n",
       "\\item 2013\n",
       "\\item 2011\n",
       "\\item 2007\n",
       "\\item 2015\n",
       "\\item 2013\n",
       "\\item 2011\n",
       "\\item 2011\n",
       "\\item 2012\n",
       "\\item 2015\n",
       "\\item 2012\n",
       "\\item 1994\n",
       "\\item 2005\n",
       "\\item 1993\n",
       "\\item 1993\n",
       "\\item 2013\n",
       "\\item 2016\n",
       "\\item 2013\n",
       "\\item 2012\n",
       "\\item 2006\n",
       "\\item 2005\n",
       "\\item 2012\n",
       "\\item 2002\n",
       "\\item 2010\n",
       "\\item 2013\n",
       "\\item 2013\n",
       "\\item 2012\n",
       "\\item 2004\n",
       "\\item 1994\n",
       "\\item 1999\n",
       "\\item 2009\n",
       "\\item 2006\n",
       "\\item 2009\n",
       "\\item 2007\n",
       "\\item 2016\n",
       "\\item 2012\n",
       "\\item 2011\n",
       "\\item 2007\n",
       "\\item 2007\n",
       "\\item 2007\n",
       "\\item 2006\n",
       "\\item 2005\n",
       "\\item 2005\n",
       "\\item 1996\n",
       "\\item 2006\n",
       "\\item 2006\n",
       "\\item 1930\n",
       "\\item 2016\n",
       "\\item 2005\n",
       "\\item 1970\n",
       "\\item 2014\n",
       "\\item 2016\n",
       "\\item 2015\n",
       "\\item 2014\n",
       "\\item 2014\n",
       "\\item 2011\n",
       "\\item 2006\n",
       "\\item 2004\n",
       "\\item 2014\n",
       "\\item 1965\n",
       "\\item 1970\n",
       "\\item 2015\n",
       "\\end{enumerate*}\n"
      ],
      "text/markdown": [
       "1. 2012\n",
       "2. 2014\n",
       "3. 2013\n",
       "4. 2015\n",
       "5. 2013\n",
       "6. 2010\n",
       "7. 2006\n",
       "8. 2003\n",
       "9. 2014\n",
       "10. 2010\n",
       "11. 2010\n",
       "12. 2008\n",
       "13. 1993\n",
       "14. 2016\n",
       "15. 2012\n",
       "16. 2012\n",
       "17. 2002\n",
       "18. 1996\n",
       "19. 1995\n",
       "20. 1989\n",
       "21. 1985\n",
       "22. 2016\n",
       "23. 2013\n",
       "24. 2013\n",
       "25. 2005\n",
       "26. 2013\n",
       "27. 2014\n",
       "28. 2016\n",
       "29. 2008\n",
       "30. 2001\n",
       "31. 1997\n",
       "32. 1994\n",
       "33. 2008\n",
       "34. 2014\n",
       "35. 2014\n",
       "36. 2013\n",
       "37. 2012\n",
       "38. 2010\n",
       "39. 2007\n",
       "40. 1993\n",
       "41. 2012\n",
       "42. 2013\n",
       "43. 2011\n",
       "44. 2007\n",
       "45. 2015\n",
       "46. 2013\n",
       "47. 2011\n",
       "48. 2011\n",
       "49. 2012\n",
       "50. 2015\n",
       "51. 2012\n",
       "52. 1994\n",
       "53. 2005\n",
       "54. 1993\n",
       "55. 1993\n",
       "56. 2013\n",
       "57. 2016\n",
       "58. 2013\n",
       "59. 2012\n",
       "60. 2006\n",
       "61. 2005\n",
       "62. 2012\n",
       "63. 2002\n",
       "64. 2010\n",
       "65. 2013\n",
       "66. 2013\n",
       "67. 2012\n",
       "68. 2004\n",
       "69. 1994\n",
       "70. 1999\n",
       "71. 2009\n",
       "72. 2006\n",
       "73. 2009\n",
       "74. 2007\n",
       "75. 2016\n",
       "76. 2012\n",
       "77. 2011\n",
       "78. 2007\n",
       "79. 2007\n",
       "80. 2007\n",
       "81. 2006\n",
       "82. 2005\n",
       "83. 2005\n",
       "84. 1996\n",
       "85. 2006\n",
       "86. 2006\n",
       "87. 1930\n",
       "88. 2016\n",
       "89. 2005\n",
       "90. 1970\n",
       "91. 2014\n",
       "92. 2016\n",
       "93. 2015\n",
       "94. 2014\n",
       "95. 2014\n",
       "96. 2011\n",
       "97. 2006\n",
       "98. 2004\n",
       "99. 2014\n",
       "100. 1965\n",
       "101. 1970\n",
       "102. 2015\n",
       "\n",
       "\n"
      ],
      "text/plain": [
       "  [1] 2012 2014 2013 2015 2013 2010 2006 2003 2014 2010 2010 2008 1993 2016 2012\n",
       " [16] 2012 2002 1996 1995 1989 1985 2016 2013 2013 2005 2013 2014 2016 2008 2001\n",
       " [31] 1997 1994 2008 2014 2014 2013 2012 2010 2007 1993 2012 2013 2011 2007 2015\n",
       " [46] 2013 2011 2011 2012 2015 2012 1994 2005 1993 1993 2013 2016 2013 2012 2006\n",
       " [61] 2005 2012 2002 2010 2013 2013 2012 2004 1994 1999 2009 2006 2009 2007 2016\n",
       " [76] 2012 2011 2007 2007 2007 2006 2005 2005 1996 2006 2006 1930 2016 2005 1970\n",
       " [91] 2014 2016 2015 2014 2014 2011 2006 2004 2014 1965 1970 2015"
      ]
     },
     "metadata": {},
     "output_type": "display_data"
    }
   ],
   "source": [
    "started <- df$status.started\n",
    "started"
   ]
  },
  {
   "cell_type": "markdown",
   "id": "40c38a68-e519-4bf3-b0d4-a70366c9d49e",
   "metadata": {},
   "source": [
    "**Question 6:** Calculate the construction duration by subtracting the `started` vector values from the `completed` vector values. Store the result in a variable named `duration` and display its values."
   ]
  },
  {
   "cell_type": "code",
   "execution_count": 6,
   "id": "17cb656c-a7db-4470-b0a0-05cb59199539",
   "metadata": {
    "tags": [],
    "vscode": {
     "languageId": "r"
    }
   },
   "outputs": [
    {
     "data": {
      "text/html": [
       "<style>\n",
       ".list-inline {list-style: none; margin:0; padding: 0}\n",
       ".list-inline>li {display: inline-block}\n",
       ".list-inline>li:not(:last-child)::after {content: \"\\00b7\"; padding: 0 .5ex}\n",
       "</style>\n",
       "<ol class=list-inline><li>6</li><li>5</li><li>4</li><li>4</li><li>6</li><li>5</li><li>10</li><li>16</li><li>7</li><li>6</li><li>6</li><li>4</li><li>3</li><li>4</li><li>8</li><li>8</li><li>8</li><li>7</li><li>3</li><li>3</li><li>5</li><li>4</li><li>6</li><li>6</li><li>5</li><li>5</li><li>6</li><li>6</li><li>6</li><li>5</li><li>10</li><li>5</li><li>7</li><li>4</li><li>6</li><li>5</li><li>9</li><li>7</li><li>4</li><li>3</li><li>7</li><li>6</li><li>5</li><li>4</li><li>5</li><li>8</li><li>8</li><li>3</li><li>6</li><li>5</li><li>6</li><li>9</li><li>6</li><li>3</li><li>3</li><li>5</li><li>3</li><li>7</li><li>3</li><li>7</li><li>12</li><li>7</li><li>10</li><li>11</li><li>6</li><li>6</li><li>5</li><li>4</li><li>3</li><li>5</li><li>1</li><li>6</li><li>6</li><li>7</li><li>4</li><li>5</li><li>7</li><li>4</li><li>5</li><li>10</li><li>6</li><li>3</li><li>12</li><li>4</li><li>6</li><li>7</li><li>1</li><li>4</li><li>4</li><li>4</li><li>3</li><li>4</li><li>6</li><li>5</li><li>6</li><li>4</li><li>8</li><li>5</li><li>4</li><li>4</li><li>3</li><li>3</li></ol>\n"
      ],
      "text/latex": [
       "\\begin{enumerate*}\n",
       "\\item 6\n",
       "\\item 5\n",
       "\\item 4\n",
       "\\item 4\n",
       "\\item 6\n",
       "\\item 5\n",
       "\\item 10\n",
       "\\item 16\n",
       "\\item 7\n",
       "\\item 6\n",
       "\\item 6\n",
       "\\item 4\n",
       "\\item 3\n",
       "\\item 4\n",
       "\\item 8\n",
       "\\item 8\n",
       "\\item 8\n",
       "\\item 7\n",
       "\\item 3\n",
       "\\item 3\n",
       "\\item 5\n",
       "\\item 4\n",
       "\\item 6\n",
       "\\item 6\n",
       "\\item 5\n",
       "\\item 5\n",
       "\\item 6\n",
       "\\item 6\n",
       "\\item 6\n",
       "\\item 5\n",
       "\\item 10\n",
       "\\item 5\n",
       "\\item 7\n",
       "\\item 4\n",
       "\\item 6\n",
       "\\item 5\n",
       "\\item 9\n",
       "\\item 7\n",
       "\\item 4\n",
       "\\item 3\n",
       "\\item 7\n",
       "\\item 6\n",
       "\\item 5\n",
       "\\item 4\n",
       "\\item 5\n",
       "\\item 8\n",
       "\\item 8\n",
       "\\item 3\n",
       "\\item 6\n",
       "\\item 5\n",
       "\\item 6\n",
       "\\item 9\n",
       "\\item 6\n",
       "\\item 3\n",
       "\\item 3\n",
       "\\item 5\n",
       "\\item 3\n",
       "\\item 7\n",
       "\\item 3\n",
       "\\item 7\n",
       "\\item 12\n",
       "\\item 7\n",
       "\\item 10\n",
       "\\item 11\n",
       "\\item 6\n",
       "\\item 6\n",
       "\\item 5\n",
       "\\item 4\n",
       "\\item 3\n",
       "\\item 5\n",
       "\\item 1\n",
       "\\item 6\n",
       "\\item 6\n",
       "\\item 7\n",
       "\\item 4\n",
       "\\item 5\n",
       "\\item 7\n",
       "\\item 4\n",
       "\\item 5\n",
       "\\item 10\n",
       "\\item 6\n",
       "\\item 3\n",
       "\\item 12\n",
       "\\item 4\n",
       "\\item 6\n",
       "\\item 7\n",
       "\\item 1\n",
       "\\item 4\n",
       "\\item 4\n",
       "\\item 4\n",
       "\\item 3\n",
       "\\item 4\n",
       "\\item 6\n",
       "\\item 5\n",
       "\\item 6\n",
       "\\item 4\n",
       "\\item 8\n",
       "\\item 5\n",
       "\\item 4\n",
       "\\item 4\n",
       "\\item 3\n",
       "\\item 3\n",
       "\\end{enumerate*}\n"
      ],
      "text/markdown": [
       "1. 6\n",
       "2. 5\n",
       "3. 4\n",
       "4. 4\n",
       "5. 6\n",
       "6. 5\n",
       "7. 10\n",
       "8. 16\n",
       "9. 7\n",
       "10. 6\n",
       "11. 6\n",
       "12. 4\n",
       "13. 3\n",
       "14. 4\n",
       "15. 8\n",
       "16. 8\n",
       "17. 8\n",
       "18. 7\n",
       "19. 3\n",
       "20. 3\n",
       "21. 5\n",
       "22. 4\n",
       "23. 6\n",
       "24. 6\n",
       "25. 5\n",
       "26. 5\n",
       "27. 6\n",
       "28. 6\n",
       "29. 6\n",
       "30. 5\n",
       "31. 10\n",
       "32. 5\n",
       "33. 7\n",
       "34. 4\n",
       "35. 6\n",
       "36. 5\n",
       "37. 9\n",
       "38. 7\n",
       "39. 4\n",
       "40. 3\n",
       "41. 7\n",
       "42. 6\n",
       "43. 5\n",
       "44. 4\n",
       "45. 5\n",
       "46. 8\n",
       "47. 8\n",
       "48. 3\n",
       "49. 6\n",
       "50. 5\n",
       "51. 6\n",
       "52. 9\n",
       "53. 6\n",
       "54. 3\n",
       "55. 3\n",
       "56. 5\n",
       "57. 3\n",
       "58. 7\n",
       "59. 3\n",
       "60. 7\n",
       "61. 12\n",
       "62. 7\n",
       "63. 10\n",
       "64. 11\n",
       "65. 6\n",
       "66. 6\n",
       "67. 5\n",
       "68. 4\n",
       "69. 3\n",
       "70. 5\n",
       "71. 1\n",
       "72. 6\n",
       "73. 6\n",
       "74. 7\n",
       "75. 4\n",
       "76. 5\n",
       "77. 7\n",
       "78. 4\n",
       "79. 5\n",
       "80. 10\n",
       "81. 6\n",
       "82. 3\n",
       "83. 12\n",
       "84. 4\n",
       "85. 6\n",
       "86. 7\n",
       "87. 1\n",
       "88. 4\n",
       "89. 4\n",
       "90. 4\n",
       "91. 3\n",
       "92. 4\n",
       "93. 6\n",
       "94. 5\n",
       "95. 6\n",
       "96. 4\n",
       "97. 8\n",
       "98. 5\n",
       "99. 4\n",
       "100. 4\n",
       "101. 3\n",
       "102. 3\n",
       "\n",
       "\n"
      ],
      "text/plain": [
       "  [1]  6  5  4  4  6  5 10 16  7  6  6  4  3  4  8  8  8  7  3  3  5  4  6  6  5\n",
       " [26]  5  6  6  6  5 10  5  7  4  6  5  9  7  4  3  7  6  5  4  5  8  8  3  6  5\n",
       " [51]  6  9  6  3  3  5  3  7  3  7 12  7 10 11  6  6  5  4  3  5  1  6  6  7  4\n",
       " [76]  5  7  4  5 10  6  3 12  4  6  7  1  4  4  4  3  4  6  5  6  4  8  5  4  4\n",
       "[101]  3  3"
      ]
     },
     "metadata": {},
     "output_type": "display_data"
    }
   ],
   "source": [
    "duration <- completed - started\n",
    "duration"
   ]
  },
  {
   "cell_type": "markdown",
   "id": "362a67a7-a57d-4b9a-bee3-f0b11bec114d",
   "metadata": {},
   "source": [
    "The `duration` vector contains the construction completion time in years for each building. Given that `duration` is a vector, we can add it to the `df` dataframe.\n",
    "\n",
    "We could have also completed this in one line of code using the `mutate` function\n",
    "\n",
    "```\n",
    "mutate(df, duration=df$status.completed-df$status.started)\n",
    "```\n",
    "\n",
    "where \n",
    "\n",
    "- `df` is the name of the dataframe.\n",
    "- `duration` is the name of the new column that will be added to the `df` dataframe.\n",
    "- `df$status.completed-df$status.started` is the difference between the year construction was completed and the year construction was started.\n",
    "\n",
    "Run the code cell below.\n",
    "\n",
    "**Note:** We are using the piping operator `%>%` to direct the output directly to the `head` function, specifically to show only the first 6 observations."
   ]
  },
  {
   "cell_type": "code",
   "execution_count": 7,
   "id": "8684b81f-dcfe-4b6a-87bb-ea30cdff6b29",
   "metadata": {
    "tags": [],
    "vscode": {
     "languageId": "r"
    }
   },
   "outputs": [
    {
     "data": {
      "text/html": [
       "<table class=\"dataframe\">\n",
       "<caption>A data.frame: 6 × 9</caption>\n",
       "<thead>\n",
       "\t<tr><th></th><th scope=col>name</th><th scope=col>city</th><th scope=col>country</th><th scope=col>status.started</th><th scope=col>status.completed</th><th scope=col>height</th><th scope=col>floors</th><th scope=col>material</th><th scope=col>duration</th></tr>\n",
       "\t<tr><th></th><th scope=col>&lt;chr&gt;</th><th scope=col>&lt;chr&gt;</th><th scope=col>&lt;chr&gt;</th><th scope=col>&lt;int&gt;</th><th scope=col>&lt;int&gt;</th><th scope=col>&lt;chr&gt;</th><th scope=col>&lt;chr&gt;</th><th scope=col>&lt;chr&gt;</th><th scope=col>&lt;int&gt;</th></tr>\n",
       "</thead>\n",
       "<tbody>\n",
       "\t<tr><th scope=row>1</th><td>CITIC Tower                     </td><td>Beijing  </td><td>China</td><td>2012</td><td>2018</td><td>528 m / 1,732 ft   </td><td>109</td><td>composite</td><td>6</td></tr>\n",
       "\t<tr><th scope=row>2</th><td>Shimao Hunan Center             </td><td>Changsha </td><td>China</td><td>2014</td><td>2019</td><td>343 m / 1,125 ft   </td><td>74 </td><td>composite</td><td>5</td></tr>\n",
       "\t<tr><th scope=row>3</th><td>Changsha IFS Tower T1           </td><td>Changsha </td><td>China</td><td>2013</td><td>2017</td><td>452.1 m / 1,483 ft </td><td>95 </td><td>composite</td><td>4</td></tr>\n",
       "\t<tr><th scope=row>4</th><td>Raffles City Chongqing T4N      </td><td>Chongqing</td><td>China</td><td>2015</td><td>2019</td><td>354.5 m / 1, 163 ft</td><td>74 </td><td>composite</td><td>4</td></tr>\n",
       "\t<tr><th scope=row>5</th><td>Raffles City Chongqing T3N      </td><td>Chongqing</td><td>China</td><td>2013</td><td>2019</td><td>354.6 m / 1,163 ft </td><td>79 </td><td>composite</td><td>6</td></tr>\n",
       "\t<tr><th scope=row>6</th><td>Chongqing World Financial Center</td><td>Chongqing</td><td>China</td><td>2010</td><td>2015</td><td>338.9 m (1,112 ft) </td><td>72 </td><td>composite</td><td>5</td></tr>\n",
       "</tbody>\n",
       "</table>\n"
      ],
      "text/latex": [
       "A data.frame: 6 × 9\n",
       "\\begin{tabular}{r|lllllllll}\n",
       "  & name & city & country & status.started & status.completed & height & floors & material & duration\\\\\n",
       "  & <chr> & <chr> & <chr> & <int> & <int> & <chr> & <chr> & <chr> & <int>\\\\\n",
       "\\hline\n",
       "\t1 & CITIC Tower                      & Beijing   & China & 2012 & 2018 & 528 m / 1,732 ft    & 109 & composite & 6\\\\\n",
       "\t2 & Shimao Hunan Center              & Changsha  & China & 2014 & 2019 & 343 m / 1,125 ft    & 74  & composite & 5\\\\\n",
       "\t3 & Changsha IFS Tower T1            & Changsha  & China & 2013 & 2017 & 452.1 m / 1,483 ft  & 95  & composite & 4\\\\\n",
       "\t4 & Raffles City Chongqing T4N       & Chongqing & China & 2015 & 2019 & 354.5 m / 1, 163 ft & 74  & composite & 4\\\\\n",
       "\t5 & Raffles City Chongqing T3N       & Chongqing & China & 2013 & 2019 & 354.6 m / 1,163 ft  & 79  & composite & 6\\\\\n",
       "\t6 & Chongqing World Financial Center & Chongqing & China & 2010 & 2015 & 338.9 m (1,112 ft)  & 72  & composite & 5\\\\\n",
       "\\end{tabular}\n"
      ],
      "text/markdown": [
       "\n",
       "A data.frame: 6 × 9\n",
       "\n",
       "| <!--/--> | name &lt;chr&gt; | city &lt;chr&gt; | country &lt;chr&gt; | status.started &lt;int&gt; | status.completed &lt;int&gt; | height &lt;chr&gt; | floors &lt;chr&gt; | material &lt;chr&gt; | duration &lt;int&gt; |\n",
       "|---|---|---|---|---|---|---|---|---|---|\n",
       "| 1 | CITIC Tower                      | Beijing   | China | 2012 | 2018 | 528 m / 1,732 ft    | 109 | composite | 6 |\n",
       "| 2 | Shimao Hunan Center              | Changsha  | China | 2014 | 2019 | 343 m / 1,125 ft    | 74  | composite | 5 |\n",
       "| 3 | Changsha IFS Tower T1            | Changsha  | China | 2013 | 2017 | 452.1 m / 1,483 ft  | 95  | composite | 4 |\n",
       "| 4 | Raffles City Chongqing T4N       | Chongqing | China | 2015 | 2019 | 354.5 m / 1, 163 ft | 74  | composite | 4 |\n",
       "| 5 | Raffles City Chongqing T3N       | Chongqing | China | 2013 | 2019 | 354.6 m / 1,163 ft  | 79  | composite | 6 |\n",
       "| 6 | Chongqing World Financial Center | Chongqing | China | 2010 | 2015 | 338.9 m (1,112 ft)  | 72  | composite | 5 |\n",
       "\n"
      ],
      "text/plain": [
       "  name                             city      country status.started\n",
       "1 CITIC Tower                      Beijing   China   2012          \n",
       "2 Shimao Hunan Center              Changsha  China   2014          \n",
       "3 Changsha IFS Tower T1            Changsha  China   2013          \n",
       "4 Raffles City Chongqing T4N       Chongqing China   2015          \n",
       "5 Raffles City Chongqing T3N       Chongqing China   2013          \n",
       "6 Chongqing World Financial Center Chongqing China   2010          \n",
       "  status.completed height              floors material  duration\n",
       "1 2018             528 m / 1,732 ft    109    composite 6       \n",
       "2 2019             343 m / 1,125 ft    74     composite 5       \n",
       "3 2017             452.1 m / 1,483 ft  95     composite 4       \n",
       "4 2019             354.5 m / 1, 163 ft 74     composite 4       \n",
       "5 2019             354.6 m / 1,163 ft  79     composite 6       \n",
       "6 2015             338.9 m (1,112 ft)  72     composite 5       "
      ]
     },
     "metadata": {},
     "output_type": "display_data"
    }
   ],
   "source": [
    "mutate(df, duration=df$status.completed-df$status.started) %>% head()"
   ]
  },
  {
   "cell_type": "markdown",
   "id": "f6eae512-480e-4811-bf40-01bb90654714",
   "metadata": {
    "tags": []
   },
   "source": [
    "This operation didn't modify the `df` dataframe. To apply the changes to `df`, we must assign the output back to `df`.\n",
    "\n",
    "Run the code cell below."
   ]
  },
  {
   "cell_type": "code",
   "execution_count": 8,
   "id": "cf93d460-f818-4b02-98c4-8a8e56754b54",
   "metadata": {
    "tags": [],
    "vscode": {
     "languageId": "r"
    }
   },
   "outputs": [
    {
     "data": {
      "text/html": [
       "<table class=\"dataframe\">\n",
       "<caption>A data.frame: 6 × 9</caption>\n",
       "<thead>\n",
       "\t<tr><th></th><th scope=col>name</th><th scope=col>city</th><th scope=col>country</th><th scope=col>status.started</th><th scope=col>status.completed</th><th scope=col>height</th><th scope=col>floors</th><th scope=col>material</th><th scope=col>duration</th></tr>\n",
       "\t<tr><th></th><th scope=col>&lt;chr&gt;</th><th scope=col>&lt;chr&gt;</th><th scope=col>&lt;chr&gt;</th><th scope=col>&lt;int&gt;</th><th scope=col>&lt;int&gt;</th><th scope=col>&lt;chr&gt;</th><th scope=col>&lt;chr&gt;</th><th scope=col>&lt;chr&gt;</th><th scope=col>&lt;int&gt;</th></tr>\n",
       "</thead>\n",
       "<tbody>\n",
       "\t<tr><th scope=row>1</th><td>CITIC Tower                     </td><td>Beijing  </td><td>China</td><td>2012</td><td>2018</td><td>528 m / 1,732 ft   </td><td>109</td><td>composite</td><td>6</td></tr>\n",
       "\t<tr><th scope=row>2</th><td>Shimao Hunan Center             </td><td>Changsha </td><td>China</td><td>2014</td><td>2019</td><td>343 m / 1,125 ft   </td><td>74 </td><td>composite</td><td>5</td></tr>\n",
       "\t<tr><th scope=row>3</th><td>Changsha IFS Tower T1           </td><td>Changsha </td><td>China</td><td>2013</td><td>2017</td><td>452.1 m / 1,483 ft </td><td>95 </td><td>composite</td><td>4</td></tr>\n",
       "\t<tr><th scope=row>4</th><td>Raffles City Chongqing T4N      </td><td>Chongqing</td><td>China</td><td>2015</td><td>2019</td><td>354.5 m / 1, 163 ft</td><td>74 </td><td>composite</td><td>4</td></tr>\n",
       "\t<tr><th scope=row>5</th><td>Raffles City Chongqing T3N      </td><td>Chongqing</td><td>China</td><td>2013</td><td>2019</td><td>354.6 m / 1,163 ft </td><td>79 </td><td>composite</td><td>6</td></tr>\n",
       "\t<tr><th scope=row>6</th><td>Chongqing World Financial Center</td><td>Chongqing</td><td>China</td><td>2010</td><td>2015</td><td>338.9 m (1,112 ft) </td><td>72 </td><td>composite</td><td>5</td></tr>\n",
       "</tbody>\n",
       "</table>\n"
      ],
      "text/latex": [
       "A data.frame: 6 × 9\n",
       "\\begin{tabular}{r|lllllllll}\n",
       "  & name & city & country & status.started & status.completed & height & floors & material & duration\\\\\n",
       "  & <chr> & <chr> & <chr> & <int> & <int> & <chr> & <chr> & <chr> & <int>\\\\\n",
       "\\hline\n",
       "\t1 & CITIC Tower                      & Beijing   & China & 2012 & 2018 & 528 m / 1,732 ft    & 109 & composite & 6\\\\\n",
       "\t2 & Shimao Hunan Center              & Changsha  & China & 2014 & 2019 & 343 m / 1,125 ft    & 74  & composite & 5\\\\\n",
       "\t3 & Changsha IFS Tower T1            & Changsha  & China & 2013 & 2017 & 452.1 m / 1,483 ft  & 95  & composite & 4\\\\\n",
       "\t4 & Raffles City Chongqing T4N       & Chongqing & China & 2015 & 2019 & 354.5 m / 1, 163 ft & 74  & composite & 4\\\\\n",
       "\t5 & Raffles City Chongqing T3N       & Chongqing & China & 2013 & 2019 & 354.6 m / 1,163 ft  & 79  & composite & 6\\\\\n",
       "\t6 & Chongqing World Financial Center & Chongqing & China & 2010 & 2015 & 338.9 m (1,112 ft)  & 72  & composite & 5\\\\\n",
       "\\end{tabular}\n"
      ],
      "text/markdown": [
       "\n",
       "A data.frame: 6 × 9\n",
       "\n",
       "| <!--/--> | name &lt;chr&gt; | city &lt;chr&gt; | country &lt;chr&gt; | status.started &lt;int&gt; | status.completed &lt;int&gt; | height &lt;chr&gt; | floors &lt;chr&gt; | material &lt;chr&gt; | duration &lt;int&gt; |\n",
       "|---|---|---|---|---|---|---|---|---|---|\n",
       "| 1 | CITIC Tower                      | Beijing   | China | 2012 | 2018 | 528 m / 1,732 ft    | 109 | composite | 6 |\n",
       "| 2 | Shimao Hunan Center              | Changsha  | China | 2014 | 2019 | 343 m / 1,125 ft    | 74  | composite | 5 |\n",
       "| 3 | Changsha IFS Tower T1            | Changsha  | China | 2013 | 2017 | 452.1 m / 1,483 ft  | 95  | composite | 4 |\n",
       "| 4 | Raffles City Chongqing T4N       | Chongqing | China | 2015 | 2019 | 354.5 m / 1, 163 ft | 74  | composite | 4 |\n",
       "| 5 | Raffles City Chongqing T3N       | Chongqing | China | 2013 | 2019 | 354.6 m / 1,163 ft  | 79  | composite | 6 |\n",
       "| 6 | Chongqing World Financial Center | Chongqing | China | 2010 | 2015 | 338.9 m (1,112 ft)  | 72  | composite | 5 |\n",
       "\n"
      ],
      "text/plain": [
       "  name                             city      country status.started\n",
       "1 CITIC Tower                      Beijing   China   2012          \n",
       "2 Shimao Hunan Center              Changsha  China   2014          \n",
       "3 Changsha IFS Tower T1            Changsha  China   2013          \n",
       "4 Raffles City Chongqing T4N       Chongqing China   2015          \n",
       "5 Raffles City Chongqing T3N       Chongqing China   2013          \n",
       "6 Chongqing World Financial Center Chongqing China   2010          \n",
       "  status.completed height              floors material  duration\n",
       "1 2018             528 m / 1,732 ft    109    composite 6       \n",
       "2 2019             343 m / 1,125 ft    74     composite 5       \n",
       "3 2017             452.1 m / 1,483 ft  95     composite 4       \n",
       "4 2019             354.5 m / 1, 163 ft 74     composite 4       \n",
       "5 2019             354.6 m / 1,163 ft  79     composite 6       \n",
       "6 2015             338.9 m (1,112 ft)  72     composite 5       "
      ]
     },
     "metadata": {},
     "output_type": "display_data"
    }
   ],
   "source": [
    "df <- mutate(df, duration=df$status.completed-df$status.started)\n",
    "\n",
    "head(df)"
   ]
  },
  {
   "cell_type": "markdown",
   "id": "ca1c2947-6ae7-4677-a183-d0954daa9e36",
   "metadata": {
    "tags": []
   },
   "source": [
    "**Question 7:** Use the `table` command to determine the distribution of skyscrapers across different countries within the dataset."
   ]
  },
  {
   "cell_type": "code",
   "execution_count": 9,
   "id": "5c76fbf4-9495-4dab-a411-04048f10059b",
   "metadata": {
    "tags": [],
    "vscode": {
     "languageId": "r"
    }
   },
   "outputs": [
    {
     "data": {
      "text/plain": [
       "\n",
       "                   China                  Germany                   Kuwait \n",
       "                      51                        1                        1 \n",
       "                 Malasya                 Malaysia                   Russia \n",
       "                       2                        2                        5 \n",
       "            Saudi Arabia              South Korea                    Spain \n",
       "                       2                        3                        1 \n",
       "                  Taiwan     United Arab Emarites     United Arab Emirates \n",
       "                       2                        2                       14 \n",
       "United States of America                  Vietnam \n",
       "                      15                        1 "
      ]
     },
     "metadata": {},
     "output_type": "display_data"
    }
   ],
   "source": [
    "table(df$country)\n"
   ]
  },
  {
   "cell_type": "markdown",
   "id": "f5e903ee-41a8-4fba-a79a-63ff5d1d6f96",
   "metadata": {},
   "source": [
    "**Question 8:** Create a new dataframe that includes only those countries with more than 10 skyscrapers in the dataset. Store the result in a new dataframe.\n",
    "\n",
    "**Note:** Assign the output to a variable of your choice, but **do not overwrite the existing** `df` dataframe."
   ]
  },
  {
   "cell_type": "code",
   "execution_count": 10,
   "id": "1077d663-8f87-421e-8f6a-0a3f7e59def8",
   "metadata": {
    "tags": [],
    "vscode": {
     "languageId": "r"
    }
   },
   "outputs": [
    {
     "data": {
      "text/html": [
       "<table class=\"dataframe\">\n",
       "<caption>A data.frame: 6 × 9</caption>\n",
       "<thead>\n",
       "\t<tr><th></th><th scope=col>name</th><th scope=col>city</th><th scope=col>country</th><th scope=col>status.started</th><th scope=col>status.completed</th><th scope=col>height</th><th scope=col>floors</th><th scope=col>material</th><th scope=col>duration</th></tr>\n",
       "\t<tr><th></th><th scope=col>&lt;chr&gt;</th><th scope=col>&lt;chr&gt;</th><th scope=col>&lt;chr&gt;</th><th scope=col>&lt;int&gt;</th><th scope=col>&lt;int&gt;</th><th scope=col>&lt;chr&gt;</th><th scope=col>&lt;chr&gt;</th><th scope=col>&lt;chr&gt;</th><th scope=col>&lt;int&gt;</th></tr>\n",
       "</thead>\n",
       "<tbody>\n",
       "\t<tr><th scope=row>1</th><td>CITIC Tower                     </td><td>Beijing  </td><td>China</td><td>2012</td><td>2018</td><td>528 m / 1,732 ft   </td><td>109</td><td>composite</td><td>6</td></tr>\n",
       "\t<tr><th scope=row>2</th><td>Shimao Hunan Center             </td><td>Changsha </td><td>China</td><td>2014</td><td>2019</td><td>343 m / 1,125 ft   </td><td>74 </td><td>composite</td><td>5</td></tr>\n",
       "\t<tr><th scope=row>3</th><td>Changsha IFS Tower T1           </td><td>Changsha </td><td>China</td><td>2013</td><td>2017</td><td>452.1 m / 1,483 ft </td><td>95 </td><td>composite</td><td>4</td></tr>\n",
       "\t<tr><th scope=row>4</th><td>Raffles City Chongqing T4N      </td><td>Chongqing</td><td>China</td><td>2015</td><td>2019</td><td>354.5 m / 1, 163 ft</td><td>74 </td><td>composite</td><td>4</td></tr>\n",
       "\t<tr><th scope=row>5</th><td>Raffles City Chongqing T3N      </td><td>Chongqing</td><td>China</td><td>2013</td><td>2019</td><td>354.6 m / 1,163 ft </td><td>79 </td><td>composite</td><td>6</td></tr>\n",
       "\t<tr><th scope=row>6</th><td>Chongqing World Financial Center</td><td>Chongqing</td><td>China</td><td>2010</td><td>2015</td><td>338.9 m (1,112 ft) </td><td>72 </td><td>composite</td><td>5</td></tr>\n",
       "</tbody>\n",
       "</table>\n"
      ],
      "text/latex": [
       "A data.frame: 6 × 9\n",
       "\\begin{tabular}{r|lllllllll}\n",
       "  & name & city & country & status.started & status.completed & height & floors & material & duration\\\\\n",
       "  & <chr> & <chr> & <chr> & <int> & <int> & <chr> & <chr> & <chr> & <int>\\\\\n",
       "\\hline\n",
       "\t1 & CITIC Tower                      & Beijing   & China & 2012 & 2018 & 528 m / 1,732 ft    & 109 & composite & 6\\\\\n",
       "\t2 & Shimao Hunan Center              & Changsha  & China & 2014 & 2019 & 343 m / 1,125 ft    & 74  & composite & 5\\\\\n",
       "\t3 & Changsha IFS Tower T1            & Changsha  & China & 2013 & 2017 & 452.1 m / 1,483 ft  & 95  & composite & 4\\\\\n",
       "\t4 & Raffles City Chongqing T4N       & Chongqing & China & 2015 & 2019 & 354.5 m / 1, 163 ft & 74  & composite & 4\\\\\n",
       "\t5 & Raffles City Chongqing T3N       & Chongqing & China & 2013 & 2019 & 354.6 m / 1,163 ft  & 79  & composite & 6\\\\\n",
       "\t6 & Chongqing World Financial Center & Chongqing & China & 2010 & 2015 & 338.9 m (1,112 ft)  & 72  & composite & 5\\\\\n",
       "\\end{tabular}\n"
      ],
      "text/markdown": [
       "\n",
       "A data.frame: 6 × 9\n",
       "\n",
       "| <!--/--> | name &lt;chr&gt; | city &lt;chr&gt; | country &lt;chr&gt; | status.started &lt;int&gt; | status.completed &lt;int&gt; | height &lt;chr&gt; | floors &lt;chr&gt; | material &lt;chr&gt; | duration &lt;int&gt; |\n",
       "|---|---|---|---|---|---|---|---|---|---|\n",
       "| 1 | CITIC Tower                      | Beijing   | China | 2012 | 2018 | 528 m / 1,732 ft    | 109 | composite | 6 |\n",
       "| 2 | Shimao Hunan Center              | Changsha  | China | 2014 | 2019 | 343 m / 1,125 ft    | 74  | composite | 5 |\n",
       "| 3 | Changsha IFS Tower T1            | Changsha  | China | 2013 | 2017 | 452.1 m / 1,483 ft  | 95  | composite | 4 |\n",
       "| 4 | Raffles City Chongqing T4N       | Chongqing | China | 2015 | 2019 | 354.5 m / 1, 163 ft | 74  | composite | 4 |\n",
       "| 5 | Raffles City Chongqing T3N       | Chongqing | China | 2013 | 2019 | 354.6 m / 1,163 ft  | 79  | composite | 6 |\n",
       "| 6 | Chongqing World Financial Center | Chongqing | China | 2010 | 2015 | 338.9 m (1,112 ft)  | 72  | composite | 5 |\n",
       "\n"
      ],
      "text/plain": [
       "  name                             city      country status.started\n",
       "1 CITIC Tower                      Beijing   China   2012          \n",
       "2 Shimao Hunan Center              Changsha  China   2014          \n",
       "3 Changsha IFS Tower T1            Changsha  China   2013          \n",
       "4 Raffles City Chongqing T4N       Chongqing China   2015          \n",
       "5 Raffles City Chongqing T3N       Chongqing China   2013          \n",
       "6 Chongqing World Financial Center Chongqing China   2010          \n",
       "  status.completed height              floors material  duration\n",
       "1 2018             528 m / 1,732 ft    109    composite 6       \n",
       "2 2019             343 m / 1,125 ft    74     composite 5       \n",
       "3 2017             452.1 m / 1,483 ft  95     composite 4       \n",
       "4 2019             354.5 m / 1, 163 ft 74     composite 4       \n",
       "5 2019             354.6 m / 1,163 ft  79     composite 6       \n",
       "6 2015             338.9 m (1,112 ft)  72     composite 5       "
      ]
     },
     "metadata": {},
     "output_type": "display_data"
    }
   ],
   "source": [
    "country_distribution <- filter(df, country == \"China\" | country == \"United States of America\" | country == \"United Arab Emarites\" | country == \"United Arab Emirates\")\n",
    "\n",
    "head(country_distribution)"
   ]
  },
  {
   "cell_type": "markdown",
   "id": "abcf4865-d570-4394-8075-5ea954ac0c98",
   "metadata": {},
   "source": [
    "To visualize the variation in construction durations across different countries within your dataframe, we'll use the `ggformula` package. This package augments `ggplot2` by offering a formula-based approach to data visualization. Specifically, we'll use the `gf_boxplot` function. A box plot is a straightforward and effective way to compare the spread and central tendencies of duration times among different countries.\n",
    "\n",
    "To learn more about how to use the `ggformula` interface you read the official documentation [**here**](http://cran.nexr.com/web/packages/ggformula/ggformula.pdf) or you can look a summary of the key feartures by [**reading a conversation I had with ChatGPT**](https://docs.google.com/document/d/1OCUUGkEbXDEk0VOxoDAYXaT2IuvVUW8q4RiEIcq0FV0/edit).\n",
    "\n",
    "Run the cell below to load the `ggformula` package."
   ]
  },
  {
   "cell_type": "code",
   "execution_count": 11,
   "id": "683350d3-b750-49de-b232-c292a32941cf",
   "metadata": {
    "tags": [],
    "vscode": {
     "languageId": "r"
    }
   },
   "outputs": [
    {
     "name": "stderr",
     "output_type": "stream",
     "text": [
      "Loading required package: ggplot2\n",
      "\n",
      "Loading required package: ggstance\n",
      "\n",
      "\n",
      "Attaching package: ‘ggstance’\n",
      "\n",
      "\n",
      "The following objects are masked from ‘package:ggplot2’:\n",
      "\n",
      "    geom_errorbarh, GeomErrorbarh\n",
      "\n",
      "\n",
      "Loading required package: scales\n",
      "\n",
      "Loading required package: ggridges\n",
      "\n",
      "\n",
      "New to ggformula?  Try the tutorials: \n",
      "\tlearnr::run_tutorial(\"introduction\", package = \"ggformula\")\n",
      "\tlearnr::run_tutorial(\"refining\", package = \"ggformula\")\n",
      "\n"
     ]
    }
   ],
   "source": [
    "library(ggformula)"
   ]
  },
  {
   "cell_type": "markdown",
   "id": "4c35c0a3-10c4-4a7b-9ec1-361a5eef3d75",
   "metadata": {},
   "source": [
    "Run the code cell below, substituting `<the name of your dataframe>` with the actual name of your subset dataframe specified in **Question 8**. Ensure you correctly set this name as the value for the parameter data - meaning \n",
    "\n",
    "```\n",
    "data=<the name of your dataframe>\n",
    "```"
   ]
  },
  {
   "cell_type": "code",
   "execution_count": 12,
   "id": "352efc62-8aba-479c-beb2-3545c98f40fd",
   "metadata": {
    "tags": [],
    "vscode": {
     "languageId": "r"
    }
   },
   "outputs": [
    {
     "data": {
      "image/png": "[encoded data removed]",
      "text/plain": [
       "plot without title"
      ]
     },
     "metadata": {
      "image/png": {
       "height": 420,
       "width": 420
      }
     },
     "output_type": "display_data"
    }
   ],
   "source": [
    "gf_boxplot(duration ~ country, data=country_distribution)"
   ]
  },
  {
   "cell_type": "markdown",
   "id": "d6346368-b66c-48ea-9e36-8d4e2a54ce10",
   "metadata": {},
   "source": [
    "If you want to change the colors all you need to do is add \n",
    "\n",
    "```\n",
    "color=\"black\", fill=\"lightblue\"\n",
    "```\n",
    "\n",
    "where in this context, `color` refers to the color used for the outline of the shape, while `fill` specifies the color inside the shape.\n",
    "\n",
    "A list of colors can be found [**here**](https://stat.columbia.edu/~tzheng/files/Rcolor.pdf).\n",
    "\n",
    "Run the code cell below, substituting `<the name of your dataframe>` with the actual name of your subset dataframe specified in **Question 8**. Ensure you correctly set this name as the value for the parameter data - meaning \n",
    "\n",
    "```\n",
    "data=<the name of your dataframe>\n",
    "```"
   ]
  },
  {
   "cell_type": "code",
   "execution_count": 13,
   "id": "49ce4625-8a5c-4e5c-8a3b-867489e862eb",
   "metadata": {
    "tags": [],
    "vscode": {
     "languageId": "r"
    }
   },
   "outputs": [
    {
     "data": {
      "image/png": "[encoded data removed]",
      "text/plain": [
       "plot without title"
      ]
     },
     "metadata": {
      "image/png": {
       "height": 420,
       "width": 420
      }
     },
     "output_type": "display_data"
    }
   ],
   "source": [
    "gf_boxplot(duration ~ country, data=country_distribution, color=\"black\", fill=\"light blue\")"
   ]
  },
  {
   "cell_type": "markdown",
   "id": "121ce93b-48ad-45ed-9c40-560368e8d2fb",
   "metadata": {},
   "source": [
    "To explore the distribution of floor counts in your dataframe, we'll utilize the `gf_histogram` function. Frist, let's review all the values from the original `skyscrapers` dataframe."
   ]
  },
  {
   "cell_type": "code",
   "execution_count": 14,
   "id": "ca45cc07-137b-438b-a7ac-1968261b4f6c",
   "metadata": {
    "tags": [],
    "vscode": {
     "languageId": "r"
    }
   },
   "outputs": [
    {
     "data": {
      "text/html": [
       "<style>\n",
       ".list-inline {list-style: none; margin:0; padding: 0}\n",
       ".list-inline>li {display: inline-block}\n",
       ".list-inline>li:not(:last-child)::after {content: \"\\00b7\"; padding: 0 .5ex}\n",
       "</style>\n",
       "<ol class=list-inline><li>'109'</li><li>'74'</li><li>'95'</li><li>'74'</li><li>'79'</li><li>'72'</li><li>'80'</li><li>'86'</li><li>'88'</li><li>'111'</li><li>'111'</li><li>'80'</li><li>'80'</li><li>'79'</li><li>'74'</li><li>'74'</li><li>'108'</li><li>'88'</li><li>'73'</li><li>'79'</li><li>'72'</li><li>'69'</li><li>'61'</li><li>'77'</li><li>'66'</li><li>'82'</li><li>'87'</li><li>'73'</li><li>'128'</li><li>'60'</li><li>'101'</li><li>'88'</li><li>'68'</li><li>'71'</li><li>'80'</li><li>'65'</li><li>'70'</li><li>'115'</li><li>'98'</li><li>'69'</li><li>'95'</li><li>'97'</li><li>'65'</li><li>'75'</li><li>'60'</li><li>'73'</li><li>'88'</li><li>'68'</li><li>'75'</li><li>'69'</li><li>'68'</li><li>'56'</li><li>'80'</li><li>'88'</li><li>'88'</li><li>'74'</li><li>'96'</li><li>'79'</li><li>'85'</li><li>'75'</li><li>'97'</li><li>'87'</li><li>'120'</li><li>'72'</li><li>'101'</li><li>'85'</li><li>'123'</li><li>'50'</li><li>'85'</li><li>'101'</li><li>'39'</li><li>'88'</li><li>'65'</li><li>'88'</li><li>'78'</li><li>'72'</li><li>'88'</li><li>'86'</li><li>'91'</li><li>'101'</li><li>'101'</li><li>'73 (68 Above Ground and 5 Below Ground)'</li><li>'75'</li><li>'54'</li><li>'82'</li><li>'82'</li><li>'103 floors'</li><li>'101'</li><li>'100'</li><li>'110'</li><li>'62'</li><li>'62'</li><li>'84'</li><li>'73'</li><li>'98'</li><li>'85'</li><li>'94'</li><li>'72'</li><li>'59'</li><li>'100'</li><li>'88'</li><li>'81'</li></ol>\n"
      ],
      "text/latex": [
       "\\begin{enumerate*}\n",
       "\\item '109'\n",
       "\\item '74'\n",
       "\\item '95'\n",
       "\\item '74'\n",
       "\\item '79'\n",
       "\\item '72'\n",
       "\\item '80'\n",
       "\\item '86'\n",
       "\\item '88'\n",
       "\\item '111'\n",
       "\\item '111'\n",
       "\\item '80'\n",
       "\\item '80'\n",
       "\\item '79'\n",
       "\\item '74'\n",
       "\\item '74'\n",
       "\\item '108'\n",
       "\\item '88'\n",
       "\\item '73'\n",
       "\\item '79'\n",
       "\\item '72'\n",
       "\\item '69'\n",
       "\\item '61'\n",
       "\\item '77'\n",
       "\\item '66'\n",
       "\\item '82'\n",
       "\\item '87'\n",
       "\\item '73'\n",
       "\\item '128'\n",
       "\\item '60'\n",
       "\\item '101'\n",
       "\\item '88'\n",
       "\\item '68'\n",
       "\\item '71'\n",
       "\\item '80'\n",
       "\\item '65'\n",
       "\\item '70'\n",
       "\\item '115'\n",
       "\\item '98'\n",
       "\\item '69'\n",
       "\\item '95'\n",
       "\\item '97'\n",
       "\\item '65'\n",
       "\\item '75'\n",
       "\\item '60'\n",
       "\\item '73'\n",
       "\\item '88'\n",
       "\\item '68'\n",
       "\\item '75'\n",
       "\\item '69'\n",
       "\\item '68'\n",
       "\\item '56'\n",
       "\\item '80'\n",
       "\\item '88'\n",
       "\\item '88'\n",
       "\\item '74'\n",
       "\\item '96'\n",
       "\\item '79'\n",
       "\\item '85'\n",
       "\\item '75'\n",
       "\\item '97'\n",
       "\\item '87'\n",
       "\\item '120'\n",
       "\\item '72'\n",
       "\\item '101'\n",
       "\\item '85'\n",
       "\\item '123'\n",
       "\\item '50'\n",
       "\\item '85'\n",
       "\\item '101'\n",
       "\\item '39'\n",
       "\\item '88'\n",
       "\\item '65'\n",
       "\\item '88'\n",
       "\\item '78'\n",
       "\\item '72'\n",
       "\\item '88'\n",
       "\\item '86'\n",
       "\\item '91'\n",
       "\\item '101'\n",
       "\\item '101'\n",
       "\\item '73 (68 Above Ground and 5 Below Ground)'\n",
       "\\item '75'\n",
       "\\item '54'\n",
       "\\item '82'\n",
       "\\item '82'\n",
       "\\item '103 floors'\n",
       "\\item '101'\n",
       "\\item '100'\n",
       "\\item '110'\n",
       "\\item '62'\n",
       "\\item '62'\n",
       "\\item '84'\n",
       "\\item '73'\n",
       "\\item '98'\n",
       "\\item '85'\n",
       "\\item '94'\n",
       "\\item '72'\n",
       "\\item '59'\n",
       "\\item '100'\n",
       "\\item '88'\n",
       "\\item '81'\n",
       "\\end{enumerate*}\n"
      ],
      "text/markdown": [
       "1. '109'\n",
       "2. '74'\n",
       "3. '95'\n",
       "4. '74'\n",
       "5. '79'\n",
       "6. '72'\n",
       "7. '80'\n",
       "8. '86'\n",
       "9. '88'\n",
       "10. '111'\n",
       "11. '111'\n",
       "12. '80'\n",
       "13. '80'\n",
       "14. '79'\n",
       "15. '74'\n",
       "16. '74'\n",
       "17. '108'\n",
       "18. '88'\n",
       "19. '73'\n",
       "20. '79'\n",
       "21. '72'\n",
       "22. '69'\n",
       "23. '61'\n",
       "24. '77'\n",
       "25. '66'\n",
       "26. '82'\n",
       "27. '87'\n",
       "28. '73'\n",
       "29. '128'\n",
       "30. '60'\n",
       "31. '101'\n",
       "32. '88'\n",
       "33. '68'\n",
       "34. '71'\n",
       "35. '80'\n",
       "36. '65'\n",
       "37. '70'\n",
       "38. '115'\n",
       "39. '98'\n",
       "40. '69'\n",
       "41. '95'\n",
       "42. '97'\n",
       "43. '65'\n",
       "44. '75'\n",
       "45. '60'\n",
       "46. '73'\n",
       "47. '88'\n",
       "48. '68'\n",
       "49. '75'\n",
       "50. '69'\n",
       "51. '68'\n",
       "52. '56'\n",
       "53. '80'\n",
       "54. '88'\n",
       "55. '88'\n",
       "56. '74'\n",
       "57. '96'\n",
       "58. '79'\n",
       "59. '85'\n",
       "60. '75'\n",
       "61. '97'\n",
       "62. '87'\n",
       "63. '120'\n",
       "64. '72'\n",
       "65. '101'\n",
       "66. '85'\n",
       "67. '123'\n",
       "68. '50'\n",
       "69. '85'\n",
       "70. '101'\n",
       "71. '39'\n",
       "72. '88'\n",
       "73. '65'\n",
       "74. '88'\n",
       "75. '78'\n",
       "76. '72'\n",
       "77. '88'\n",
       "78. '86'\n",
       "79. '91'\n",
       "80. '101'\n",
       "81. '101'\n",
       "82. '73 (68 Above Ground and 5 Below Ground)'\n",
       "83. '75'\n",
       "84. '54'\n",
       "85. '82'\n",
       "86. '82'\n",
       "87. '103 floors'\n",
       "88. '101'\n",
       "89. '100'\n",
       "90. '110'\n",
       "91. '62'\n",
       "92. '62'\n",
       "93. '84'\n",
       "94. '73'\n",
       "95. '98'\n",
       "96. '85'\n",
       "97. '94'\n",
       "98. '72'\n",
       "99. '59'\n",
       "100. '100'\n",
       "101. '88'\n",
       "102. '81'\n",
       "\n",
       "\n"
      ],
      "text/plain": [
       "  [1] \"109\"                                    \n",
       "  [2] \"74\"                                     \n",
       "  [3] \"95\"                                     \n",
       "  [4] \"74\"                                     \n",
       "  [5] \"79\"                                     \n",
       "  [6] \"72\"                                     \n",
       "  [7] \"80\"                                     \n",
       "  [8] \"86\"                                     \n",
       "  [9] \"88\"                                     \n",
       " [10] \"111\"                                    \n",
       " [11] \"111\"                                    \n",
       " [12] \"80\"                                     \n",
       " [13] \"80\"                                     \n",
       " [14] \"79\"                                     \n",
       " [15] \"74\"                                     \n",
       " [16] \"74\"                                     \n",
       " [17] \"108\"                                    \n",
       " [18] \"88\"                                     \n",
       " [19] \"73\"                                     \n",
       " [20] \"79\"                                     \n",
       " [21] \"72\"                                     \n",
       " [22] \"69\"                                     \n",
       " [23] \"61\"                                     \n",
       " [24] \"77\"                                     \n",
       " [25] \"66\"                                     \n",
       " [26] \"82\"                                     \n",
       " [27] \"87\"                                     \n",
       " [28] \"73\"                                     \n",
       " [29] \"128\"                                    \n",
       " [30] \"60\"                                     \n",
       " [31] \"101\"                                    \n",
       " [32] \"88\"                                     \n",
       " [33] \"68\"                                     \n",
       " [34] \"71\"                                     \n",
       " [35] \"80\"                                     \n",
       " [36] \"65\"                                     \n",
       " [37] \"70\"                                     \n",
       " [38] \"115\"                                    \n",
       " [39] \"98\"                                     \n",
       " [40] \"69\"                                     \n",
       " [41] \"95\"                                     \n",
       " [42] \"97\"                                     \n",
       " [43] \"65\"                                     \n",
       " [44] \"75\"                                     \n",
       " [45] \"60\"                                     \n",
       " [46] \"73\"                                     \n",
       " [47] \"88\"                                     \n",
       " [48] \"68\"                                     \n",
       " [49] \"75\"                                     \n",
       " [50] \"69\"                                     \n",
       " [51] \"68\"                                     \n",
       " [52] \"56\"                                     \n",
       " [53] \"80\"                                     \n",
       " [54] \"88\"                                     \n",
       " [55] \"88\"                                     \n",
       " [56] \"74\"                                     \n",
       " [57] \"96\"                                     \n",
       " [58] \"79\"                                     \n",
       " [59] \"85\"                                     \n",
       " [60] \"75\"                                     \n",
       " [61] \"97\"                                     \n",
       " [62] \"87\"                                     \n",
       " [63] \"120\"                                    \n",
       " [64] \"72\"                                     \n",
       " [65] \"101\"                                    \n",
       " [66] \"85\"                                     \n",
       " [67] \"123\"                                    \n",
       " [68] \"50\"                                     \n",
       " [69] \"85\"                                     \n",
       " [70] \"101\"                                    \n",
       " [71] \"39\"                                     \n",
       " [72] \"88\"                                     \n",
       " [73] \"65\"                                     \n",
       " [74] \"88\"                                     \n",
       " [75] \"78\"                                     \n",
       " [76] \"72\"                                     \n",
       " [77] \"88\"                                     \n",
       " [78] \"86\"                                     \n",
       " [79] \"91\"                                     \n",
       " [80] \"101\"                                    \n",
       " [81] \"101\"                                    \n",
       " [82] \"73 (68 Above Ground and 5 Below Ground)\"\n",
       " [83] \"75\"                                     \n",
       " [84] \"54\"                                     \n",
       " [85] \"82\"                                     \n",
       " [86] \"82\"                                     \n",
       " [87] \"103 floors\"                             \n",
       " [88] \"101\"                                    \n",
       " [89] \"100\"                                    \n",
       " [90] \"110\"                                    \n",
       " [91] \"62\"                                     \n",
       " [92] \"62\"                                     \n",
       " [93] \"84\"                                     \n",
       " [94] \"73\"                                     \n",
       " [95] \"98\"                                     \n",
       " [96] \"85\"                                     \n",
       " [97] \"94\"                                     \n",
       " [98] \"72\"                                     \n",
       " [99] \"59\"                                     \n",
       "[100] \"100\"                                    \n",
       "[101] \"88\"                                     \n",
       "[102] \"81\"                                     "
      ]
     },
     "metadata": {},
     "output_type": "display_data"
    }
   ],
   "source": [
    "skyscrapers$floors"
   ]
  },
  {
   "cell_type": "markdown",
   "id": "831927e5-b71a-4a89-9f7b-51aaba0feb17",
   "metadata": {},
   "source": [
    "Observe that the data is currently stored as strings. To analyze it numerically, we need to convert the data type from string to numeric. This conversion can be achieved using the `as.numeric` function. Here’s a helpful hint:\n",
    "\n",
    "```\n",
    "# Assuming your dataframe is named df and the \n",
    "# column you're converting is named \"myColumn\"\n",
    "df$myColumn <- as.numeric(df$myColumn)\n",
    "\n",
    "# or if you prefer tidyverse syntax, you can use mutate from dplyr\n",
    "df <- df %>% mutate(myColumn = as.numeric(myColumn))\n",
    "```"
   ]
  },
  {
   "cell_type": "markdown",
   "id": "f508cf07-ecc6-4952-be79-93cde581331b",
   "metadata": {
    "tags": []
   },
   "source": [
    "**Question 9.** Change the data type of the `floors` column from string to numeric."
   ]
  },
  {
   "cell_type": "code",
   "execution_count": 15,
   "id": "5ecb7ddb-1469-4c40-84e6-d6ddbcb0ea4f",
   "metadata": {
    "vscode": {
     "languageId": "r"
    }
   },
   "outputs": [
    {
     "name": "stderr",
     "output_type": "stream",
     "text": [
      "Warning message in eval(expr, envir, enclos):\n",
      "“NAs introduced by coercion”\n"
     ]
    }
   ],
   "source": [
    "df$floors <- as.numeric(df$floors)"
   ]
  },
  {
   "cell_type": "code",
   "execution_count": 16,
   "id": "f6f97f4c-7499-4837-a85d-f60a85b726a9",
   "metadata": {},
   "outputs": [
    {
     "data": {
      "text/html": [
       "<style>\n",
       ".list-inline {list-style: none; margin:0; padding: 0}\n",
       ".list-inline>li {display: inline-block}\n",
       ".list-inline>li:not(:last-child)::after {content: \"\\00b7\"; padding: 0 .5ex}\n",
       "</style>\n",
       "<ol class=list-inline><li>109</li><li>74</li><li>95</li><li>74</li><li>79</li><li>72</li><li>80</li><li>86</li><li>88</li><li>111</li><li>111</li><li>80</li><li>80</li><li>79</li><li>74</li><li>74</li><li>108</li><li>88</li><li>73</li><li>79</li><li>72</li><li>69</li><li>61</li><li>77</li><li>66</li><li>82</li><li>87</li><li>73</li><li>128</li><li>60</li><li>101</li><li>88</li><li>68</li><li>71</li><li>80</li><li>65</li><li>70</li><li>115</li><li>98</li><li>69</li><li>95</li><li>97</li><li>65</li><li>75</li><li>60</li><li>73</li><li>88</li><li>68</li><li>75</li><li>69</li><li>68</li><li>56</li><li>80</li><li>88</li><li>88</li><li>74</li><li>96</li><li>79</li><li>85</li><li>75</li><li>97</li><li>87</li><li>120</li><li>72</li><li>101</li><li>85</li><li>123</li><li>50</li><li>85</li><li>101</li><li>39</li><li>88</li><li>65</li><li>88</li><li>78</li><li>72</li><li>88</li><li>86</li><li>91</li><li>101</li><li>101</li><li>&lt;NA&gt;</li><li>75</li><li>54</li><li>82</li><li>82</li><li>&lt;NA&gt;</li><li>101</li><li>100</li><li>110</li><li>62</li><li>62</li><li>84</li><li>73</li><li>98</li><li>85</li><li>94</li><li>72</li><li>59</li><li>100</li><li>88</li><li>81</li></ol>\n"
      ],
      "text/latex": [
       "\\begin{enumerate*}\n",
       "\\item 109\n",
       "\\item 74\n",
       "\\item 95\n",
       "\\item 74\n",
       "\\item 79\n",
       "\\item 72\n",
       "\\item 80\n",
       "\\item 86\n",
       "\\item 88\n",
       "\\item 111\n",
       "\\item 111\n",
       "\\item 80\n",
       "\\item 80\n",
       "\\item 79\n",
       "\\item 74\n",
       "\\item 74\n",
       "\\item 108\n",
       "\\item 88\n",
       "\\item 73\n",
       "\\item 79\n",
       "\\item 72\n",
       "\\item 69\n",
       "\\item 61\n",
       "\\item 77\n",
       "\\item 66\n",
       "\\item 82\n",
       "\\item 87\n",
       "\\item 73\n",
       "\\item 128\n",
       "\\item 60\n",
       "\\item 101\n",
       "\\item 88\n",
       "\\item 68\n",
       "\\item 71\n",
       "\\item 80\n",
       "\\item 65\n",
       "\\item 70\n",
       "\\item 115\n",
       "\\item 98\n",
       "\\item 69\n",
       "\\item 95\n",
       "\\item 97\n",
       "\\item 65\n",
       "\\item 75\n",
       "\\item 60\n",
       "\\item 73\n",
       "\\item 88\n",
       "\\item 68\n",
       "\\item 75\n",
       "\\item 69\n",
       "\\item 68\n",
       "\\item 56\n",
       "\\item 80\n",
       "\\item 88\n",
       "\\item 88\n",
       "\\item 74\n",
       "\\item 96\n",
       "\\item 79\n",
       "\\item 85\n",
       "\\item 75\n",
       "\\item 97\n",
       "\\item 87\n",
       "\\item 120\n",
       "\\item 72\n",
       "\\item 101\n",
       "\\item 85\n",
       "\\item 123\n",
       "\\item 50\n",
       "\\item 85\n",
       "\\item 101\n",
       "\\item 39\n",
       "\\item 88\n",
       "\\item 65\n",
       "\\item 88\n",
       "\\item 78\n",
       "\\item 72\n",
       "\\item 88\n",
       "\\item 86\n",
       "\\item 91\n",
       "\\item 101\n",
       "\\item 101\n",
       "\\item <NA>\n",
       "\\item 75\n",
       "\\item 54\n",
       "\\item 82\n",
       "\\item 82\n",
       "\\item <NA>\n",
       "\\item 101\n",
       "\\item 100\n",
       "\\item 110\n",
       "\\item 62\n",
       "\\item 62\n",
       "\\item 84\n",
       "\\item 73\n",
       "\\item 98\n",
       "\\item 85\n",
       "\\item 94\n",
       "\\item 72\n",
       "\\item 59\n",
       "\\item 100\n",
       "\\item 88\n",
       "\\item 81\n",
       "\\end{enumerate*}\n"
      ],
      "text/markdown": [
       "1. 109\n",
       "2. 74\n",
       "3. 95\n",
       "4. 74\n",
       "5. 79\n",
       "6. 72\n",
       "7. 80\n",
       "8. 86\n",
       "9. 88\n",
       "10. 111\n",
       "11. 111\n",
       "12. 80\n",
       "13. 80\n",
       "14. 79\n",
       "15. 74\n",
       "16. 74\n",
       "17. 108\n",
       "18. 88\n",
       "19. 73\n",
       "20. 79\n",
       "21. 72\n",
       "22. 69\n",
       "23. 61\n",
       "24. 77\n",
       "25. 66\n",
       "26. 82\n",
       "27. 87\n",
       "28. 73\n",
       "29. 128\n",
       "30. 60\n",
       "31. 101\n",
       "32. 88\n",
       "33. 68\n",
       "34. 71\n",
       "35. 80\n",
       "36. 65\n",
       "37. 70\n",
       "38. 115\n",
       "39. 98\n",
       "40. 69\n",
       "41. 95\n",
       "42. 97\n",
       "43. 65\n",
       "44. 75\n",
       "45. 60\n",
       "46. 73\n",
       "47. 88\n",
       "48. 68\n",
       "49. 75\n",
       "50. 69\n",
       "51. 68\n",
       "52. 56\n",
       "53. 80\n",
       "54. 88\n",
       "55. 88\n",
       "56. 74\n",
       "57. 96\n",
       "58. 79\n",
       "59. 85\n",
       "60. 75\n",
       "61. 97\n",
       "62. 87\n",
       "63. 120\n",
       "64. 72\n",
       "65. 101\n",
       "66. 85\n",
       "67. 123\n",
       "68. 50\n",
       "69. 85\n",
       "70. 101\n",
       "71. 39\n",
       "72. 88\n",
       "73. 65\n",
       "74. 88\n",
       "75. 78\n",
       "76. 72\n",
       "77. 88\n",
       "78. 86\n",
       "79. 91\n",
       "80. 101\n",
       "81. 101\n",
       "82. &lt;NA&gt;\n",
       "83. 75\n",
       "84. 54\n",
       "85. 82\n",
       "86. 82\n",
       "87. &lt;NA&gt;\n",
       "88. 101\n",
       "89. 100\n",
       "90. 110\n",
       "91. 62\n",
       "92. 62\n",
       "93. 84\n",
       "94. 73\n",
       "95. 98\n",
       "96. 85\n",
       "97. 94\n",
       "98. 72\n",
       "99. 59\n",
       "100. 100\n",
       "101. 88\n",
       "102. 81\n",
       "\n",
       "\n"
      ],
      "text/plain": [
       "  [1] 109  74  95  74  79  72  80  86  88 111 111  80  80  79  74  74 108  88\n",
       " [19]  73  79  72  69  61  77  66  82  87  73 128  60 101  88  68  71  80  65\n",
       " [37]  70 115  98  69  95  97  65  75  60  73  88  68  75  69  68  56  80  88\n",
       " [55]  88  74  96  79  85  75  97  87 120  72 101  85 123  50  85 101  39  88\n",
       " [73]  65  88  78  72  88  86  91 101 101  NA  75  54  82  82  NA 101 100 110\n",
       " [91]  62  62  84  73  98  85  94  72  59 100  88  81"
      ]
     },
     "metadata": {},
     "output_type": "display_data"
    }
   ],
   "source": [
    "df$floors"
   ]
  },
  {
   "cell_type": "markdown",
   "id": "5d34d4d8-c817-4d7f-abc5-6c33cecc6cc6",
   "metadata": {},
   "source": [
    "You should see a warning message that says \n",
    "\n",
    "<div style=\"background-color:pink; color:black; padding:5px; width:100%;\">\n",
    "<strong>Warning message in eval(expr, envir, enclos):</strong><br> “NAs introduced by coercion”\n",
    "</div><br>\n",
    "\n",
    "**Important:** Take a moment to think about why this might have happened. Discuss your thoughts with your group members. When you feel confident about your explanation, wave over your instructor and explain what you've discovered."
   ]
  },
  {
   "cell_type": "markdown",
   "id": "9f870d1d-c3bc-4e73-b33f-72f1903771a8",
   "metadata": {},
   "source": [
    "Run the code cell below, substituting `<the name of your dataframe>` with the actual name of your subset dataframe specified in **Question 8**. Ensure you correctly set this name as the value for the parameter data - meaning \n",
    "\n",
    "```\n",
    "data=<the name of your dataframe>\n",
    "```"
   ]
  },
  {
   "cell_type": "code",
   "execution_count": 17,
   "id": "b54fd8e3-e17d-4bd6-9821-e76b18d28da5",
   "metadata": {
    "tags": [],
    "vscode": {
     "languageId": "r"
    }
   },
   "outputs": [
    {
     "name": "stderr",
     "output_type": "stream",
     "text": [
      "Warning message:\n",
      "“\u001b[1m\u001b[22mRemoved 2 rows containing non-finite values (`stat_bin()`).”\n"
     ]
    },
    {
     "data": {
      "image/png": "[encoded data removed]",
      "text/plain": [
       "plot without title"
      ]
     },
     "metadata": {
      "image/png": {
       "height": 420,
       "width": 420
      }
     },
     "output_type": "display_data"
    }
   ],
   "source": [
    "gf_histogram(~floors, data=df, bins=10, color='black', fill='lightblue')"
   ]
  },
  {
   "cell_type": "markdown",
   "id": "d80a171f-1ead-4f8a-abfb-c8e8a554d188",
   "metadata": {},
   "source": [
    "## Data Cleaning\n",
    "\n",
    "Data cleaning is the process of preparing data for analysis by identifying and correcting errors, inconsistencies, and inaccuracies in the data. This includes removing duplicates, correcting typos, handling missing values, and ensuring that the data is in a consistent format. A specific component of data cleaning is calld \"data parsing\" or \"string parsing\".\n",
    "\n",
    "\n",
    "## String Parsing\n",
    "\n",
    "String parsing is the process of analyzing a string of characters, extracting relevant information, and converting it into a format suitable for further processing. This often involves separating the string into components based on specific patterns or delimiters, removing unwanted characters, and transforming the data into a different type, such as converting a numeric string into an integer or decimal number.\n",
    "\n",
    "Suppose we want to construct a histogram and a boxplot for the distribution of heights. This issue we face is that the `height` column is formatted as a string and contains two distinct units of measurement—meters and feet.\n",
    "\n",
    "Let's tackle this issue one step at a time."
   ]
  },
  {
   "cell_type": "markdown",
   "id": "de7362d4-a781-4b2e-89f2-73a1ec1c31da",
   "metadata": {},
   "source": [
    "**Question 10.** First we need to display all the entries in the `height` column to assess and address the discrepancy in format and units. Display all the values in the `height` column using the dataframe you created in **Question 8**. "
   ]
  },
  {
   "cell_type": "code",
   "execution_count": 18,
   "id": "b2949d40-8163-45a3-ad28-2db5fb46ea8c",
   "metadata": {
    "tags": [],
    "vscode": {
     "languageId": "r"
    }
   },
   "outputs": [
    {
     "data": {
      "text/html": [
       "<style>\n",
       ".list-inline {list-style: none; margin:0; padding: 0}\n",
       ".list-inline>li {display: inline-block}\n",
       ".list-inline>li:not(:last-child)::after {content: \"\\00b7\"; padding: 0 .5ex}\n",
       "</style>\n",
       "<ol class=list-inline><li>'528 m / 1,732 ft'</li><li>'343 m / 1,125 ft'</li><li>'452.1 m / 1,483 ft'</li><li>'354.5 m / 1, 163 ft'</li><li>'354.6 m / 1,163 ft'</li><li>'338.9 m (1,112 ft)'</li><li>'283.2 m / 929 feet'</li><li>'360.2 m / 1,214 ft '</li><li>'420.5 m/ 1380 ft'</li><li>'530 m / 1,739 ft'</li><li>'438.6 m / 1,439 ft'</li><li>'350 m / 1,149 ft'</li><li>'390.2 m / 1,280 ft'</li><li>'401.1 m / 1,316 ft'</li><li>'335 m (1,099 ft)'</li><li>'335 m (1,099 ft)'</li><li>'484 m / 1,588ft'</li><li>'412 m / 1,352 ft'</li><li>'345.9 m / 1,135 feet'</li><li>'374 m / 1227 ft'</li><li>'367.4 m / 1,205 ft'</li><li>'339 m / 1,112 ft'</li><li>'349 m / 1,145 ft'</li><li>'368.1 m / 1,207 ft'</li><li>'450 m / 1,476 ft'</li><li>'381.3 m (1251 ft)'</li><li>'402.6 m / 1,321 ft'</li><li>'368.9 m / 1,210 ft'</li><li>'631.8 m / 2073 ft'</li><li>'333.3 m (1,094 ft)'</li><li>'492 m / 1,614 ft'</li><li>'429.6m / 1409.45 ft'</li><li>'35.6 m / 1,150 ft'</li><li>'341.4 m / 1,120 ft'</li><li>'388.1 m / 1,273 ft'</li><li>'358.9 m / 1,177 ft'</li><li>'375.5 m (1,232 ft)'</li><li>'599.1 m / 1965 ft'</li><li>'441.8 meters (1,449 ft)'</li><li>'384 m / 1,260 feet'</li><li>'450m, 1,476 ft'</li><li>'530.4 m / 1,740 ft'</li><li>'338 m (1,109 ft)'</li><li>'336.9 m (1,105 ft)'</li><li>'339 m (1,112 ft)'</li><li>'376 m (1,234 ft)'</li><li>'443.1 m / 1,454 ft'</li><li>'339 m (1,112 ft)'</li><li>'338 m (1,109 ft)'</li><li>'337.7 m (1,108 ft)'</li><li>'392.5 m / 1,288 ft'</li><li>'829.6 m / 2,722 ft'</li><li>'392.4 m / 1,287 ft'</li><li>'342 m / 1122.05 ft '</li><li>'381.2 m (1251 ft)'</li><li>'336 m (1,102 ft)'</li><li>'368 m / 1,207 ft'</li><li>'335.1 m (1,099 ft)'</li><li>'352 m / 1,155 ft'</li><li>'1,248 ft / 380.5 m'</li><li>'425 m / 1,394 ft'</li><li>'413.4 m / 1,356 ft'</li><li>'360 m / 1,181ft'</li><li>'356.3 m / 1,169 ft'</li><li>'354.6 m / 1,163 ft'</li><li>'355.4 m / 1,166 ft '</li><li>'355.4 m / 1,166 ft'</li><li>'380 meters /1,250 feet'</li><li>'362.9 m / 1,191ft'</li><li>'423.2 m / 1,389 feet'</li><li>'442.3 meters (1,451 ft)'</li><li>'335.3 m (1,100 ft)'</li><li>'427 m / 1,401 ft'</li><li>'435 m / 1,.427 ft'</li><li>'387.1 m / 1,270 ft'</li><li>'472.4 m / 1,549 ft'</li><li>'425.7 m / 1,397 ft'</li><li>'541.3 m / 1,776 ft'</li><li>'365.8 m / 1,200 ft'</li><li>'339.1 m / 1,112 ft'</li><li>'343.8 m / 1,128 feet'</li><li>'346.3 / 1,136 feet'</li></ol>\n"
      ],
      "text/latex": [
       "\\begin{enumerate*}\n",
       "\\item '528 m / 1,732 ft'\n",
       "\\item '343 m / 1,125 ft'\n",
       "\\item '452.1 m / 1,483 ft'\n",
       "\\item '354.5 m / 1, 163 ft'\n",
       "\\item '354.6 m / 1,163 ft'\n",
       "\\item '338.9 m (1,112 ft)'\n",
       "\\item '283.2 m / 929 feet'\n",
       "\\item '360.2 m / 1,214 ft '\n",
       "\\item '420.5 m/ 1380 ft'\n",
       "\\item '530 m / 1,739 ft'\n",
       "\\item '438.6 m / 1,439 ft'\n",
       "\\item '350 m / 1,149 ft'\n",
       "\\item '390.2 m / 1,280 ft'\n",
       "\\item '401.1 m / 1,316 ft'\n",
       "\\item '335 m (1,099 ft)'\n",
       "\\item '335 m (1,099 ft)'\n",
       "\\item '484 m / 1,588ft'\n",
       "\\item '412 m / 1,352 ft'\n",
       "\\item '345.9 m / 1,135 feet'\n",
       "\\item '374 m / 1227 ft'\n",
       "\\item '367.4 m / 1,205 ft'\n",
       "\\item '339 m / 1,112 ft'\n",
       "\\item '349 m / 1,145 ft'\n",
       "\\item '368.1 m / 1,207 ft'\n",
       "\\item '450 m / 1,476 ft'\n",
       "\\item '381.3 m (1251 ft)'\n",
       "\\item '402.6 m / 1,321 ft'\n",
       "\\item '368.9 m / 1,210 ft'\n",
       "\\item '631.8 m / 2073 ft'\n",
       "\\item '333.3 m (1,094 ft)'\n",
       "\\item '492 m / 1,614 ft'\n",
       "\\item '429.6m / 1409.45 ft'\n",
       "\\item '35.6 m / 1,150 ft'\n",
       "\\item '341.4 m / 1,120 ft'\n",
       "\\item '388.1 m / 1,273 ft'\n",
       "\\item '358.9 m / 1,177 ft'\n",
       "\\item '375.5 m (1,232 ft)'\n",
       "\\item '599.1 m / 1965 ft'\n",
       "\\item '441.8 meters (1,449 ft)'\n",
       "\\item '384 m / 1,260 feet'\n",
       "\\item '450m, 1,476 ft'\n",
       "\\item '530.4 m / 1,740 ft'\n",
       "\\item '338 m (1,109 ft)'\n",
       "\\item '336.9 m (1,105 ft)'\n",
       "\\item '339 m (1,112 ft)'\n",
       "\\item '376 m (1,234 ft)'\n",
       "\\item '443.1 m / 1,454 ft'\n",
       "\\item '339 m (1,112 ft)'\n",
       "\\item '338 m (1,109 ft)'\n",
       "\\item '337.7 m (1,108 ft)'\n",
       "\\item '392.5 m / 1,288 ft'\n",
       "\\item '829.6 m / 2,722 ft'\n",
       "\\item '392.4 m / 1,287 ft'\n",
       "\\item '342 m / 1122.05 ft '\n",
       "\\item '381.2 m (1251 ft)'\n",
       "\\item '336 m (1,102 ft)'\n",
       "\\item '368 m / 1,207 ft'\n",
       "\\item '335.1 m (1,099 ft)'\n",
       "\\item '352 m / 1,155 ft'\n",
       "\\item '1,248 ft / 380.5 m'\n",
       "\\item '425 m / 1,394 ft'\n",
       "\\item '413.4 m / 1,356 ft'\n",
       "\\item '360 m / 1,181ft'\n",
       "\\item '356.3 m / 1,169 ft'\n",
       "\\item '354.6 m / 1,163 ft'\n",
       "\\item '355.4 m / 1,166 ft '\n",
       "\\item '355.4 m / 1,166 ft'\n",
       "\\item '380 meters /1,250 feet'\n",
       "\\item '362.9 m / 1,191ft'\n",
       "\\item '423.2 m / 1,389 feet'\n",
       "\\item '442.3 meters (1,451 ft)'\n",
       "\\item '335.3 m (1,100 ft)'\n",
       "\\item '427 m / 1,401 ft'\n",
       "\\item '435 m / 1,.427 ft'\n",
       "\\item '387.1 m / 1,270 ft'\n",
       "\\item '472.4 m / 1,549 ft'\n",
       "\\item '425.7 m / 1,397 ft'\n",
       "\\item '541.3 m / 1,776 ft'\n",
       "\\item '365.8 m / 1,200 ft'\n",
       "\\item '339.1 m / 1,112 ft'\n",
       "\\item '343.8 m / 1,128 feet'\n",
       "\\item '346.3 / 1,136 feet'\n",
       "\\end{enumerate*}\n"
      ],
      "text/markdown": [
       "1. '528 m / 1,732 ft'\n",
       "2. '343 m / 1,125 ft'\n",
       "3. '452.1 m / 1,483 ft'\n",
       "4. '354.5 m / 1, 163 ft'\n",
       "5. '354.6 m / 1,163 ft'\n",
       "6. '338.9 m (1,112 ft)'\n",
       "7. '283.2 m / 929 feet'\n",
       "8. '360.2 m / 1,214 ft '\n",
       "9. '420.5 m/ 1380 ft'\n",
       "10. '530 m / 1,739 ft'\n",
       "11. '438.6 m / 1,439 ft'\n",
       "12. '350 m / 1,149 ft'\n",
       "13. '390.2 m / 1,280 ft'\n",
       "14. '401.1 m / 1,316 ft'\n",
       "15. '335 m (1,099 ft)'\n",
       "16. '335 m (1,099 ft)'\n",
       "17. '484 m / 1,588ft'\n",
       "18. '412 m / 1,352 ft'\n",
       "19. '345.9 m / 1,135 feet'\n",
       "20. '374 m / 1227 ft'\n",
       "21. '367.4 m / 1,205 ft'\n",
       "22. '339 m / 1,112 ft'\n",
       "23. '349 m / 1,145 ft'\n",
       "24. '368.1 m / 1,207 ft'\n",
       "25. '450 m / 1,476 ft'\n",
       "26. '381.3 m (1251 ft)'\n",
       "27. '402.6 m / 1,321 ft'\n",
       "28. '368.9 m / 1,210 ft'\n",
       "29. '631.8 m / 2073 ft'\n",
       "30. '333.3 m (1,094 ft)'\n",
       "31. '492 m / 1,614 ft'\n",
       "32. '429.6m / 1409.45 ft'\n",
       "33. '35.6 m / 1,150 ft'\n",
       "34. '341.4 m / 1,120 ft'\n",
       "35. '388.1 m / 1,273 ft'\n",
       "36. '358.9 m / 1,177 ft'\n",
       "37. '375.5 m (1,232 ft)'\n",
       "38. '599.1 m / 1965 ft'\n",
       "39. '441.8 meters (1,449 ft)'\n",
       "40. '384 m / 1,260 feet'\n",
       "41. '450m, 1,476 ft'\n",
       "42. '530.4 m / 1,740 ft'\n",
       "43. '338 m (1,109 ft)'\n",
       "44. '336.9 m (1,105 ft)'\n",
       "45. '339 m (1,112 ft)'\n",
       "46. '376 m (1,234 ft)'\n",
       "47. '443.1 m / 1,454 ft'\n",
       "48. '339 m (1,112 ft)'\n",
       "49. '338 m (1,109 ft)'\n",
       "50. '337.7 m (1,108 ft)'\n",
       "51. '392.5 m / 1,288 ft'\n",
       "52. '829.6 m / 2,722 ft'\n",
       "53. '392.4 m / 1,287 ft'\n",
       "54. '342 m / 1122.05 ft '\n",
       "55. '381.2 m (1251 ft)'\n",
       "56. '336 m (1,102 ft)'\n",
       "57. '368 m / 1,207 ft'\n",
       "58. '335.1 m (1,099 ft)'\n",
       "59. '352 m / 1,155 ft'\n",
       "60. '1,248 ft / 380.5 m'\n",
       "61. '425 m / 1,394 ft'\n",
       "62. '413.4 m / 1,356 ft'\n",
       "63. '360 m / 1,181ft'\n",
       "64. '356.3 m / 1,169 ft'\n",
       "65. '354.6 m / 1,163 ft'\n",
       "66. '355.4 m / 1,166 ft '\n",
       "67. '355.4 m / 1,166 ft'\n",
       "68. '380 meters /1,250 feet'\n",
       "69. '362.9 m / 1,191ft'\n",
       "70. '423.2 m / 1,389 feet'\n",
       "71. '442.3 meters (1,451 ft)'\n",
       "72. '335.3 m (1,100 ft)'\n",
       "73. '427 m / 1,401 ft'\n",
       "74. '435 m / 1,.427 ft'\n",
       "75. '387.1 m / 1,270 ft'\n",
       "76. '472.4 m / 1,549 ft'\n",
       "77. '425.7 m / 1,397 ft'\n",
       "78. '541.3 m / 1,776 ft'\n",
       "79. '365.8 m / 1,200 ft'\n",
       "80. '339.1 m / 1,112 ft'\n",
       "81. '343.8 m / 1,128 feet'\n",
       "82. '346.3 / 1,136 feet'\n",
       "\n",
       "\n"
      ],
      "text/plain": [
       " [1] \"528 m / 1,732 ft\"        \"343 m / 1,125 ft\"       \n",
       " [3] \"452.1 m / 1,483 ft\"      \"354.5 m / 1, 163 ft\"    \n",
       " [5] \"354.6 m / 1,163 ft\"      \"338.9 m (1,112 ft)\"     \n",
       " [7] \"283.2 m / 929 feet\"      \"360.2 m / 1,214 ft \"    \n",
       " [9] \"420.5 m/ 1380 ft\"        \"530 m / 1,739 ft\"       \n",
       "[11] \"438.6 m / 1,439 ft\"      \"350 m / 1,149 ft\"       \n",
       "[13] \"390.2 m / 1,280 ft\"      \"401.1 m / 1,316 ft\"     \n",
       "[15] \"335 m (1,099 ft)\"        \"335 m (1,099 ft)\"       \n",
       "[17] \"484 m / 1,588ft\"         \"412 m / 1,352 ft\"       \n",
       "[19] \"345.9 m / 1,135 feet\"    \"374 m / 1227 ft\"        \n",
       "[21] \"367.4 m / 1,205 ft\"      \"339 m / 1,112 ft\"       \n",
       "[23] \"349 m / 1,145 ft\"        \"368.1 m / 1,207 ft\"     \n",
       "[25] \"450 m / 1,476 ft\"        \"381.3 m (1251 ft)\"      \n",
       "[27] \"402.6 m / 1,321 ft\"      \"368.9 m / 1,210 ft\"     \n",
       "[29] \"631.8 m / 2073 ft\"       \"333.3 m (1,094 ft)\"     \n",
       "[31] \"492 m / 1,614 ft\"        \"429.6m / 1409.45 ft\"    \n",
       "[33] \"35.6 m / 1,150 ft\"       \"341.4 m / 1,120 ft\"     \n",
       "[35] \"388.1 m / 1,273 ft\"      \"358.9 m / 1,177 ft\"     \n",
       "[37] \"375.5 m (1,232 ft)\"      \"599.1 m / 1965 ft\"      \n",
       "[39] \"441.8 meters (1,449 ft)\" \"384 m / 1,260 feet\"     \n",
       "[41] \"450m, 1,476 ft\"          \"530.4 m / 1,740 ft\"     \n",
       "[43] \"338 m (1,109 ft)\"        \"336.9 m (1,105 ft)\"     \n",
       "[45] \"339 m (1,112 ft)\"        \"376 m (1,234 ft)\"       \n",
       "[47] \"443.1 m / 1,454 ft\"      \"339 m (1,112 ft)\"       \n",
       "[49] \"338 m (1,109 ft)\"        \"337.7 m (1,108 ft)\"     \n",
       "[51] \"392.5 m / 1,288 ft\"      \"829.6 m / 2,722 ft\"     \n",
       "[53] \"392.4 m / 1,287 ft\"      \"342 m / 1122.05 ft \"    \n",
       "[55] \"381.2 m (1251 ft)\"       \"336 m (1,102 ft)\"       \n",
       "[57] \"368 m / 1,207 ft\"        \"335.1 m (1,099 ft)\"     \n",
       "[59] \"352 m / 1,155 ft\"        \"1,248 ft / 380.5 m\"     \n",
       "[61] \"425 m / 1,394 ft\"        \"413.4 m / 1,356 ft\"     \n",
       "[63] \"360 m / 1,181ft\"         \"356.3 m / 1,169 ft\"     \n",
       "[65] \"354.6 m / 1,163 ft\"      \"355.4 m / 1,166 ft \"    \n",
       "[67] \"355.4 m / 1,166 ft\"      \"380 meters /1,250 feet\" \n",
       "[69] \"362.9 m / 1,191ft\"       \"423.2 m / 1,389 feet\"   \n",
       "[71] \"442.3 meters (1,451 ft)\" \"335.3 m (1,100 ft)\"     \n",
       "[73] \"427 m / 1,401 ft\"        \"435 m / 1,.427 ft\"      \n",
       "[75] \"387.1 m / 1,270 ft\"      \"472.4 m / 1,549 ft\"     \n",
       "[77] \"425.7 m / 1,397 ft\"      \"541.3 m / 1,776 ft\"     \n",
       "[79] \"365.8 m / 1,200 ft\"      \"339.1 m / 1,112 ft\"     \n",
       "[81] \"343.8 m / 1,128 feet\"    \"346.3 / 1,136 feet\"     "
      ]
     },
     "metadata": {},
     "output_type": "display_data"
    }
   ],
   "source": [
    "country_distribution$height"
   ]
  },
  {
   "cell_type": "markdown",
   "id": "fde7c4a1-d9f0-4e72-9133-87af5624c884",
   "metadata": {},
   "source": [
    "We'll begin by addressing a single value to establish a correction method. Once successful, we'll extend this technique to the entire column. \n",
    "\n",
    "Display the first value in the `height` column using the dataframe you created in **Question 8**. "
   ]
  },
  {
   "cell_type": "code",
   "execution_count": 20,
   "id": "ed45ef18-0ece-42f7-a2ba-f4703bf0a88e",
   "metadata": {
    "tags": [],
    "vscode": {
     "languageId": "r"
    }
   },
   "outputs": [
    {
     "data": {
      "text/html": [
       "'528 m / 1,732 ft'"
      ],
      "text/latex": [
       "'528 m / 1,732 ft'"
      ],
      "text/markdown": [
       "'528 m / 1,732 ft'"
      ],
      "text/plain": [
       "[1] \"528 m / 1,732 ft\""
      ]
     },
     "metadata": {},
     "output_type": "display_data"
    }
   ],
   "source": [
    "head(country_distribution$height, 1)"
   ]
  },
  {
   "cell_type": "code",
   "execution_count": 21,
   "id": "1d52386c-4ff7-49ac-bbfe-786bf57ad1d4",
   "metadata": {},
   "outputs": [
    {
     "data": {
      "text/html": [
       "'528 m / 1,732 ft'"
      ],
      "text/latex": [
       "'528 m / 1,732 ft'"
      ],
      "text/markdown": [
       "'528 m / 1,732 ft'"
      ],
      "text/plain": [
       "[1] \"528 m / 1,732 ft\""
      ]
     },
     "metadata": {},
     "output_type": "display_data"
    }
   ],
   "source": [
    "country_distribution$height[1]"
   ]
  },
  {
   "cell_type": "markdown",
   "id": "469a89bd-04e4-4dbc-b7b4-aa751b26fea6",
   "metadata": {},
   "source": [
    "Run the command from the previous cell and save the output to a variable named `s`. Then display the value of `s`."
   ]
  },
  {
   "cell_type": "code",
   "execution_count": 22,
   "id": "fca98b78-699d-4988-9a17-abbc4b8ef58f",
   "metadata": {
    "tags": [],
    "vscode": {
     "languageId": "r"
    }
   },
   "outputs": [
    {
     "data": {
      "text/html": [
       "'528 m / 1,732 ft'"
      ],
      "text/latex": [
       "'528 m / 1,732 ft'"
      ],
      "text/markdown": [
       "'528 m / 1,732 ft'"
      ],
      "text/plain": [
       "[1] \"528 m / 1,732 ft\""
      ]
     },
     "metadata": {},
     "output_type": "display_data"
    }
   ],
   "source": [
    "s <- country_distribution$height[1]\n",
    "s"
   ]
  },
  {
   "cell_type": "markdown",
   "id": "ae9cba25-1e6d-4c12-9f91-c8b43d48fb72",
   "metadata": {},
   "source": [
    "Now, we'll use the `strsplit` function to split the string into individual substrings wherever there are spaces, which results in a data structure known as a list. A list in R is a collection that can hold elements of different types, including numbers, characters, other vectors, dataframes, and even more lists. It allows for organizing a diverse set of data within a single structure. If you want to learn more about lists in R [**read my conversation with ChatGPT**](https://docs.google.com/document/d/1gglHE9xFjPrAFlrs_kwzLdxtn84Q9EYwta-S7vmRKbk/edit?usp=sharing).\n",
    "\n",
    "The command `strsplit(s, ' ') ` will return the following output (which is a list)\n",
    "```\n",
    "1. '528''m''/''1,732''ft'\n",
    "```\n",
    "\n",
    "To convert this list into a more usable format, we'll apply the `unlist` function. This step extracts the substrings from the list, compiling them into a character vector for easier manipulation and analysis.\n",
    "\n",
    "If you use the pipe operater (`%>%`) from the `dplyr` package that we loaded at the beginning of the notebook, then you can chain the output from `strsplit(s, ' ') ` to the `unlist()` function and return a character vector. \n",
    "\n",
    "The command `strsplit(s, ' ') %>% unlist()` will return a character vector with the following output :\n",
    "\n",
    "`'528'` &middot; `'m'` &middot; `'/'` &middot; `'1,732'` &middot; `'ft'`\n",
    "\n",
    "Enter the command in the code cell below."
   ]
  },
  {
   "cell_type": "code",
   "execution_count": 23,
   "id": "b8131138-7023-4b70-837a-36850f9ed18e",
   "metadata": {
    "tags": [],
    "vscode": {
     "languageId": "r"
    }
   },
   "outputs": [
    {
     "data": {
      "text/html": [
       "<style>\n",
       ".list-inline {list-style: none; margin:0; padding: 0}\n",
       ".list-inline>li {display: inline-block}\n",
       ".list-inline>li:not(:last-child)::after {content: \"\\00b7\"; padding: 0 .5ex}\n",
       "</style>\n",
       "<ol class=list-inline><li>'528'</li><li>'m'</li><li>'/'</li><li>'1,732'</li><li>'ft'</li></ol>\n"
      ],
      "text/latex": [
       "\\begin{enumerate*}\n",
       "\\item '528'\n",
       "\\item 'm'\n",
       "\\item '/'\n",
       "\\item '1,732'\n",
       "\\item 'ft'\n",
       "\\end{enumerate*}\n"
      ],
      "text/markdown": [
       "1. '528'\n",
       "2. 'm'\n",
       "3. '/'\n",
       "4. '1,732'\n",
       "5. 'ft'\n",
       "\n",
       "\n"
      ],
      "text/plain": [
       "[1] \"528\"   \"m\"     \"/\"     \"1,732\" \"ft\"   "
      ]
     },
     "metadata": {},
     "output_type": "display_data"
    }
   ],
   "source": [
    "strsplit(s, ' ') %>% unlist()"
   ]
  },
  {
   "cell_type": "markdown",
   "id": "33d02eb1-0288-4357-9128-50a7cfb882b4",
   "metadata": {},
   "source": [
    "**Question 11.** Run the command from the previous cell and store its output in a variable named `hts`."
   ]
  },
  {
   "cell_type": "code",
   "execution_count": 24,
   "id": "4201055a-8bb8-40d5-b120-17e78889cbf5",
   "metadata": {
    "tags": [],
    "vscode": {
     "languageId": "r"
    }
   },
   "outputs": [
    {
     "data": {
      "text/html": [
       "<style>\n",
       ".list-inline {list-style: none; margin:0; padding: 0}\n",
       ".list-inline>li {display: inline-block}\n",
       ".list-inline>li:not(:last-child)::after {content: \"\\00b7\"; padding: 0 .5ex}\n",
       "</style>\n",
       "<ol class=list-inline><li>'528'</li><li>'m'</li><li>'/'</li><li>'1,732'</li><li>'ft'</li></ol>\n"
      ],
      "text/latex": [
       "\\begin{enumerate*}\n",
       "\\item '528'\n",
       "\\item 'm'\n",
       "\\item '/'\n",
       "\\item '1,732'\n",
       "\\item 'ft'\n",
       "\\end{enumerate*}\n"
      ],
      "text/markdown": [
       "1. '528'\n",
       "2. 'm'\n",
       "3. '/'\n",
       "4. '1,732'\n",
       "5. 'ft'\n",
       "\n",
       "\n"
      ],
      "text/plain": [
       "[1] \"528\"   \"m\"     \"/\"     \"1,732\" \"ft\"   "
      ]
     },
     "metadata": {},
     "output_type": "display_data"
    }
   ],
   "source": [
    "hts <- strsplit(s, ' ') %>% unlist()\n",
    "hts"
   ]
  },
  {
   "cell_type": "markdown",
   "id": "7cbbffda-f5cc-4b3b-bb04-0f75a8d17c4c",
   "metadata": {},
   "source": [
    "**Question 12.** Now, apply bracket notation `[ ]` to select the value representing the height in feet from the character vector `hts`. Store this extracted value in a variable named `ft_comma`."
   ]
  },
  {
   "cell_type": "code",
   "execution_count": 25,
   "id": "1dbd8101-c127-4028-8ca7-6c4962dc5451",
   "metadata": {
    "tags": [],
    "vscode": {
     "languageId": "r"
    }
   },
   "outputs": [
    {
     "data": {
      "text/html": [
       "'1,732'"
      ],
      "text/latex": [
       "'1,732'"
      ],
      "text/markdown": [
       "'1,732'"
      ],
      "text/plain": [
       "[1] \"1,732\""
      ]
     },
     "metadata": {},
     "output_type": "display_data"
    }
   ],
   "source": [
    "ft_comma <- ft_comma <- hts[4]\n",
    "ft_comma"
   ]
  },
  {
   "cell_type": "markdown",
   "id": "507a9366-0b6a-47c6-aab1-9278cb12b0d1",
   "metadata": {},
   "source": [
    "**Question 13.** Use the `gsub` function to remove the comma from `ft_comma`. Save the new value to a variable named `ft_string`.\n",
    "\n",
    "**Note:** The `gsub` function in R is used for pattern matching and replacement. It stands for \"global substitution\" and allows you to search for all occurrences of a pattern in a string or vector of strings, and replace them with a specified replacement value. The basic syntax of the `gsub` function is\n",
    "\n",
    "```\n",
    "gsub(pattern, replacement, x)\n",
    "```\n",
    "\n",
    "where\n",
    "\n",
    "- `pattern`: The pattern to look for - meaning the string.\n",
    "- `replacement`: The string to replace the matching pattern with.\n",
    "`x`: The character vector or string in which to perform the replacement.\n",
    "\n",
    "**Note:** More details abouot the `gsub` function can be found [**here**](https://www.geeksforgeeks.org/replace-all-the-matches-of-a-pattern-from-a-string-in-r-programming-gsub-function/)."
   ]
  },
  {
   "cell_type": "code",
   "execution_count": 26,
   "id": "7e0a6274-bb46-4288-9dd9-7c8123f455cb",
   "metadata": {
    "vscode": {
     "languageId": "r"
    }
   },
   "outputs": [
    {
     "data": {
      "text/html": [
       "'1732'"
      ],
      "text/latex": [
       "'1732'"
      ],
      "text/markdown": [
       "'1732'"
      ],
      "text/plain": [
       "[1] \"1732\""
      ]
     },
     "metadata": {},
     "output_type": "display_data"
    }
   ],
   "source": [
    "ft_string <- gsub(\",\", \"\", ft_comma)\n",
    "ft_string"
   ]
  },
  {
   "cell_type": "markdown",
   "id": "772c582b-5692-4f09-b84a-37c2d6fb0759",
   "metadata": {},
   "source": [
    "**Question 14.** Finally, convert `ft_string` from a string to a numeric data type by using the `as.numeric` function. Store the converted value in a variable named `ft`."
   ]
  },
  {
   "cell_type": "code",
   "execution_count": 27,
   "id": "724d18a2-e058-48b3-bd91-cc8a5e3edae5",
   "metadata": {
    "vscode": {
     "languageId": "r"
    }
   },
   "outputs": [
    {
     "data": {
      "text/html": [
       "1732"
      ],
      "text/latex": [
       "1732"
      ],
      "text/markdown": [
       "1732"
      ],
      "text/plain": [
       "[1] 1732"
      ]
     },
     "metadata": {},
     "output_type": "display_data"
    }
   ],
   "source": [
    "ft <- as.numeric(ft_string)\n",
    "ft"
   ]
  },
  {
   "cell_type": "markdown",
   "id": "a93a3c73-6618-4ca2-975f-be2774d018c8",
   "metadata": {},
   "source": [
    "In the next class we'll figure out how to do this to all the values in tthe `height` column. \n",
    "\n",
    "**Question 15**. Are there additional issues we might face? Please review the remaining entries in the `height` column to identify any other potential challenges. Provide a specific example of what you find to help us understand and address these concerns effectively."
   ]
  },
  {
   "cell_type": "markdown",
   "id": "4845ceb0-5160-4a11-9954-0265733ab8aa",
   "metadata": {},
   "source": [
    "The additional issues we may face is handling mixed units as some entries include both meters, centimeters along with feet and inches. There are entries like '5'11\" or '160 inches' that need to be converted into a numeric format or converted. "
   ]
  }
 ],
 "metadata": {
  "kernelspec": {
   "display_name": "R",
   "language": "R",
   "name": "ir"
  },
  "language_info": {
   "codemirror_mode": "r",
   "file_extension": ".r",
   "mimetype": "text/x-r-source",
   "name": "R",
   "pygments_lexer": "r",
   "version": "4.3.3"
  }
 },
 "nbformat": 4,
 "nbformat_minor": 5
}
