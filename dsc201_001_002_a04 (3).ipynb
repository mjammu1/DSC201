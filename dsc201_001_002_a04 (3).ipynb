{
 "cells": [
  {
   "cell_type": "markdown",
   "id": "2ca798f0-e916-4585-8465-52d9e016ea0c",
   "metadata": {},
   "source": [
    "# Assignment 04\n",
    "\n",
    "## Due: See Date in Moodle\n",
    "\n",
    "In this assignment you will use intermediate and advanced features in R.\n",
    "\n",
    "To receive a **full credit** for this assignment, achieve a minimum of **45** points out of the **50** available. Any points earned beyond the mandatory **45** will count as extra credit. For a detailed breakdown of point distribution per question, click **[here](https://docs.google.com/document/d/1Gd0nJQXSAleZSVNmXnCoY4Cokwkt3dHfnzzggA_kCiI/edit?usp=sharing)**.\n",
    "\n",
    "**Note:** You are required to do **Question 28**.\n",
    "\n",
    "## This Week's Assignment\n",
    "\n",
    "In this week's assignment, you will perform exploratory data analysis on a data set. This includes, but is not limited to the following:\n",
    "    \n",
    "- executing various data moves (see **[Data Moves](https://escholarship.org/uc/item/0mg8m7g6)**).\n",
    "\n",
    "- constructing visualizations\n",
    "\n",
    "- conveying your findings through written communication.\n",
    "\n",
    "### Notes\n",
    "\n",
    "- Adhere to good programming practices, utilizing descriptive variable names, appropriate spacing for readability, and adding comments to your code. \n",
    "\n",
    "- Ensure written responses maintain correct spelling, complete sentences, and proper grammar.\n",
    "\n",
    "**Name:** Mahesh Jammu\n",
    "\n",
    "**Section:** 001\n",
    "\n",
    "**Date:** 2/20/24\n",
    "\n",
    "Let's get started!\n"
   ]
  },
  {
   "cell_type": "markdown",
   "id": "7653ec93-3a51-4797-9fd6-5c3c9fe0373b",
   "metadata": {},
   "source": [
    "In this assignment you will use a dataset from The Collection of Really Great, Interesting, Situated Datasets Project (CORGIS) <img src=\"images/corgis.png\" width=\"35\"/> by Austin Cory Bart, Ryan Whitcomb, Jason Riddle, Omar Saleem, Dr. Eli Tilevich, Dr. Clifford A. Shaffer, Dr. Dennis Kafura.\n",
    "\n",
    "Accoriding to the site, *\"The* `skyscrapers.csv` *file contains collected statistics about the tallest buildings all over the world, including the materials used to develop them, the purpose of the buildings, and more.*\n",
    "\n",
    "The complete dataset, accompanied by an overview and variable descriptions, is available **[here](https://corgis-edu.github.io/corgis/csv/skyscrapers/)**. Review the **Key Descriptions** to familiarize yourself with the variable names, meanings, and types."
   ]
  },
  {
   "cell_type": "markdown",
   "id": "5eca332d-e602-4c91-a7dd-093f299c29af",
   "metadata": {},
   "source": [
    "## Basic EDA\n",
    "\n",
    "In this section you will get basic information about a dataset. This process involves obtaining key insights into the characteristics of the dataset without conducting in-depth analysis. \n",
    "\n",
    "Run the cell below to load the dataset and display the first 5 rows, along with the shape (rows and columns)."
   ]
  },
  {
   "cell_type": "code",
   "execution_count": 2,
   "id": "79ca4e98-aed2-41b6-bceb-5d58cb76bbaf",
   "metadata": {
    "tags": []
   },
   "outputs": [
    {
     "name": "stdout",
     "output_type": "stream",
     "text": [
      "[1] \"The first 5 rows\"\n"
     ]
    },
    {
     "data": {
      "text/html": [
       "<table class=\"dataframe\">\n",
       "<caption>A data.frame: 5 × 41</caption>\n",
       "<thead>\n",
       "\t<tr><th></th><th scope=col>id</th><th scope=col>material</th><th scope=col>name</th><th scope=col>location.city</th><th scope=col>location.city_id</th><th scope=col>location.country</th><th scope=col>location.country.id</th><th scope=col>location.latitude</th><th scope=col>location.longitude</th><th scope=col>purposes.abandoned</th><th scope=col>⋯</th><th scope=col>purposes.telecommunications</th><th scope=col>statistics.floors.above</th><th scope=col>statistics.height</th><th scope=col>statistics.number.of.purposes</th><th scope=col>statistics.rank</th><th scope=col>status.current</th><th scope=col>status.completed.is.completed</th><th scope=col>status.completed.year</th><th scope=col>status.started.is.started</th><th scope=col>status.started.year</th></tr>\n",
       "\t<tr><th></th><th scope=col>&lt;int&gt;</th><th scope=col>&lt;chr&gt;</th><th scope=col>&lt;chr&gt;</th><th scope=col>&lt;chr&gt;</th><th scope=col>&lt;int&gt;</th><th scope=col>&lt;chr&gt;</th><th scope=col>&lt;int&gt;</th><th scope=col>&lt;dbl&gt;</th><th scope=col>&lt;dbl&gt;</th><th scope=col>&lt;lgl&gt;</th><th scope=col>⋯</th><th scope=col>&lt;lgl&gt;</th><th scope=col>&lt;int&gt;</th><th scope=col>&lt;dbl&gt;</th><th scope=col>&lt;int&gt;</th><th scope=col>&lt;int&gt;</th><th scope=col>&lt;chr&gt;</th><th scope=col>&lt;lgl&gt;</th><th scope=col>&lt;int&gt;</th><th scope=col>&lt;lgl&gt;</th><th scope=col>&lt;int&gt;</th></tr>\n",
       "</thead>\n",
       "<tbody>\n",
       "\t<tr><th scope=row>1</th><td>   12</td><td>steel    </td><td>The Illinois            </td><td>Chicago      </td><td>1539</td><td>US</td><td>163</td><td> 0.00000</td><td>  0.00000</td><td>TRUE</td><td>⋯</td><td>TRUE</td><td>528</td><td>1609.36</td><td>4</td><td>1</td><td>vision            </td><td>TRUE</td><td>   0</td><td>TRUE</td><td>   0</td></tr>\n",
       "\t<tr><th scope=row>2</th><td>   62</td><td>composite</td><td>Chicago Spire           </td><td>Chicago      </td><td>1539</td><td>US</td><td>163</td><td>41.88989</td><td>-87.61486</td><td>TRUE</td><td>⋯</td><td>TRUE</td><td>150</td><td> 609.60</td><td>1</td><td>2</td><td>never completed   </td><td>TRUE</td><td>   0</td><td>TRUE</td><td>2007</td></tr>\n",
       "\t<tr><th scope=row>3</th><td>   68</td><td>composite</td><td>Miglin-Beitler Skyneedle</td><td>Chicago      </td><td>1539</td><td>US</td><td>163</td><td>41.88162</td><td>-87.63435</td><td>TRUE</td><td>⋯</td><td>TRUE</td><td>125</td><td> 609.49</td><td>1</td><td>3</td><td>vision            </td><td>TRUE</td><td>   0</td><td>TRUE</td><td>   0</td></tr>\n",
       "\t<tr><th scope=row>4</th><td>   98</td><td>composite</td><td>One World Trade Center  </td><td>New York City</td><td>1641</td><td>US</td><td>163</td><td>40.71311</td><td>-74.01335</td><td>TRUE</td><td>⋯</td><td>TRUE</td><td> 94</td><td> 541.30</td><td>1</td><td>4</td><td>completed         </td><td>TRUE</td><td>2014</td><td>TRUE</td><td>2006</td></tr>\n",
       "\t<tr><th scope=row>5</th><td>14269</td><td>concrete </td><td>Central Park Tower      </td><td>New York City</td><td>1641</td><td>US</td><td>163</td><td>40.76636</td><td>-73.98095</td><td>TRUE</td><td>⋯</td><td>TRUE</td><td> 95</td><td> 541.02</td><td>3</td><td>5</td><td>under construction</td><td>TRUE</td><td>2019</td><td>TRUE</td><td>2014</td></tr>\n",
       "</tbody>\n",
       "</table>\n"
      ],
      "text/latex": [
       "A data.frame: 5 × 41\n",
       "\\begin{tabular}{r|lllllllllllllllllllll}\n",
       "  & id & material & name & location.city & location.city\\_id & location.country & location.country.id & location.latitude & location.longitude & purposes.abandoned & ⋯ & purposes.telecommunications & statistics.floors.above & statistics.height & statistics.number.of.purposes & statistics.rank & status.current & status.completed.is.completed & status.completed.year & status.started.is.started & status.started.year\\\\\n",
       "  & <int> & <chr> & <chr> & <chr> & <int> & <chr> & <int> & <dbl> & <dbl> & <lgl> & ⋯ & <lgl> & <int> & <dbl> & <int> & <int> & <chr> & <lgl> & <int> & <lgl> & <int>\\\\\n",
       "\\hline\n",
       "\t1 &    12 & steel     & The Illinois             & Chicago       & 1539 & US & 163 &  0.00000 &   0.00000 & TRUE & ⋯ & TRUE & 528 & 1609.36 & 4 & 1 & vision             & TRUE &    0 & TRUE &    0\\\\\n",
       "\t2 &    62 & composite & Chicago Spire            & Chicago       & 1539 & US & 163 & 41.88989 & -87.61486 & TRUE & ⋯ & TRUE & 150 &  609.60 & 1 & 2 & never completed    & TRUE &    0 & TRUE & 2007\\\\\n",
       "\t3 &    68 & composite & Miglin-Beitler Skyneedle & Chicago       & 1539 & US & 163 & 41.88162 & -87.63435 & TRUE & ⋯ & TRUE & 125 &  609.49 & 1 & 3 & vision             & TRUE &    0 & TRUE &    0\\\\\n",
       "\t4 &    98 & composite & One World Trade Center   & New York City & 1641 & US & 163 & 40.71311 & -74.01335 & TRUE & ⋯ & TRUE &  94 &  541.30 & 1 & 4 & completed          & TRUE & 2014 & TRUE & 2006\\\\\n",
       "\t5 & 14269 & concrete  & Central Park Tower       & New York City & 1641 & US & 163 & 40.76636 & -73.98095 & TRUE & ⋯ & TRUE &  95 &  541.02 & 3 & 5 & under construction & TRUE & 2019 & TRUE & 2014\\\\\n",
       "\\end{tabular}\n"
      ],
      "text/markdown": [
       "\n",
       "A data.frame: 5 × 41\n",
       "\n",
       "| <!--/--> | id &lt;int&gt; | material &lt;chr&gt; | name &lt;chr&gt; | location.city &lt;chr&gt; | location.city_id &lt;int&gt; | location.country &lt;chr&gt; | location.country.id &lt;int&gt; | location.latitude &lt;dbl&gt; | location.longitude &lt;dbl&gt; | purposes.abandoned &lt;lgl&gt; | ⋯ ⋯ | purposes.telecommunications &lt;lgl&gt; | statistics.floors.above &lt;int&gt; | statistics.height &lt;dbl&gt; | statistics.number.of.purposes &lt;int&gt; | statistics.rank &lt;int&gt; | status.current &lt;chr&gt; | status.completed.is.completed &lt;lgl&gt; | status.completed.year &lt;int&gt; | status.started.is.started &lt;lgl&gt; | status.started.year &lt;int&gt; |\n",
       "|---|---|---|---|---|---|---|---|---|---|---|---|---|---|---|---|---|---|---|---|---|---|\n",
       "| 1 |    12 | steel     | The Illinois             | Chicago       | 1539 | US | 163 |  0.00000 |   0.00000 | TRUE | ⋯ | TRUE | 528 | 1609.36 | 4 | 1 | vision             | TRUE |    0 | TRUE |    0 |\n",
       "| 2 |    62 | composite | Chicago Spire            | Chicago       | 1539 | US | 163 | 41.88989 | -87.61486 | TRUE | ⋯ | TRUE | 150 |  609.60 | 1 | 2 | never completed    | TRUE |    0 | TRUE | 2007 |\n",
       "| 3 |    68 | composite | Miglin-Beitler Skyneedle | Chicago       | 1539 | US | 163 | 41.88162 | -87.63435 | TRUE | ⋯ | TRUE | 125 |  609.49 | 1 | 3 | vision             | TRUE |    0 | TRUE |    0 |\n",
       "| 4 |    98 | composite | One World Trade Center   | New York City | 1641 | US | 163 | 40.71311 | -74.01335 | TRUE | ⋯ | TRUE |  94 |  541.30 | 1 | 4 | completed          | TRUE | 2014 | TRUE | 2006 |\n",
       "| 5 | 14269 | concrete  | Central Park Tower       | New York City | 1641 | US | 163 | 40.76636 | -73.98095 | TRUE | ⋯ | TRUE |  95 |  541.02 | 3 | 5 | under construction | TRUE | 2019 | TRUE | 2014 |\n",
       "\n"
      ],
      "text/plain": [
       "  id    material  name                     location.city location.city_id\n",
       "1    12 steel     The Illinois             Chicago       1539            \n",
       "2    62 composite Chicago Spire            Chicago       1539            \n",
       "3    68 composite Miglin-Beitler Skyneedle Chicago       1539            \n",
       "4    98 composite One World Trade Center   New York City 1641            \n",
       "5 14269 concrete  Central Park Tower       New York City 1641            \n",
       "  location.country location.country.id location.latitude location.longitude\n",
       "1 US               163                  0.00000            0.00000         \n",
       "2 US               163                 41.88989          -87.61486         \n",
       "3 US               163                 41.88162          -87.63435         \n",
       "4 US               163                 40.71311          -74.01335         \n",
       "5 US               163                 40.76636          -73.98095         \n",
       "  purposes.abandoned ⋯ purposes.telecommunications statistics.floors.above\n",
       "1 TRUE               ⋯ TRUE                        528                    \n",
       "2 TRUE               ⋯ TRUE                        150                    \n",
       "3 TRUE               ⋯ TRUE                        125                    \n",
       "4 TRUE               ⋯ TRUE                         94                    \n",
       "5 TRUE               ⋯ TRUE                         95                    \n",
       "  statistics.height statistics.number.of.purposes statistics.rank\n",
       "1 1609.36           4                             1              \n",
       "2  609.60           1                             2              \n",
       "3  609.49           1                             3              \n",
       "4  541.30           1                             4              \n",
       "5  541.02           3                             5              \n",
       "  status.current     status.completed.is.completed status.completed.year\n",
       "1 vision             TRUE                             0                 \n",
       "2 never completed    TRUE                             0                 \n",
       "3 vision             TRUE                             0                 \n",
       "4 completed          TRUE                          2014                 \n",
       "5 under construction TRUE                          2019                 \n",
       "  status.started.is.started status.started.year\n",
       "1 TRUE                         0               \n",
       "2 TRUE                      2007               \n",
       "3 TRUE                         0               \n",
       "4 TRUE                      2006               \n",
       "5 TRUE                      2014               "
      ]
     },
     "metadata": {},
     "output_type": "display_data"
    },
    {
     "name": "stdout",
     "output_type": "stream",
     "text": [
      "\n",
      "[1] \"The shape of the dataset (rows and columns)\"\n"
     ]
    },
    {
     "data": {
      "text/html": [
       "<style>\n",
       ".list-inline {list-style: none; margin:0; padding: 0}\n",
       ".list-inline>li {display: inline-block}\n",
       ".list-inline>li:not(:last-child)::after {content: \"\\00b7\"; padding: 0 .5ex}\n",
       "</style>\n",
       "<ol class=list-inline><li>2431</li><li>41</li></ol>\n"
      ],
      "text/latex": [
       "\\begin{enumerate*}\n",
       "\\item 2431\n",
       "\\item 41\n",
       "\\end{enumerate*}\n"
      ],
      "text/markdown": [
       "1. 2431\n",
       "2. 41\n",
       "\n",
       "\n"
      ],
      "text/plain": [
       "[1] 2431   41"
      ]
     },
     "metadata": {},
     "output_type": "display_data"
    }
   ],
   "source": [
    "skyscrapers <- read.csv('data/skyscrapers.csv')\n",
    "\n",
    "print(\"The first 5 rows\")\n",
    "head(skyscrapers, 5)\n",
    "cat(\"\\n\")\n",
    "print(\"The shape of the dataset (rows and columns)\")\n",
    "dim(skyscrapers)"
   ]
  },
  {
   "cell_type": "markdown",
   "id": "b7265d9b-9454-4b2c-aea2-e6d470112c99",
   "metadata": {},
   "source": [
    "**Question 1.** Use the `str` command to get an overview of the column names and data types."
   ]
  },
  {
   "cell_type": "code",
   "execution_count": 11,
   "id": "290f94f1-e2b8-494b-9940-fb4c2ee9fc4e",
   "metadata": {
    "tags": []
   },
   "outputs": [
    {
     "name": "stdout",
     "output_type": "stream",
     "text": [
      "'data.frame':\t2431 obs. of  41 variables:\n",
      " $ id                                : int  12 62 68 98 14269 16334 139 169 14320 187 ...\n",
      " $ material                          : chr  \"steel\" \"composite\" \"composite\" \"composite\" ...\n",
      " $ name                              : chr  \"The Illinois\" \"Chicago Spire\" \"Miglin-Beitler Skyneedle\" \"One World Trade Center\" ...\n",
      " $ location.city                     : chr  \"Chicago\" \"Chicago\" \"Chicago\" \"New York City\" ...\n",
      " $ location.city_id                  : int  1539 1539 1539 1641 1641 1641 1539 1539 1641 1593 ...\n",
      " $ location.country                  : chr  \"US\" \"US\" \"US\" \"US\" ...\n",
      " $ location.country.id               : int  163 163 163 163 163 163 163 163 163 163 ...\n",
      " $ location.latitude                 : num  0 41.9 41.9 40.7 40.8 ...\n",
      " $ location.longitude                : num  0 -87.6 -87.6 -74 -74 ...\n",
      " $ purposes.abandoned                : logi  TRUE TRUE TRUE TRUE TRUE TRUE ...\n",
      " $ purposes.air.traffic.control.tower: logi  TRUE TRUE TRUE TRUE TRUE TRUE ...\n",
      " $ purposes.belltower                : logi  TRUE TRUE TRUE TRUE TRUE TRUE ...\n",
      " $ purposes.bridge                   : logi  TRUE TRUE TRUE TRUE TRUE TRUE ...\n",
      " $ purposes.casino                   : logi  TRUE TRUE TRUE TRUE TRUE TRUE ...\n",
      " $ purposes.commercial               : logi  TRUE TRUE TRUE TRUE TRUE TRUE ...\n",
      " $ purposes.education                : logi  TRUE TRUE TRUE TRUE TRUE TRUE ...\n",
      " $ purposes.exhibition               : logi  TRUE TRUE TRUE TRUE TRUE TRUE ...\n",
      " $ purposes.government               : logi  TRUE TRUE TRUE TRUE TRUE TRUE ...\n",
      " $ purposes.hospital                 : logi  TRUE TRUE TRUE TRUE TRUE TRUE ...\n",
      " $ purposes.hotel                    : logi  TRUE TRUE TRUE TRUE TRUE TRUE ...\n",
      " $ purposes.industrial               : logi  TRUE TRUE TRUE TRUE TRUE TRUE ...\n",
      " $ purposes.library                  : logi  TRUE TRUE TRUE TRUE TRUE TRUE ...\n",
      " $ purposes.multiple                 : logi  TRUE TRUE TRUE TRUE TRUE TRUE ...\n",
      " $ purposes.museum                   : logi  TRUE TRUE TRUE TRUE TRUE TRUE ...\n",
      " $ purposes.observation              : logi  TRUE TRUE TRUE TRUE TRUE TRUE ...\n",
      " $ purposes.office                   : logi  TRUE TRUE TRUE TRUE TRUE TRUE ...\n",
      " $ purposes.other                    : logi  TRUE TRUE TRUE TRUE TRUE TRUE ...\n",
      " $ purposes.religious                : logi  TRUE TRUE TRUE TRUE TRUE TRUE ...\n",
      " $ purposes.residential              : logi  TRUE TRUE TRUE TRUE TRUE TRUE ...\n",
      " $ purposes.retail                   : logi  TRUE TRUE TRUE TRUE TRUE TRUE ...\n",
      " $ purposes.serviced.apartments      : logi  TRUE TRUE TRUE TRUE TRUE TRUE ...\n",
      " $ purposes.telecommunications       : logi  TRUE TRUE TRUE TRUE TRUE TRUE ...\n",
      " $ statistics.floors.above           : int  528 150 125 94 95 132 112 108 80 82 ...\n",
      " $ statistics.height                 : num  1609 610 609 541 541 ...\n",
      " $ statistics.number.of.purposes     : int  4 1 1 1 3 1 2 1 1 1 ...\n",
      " $ statistics.rank                   : int  1 2 3 4 5 6 7 8 9 10 ...\n",
      " $ status.current                    : chr  \"vision\" \"never completed\" \"vision\" \"completed\" ...\n",
      " $ status.completed.is.completed     : logi  TRUE TRUE TRUE TRUE TRUE TRUE ...\n",
      " $ status.completed.year             : int  0 0 0 2014 2019 0 0 1974 2018 0 ...\n",
      " $ status.started.is.started         : logi  TRUE TRUE TRUE TRUE TRUE TRUE ...\n",
      " $ status.started.year               : int  0 2007 0 2006 2014 0 0 1970 2015 0 ...\n"
     ]
    }
   ],
   "source": [
    "str(skyscrapers)"
   ]
  },
  {
   "cell_type": "markdown",
   "id": "74b710b6-12cc-42e8-96df-c61ccf329b99",
   "metadata": {},
   "source": [
    "**Question 2.** What observations can you make regarding the data types of the columns? Specifically, consider which data type is most prevalent, what the columns describe about the buildings, and the characteristics of the values represented in the column."
   ]
  },
  {
   "cell_type": "markdown",
   "id": "5219c630-8f2d-41c0-83ee-39b9b5cc5902",
   "metadata": {},
   "source": [
    "The observations that I found were that the data type most prevelant was logi clearly in comparision to the others. I also noticed that all the logical ones had the characteristics of TRUE or FALSE."
   ]
  },
  {
   "cell_type": "markdown",
   "id": "a01414de-93bd-454e-b98e-dbcc073f03e6",
   "metadata": {},
   "source": [
    "You should have noticed that the most prevalent data type is `logi` or logical (i.e., `TRUE`, `FALSE`). Let's examine the values in one of those logical columns."
   ]
  },
  {
   "cell_type": "markdown",
   "id": "aad0a664-8eb2-4afc-a531-a571c7b1c7ce",
   "metadata": {},
   "source": [
    "**Question 3.** Choose one of the logical columns and display the first 20 values using dollar sign (`$`) notation."
   ]
  },
  {
   "cell_type": "code",
   "execution_count": 3,
   "id": "4d16016a-2d26-4231-a423-ddc76bc34176",
   "metadata": {
    "tags": []
   },
   "outputs": [
    {
     "data": {
      "text/html": [
       "<style>\n",
       ".list-inline {list-style: none; margin:0; padding: 0}\n",
       ".list-inline>li {display: inline-block}\n",
       ".list-inline>li:not(:last-child)::after {content: \"\\00b7\"; padding: 0 .5ex}\n",
       "</style>\n",
       "<ol class=list-inline><li>TRUE</li><li>TRUE</li><li>TRUE</li><li>TRUE</li><li>TRUE</li><li>TRUE</li><li>TRUE</li><li>TRUE</li><li>TRUE</li><li>TRUE</li><li>TRUE</li><li>TRUE</li><li>TRUE</li><li>TRUE</li><li>TRUE</li><li>TRUE</li><li>TRUE</li><li>TRUE</li><li>TRUE</li><li>TRUE</li></ol>\n"
      ],
      "text/latex": [
       "\\begin{enumerate*}\n",
       "\\item TRUE\n",
       "\\item TRUE\n",
       "\\item TRUE\n",
       "\\item TRUE\n",
       "\\item TRUE\n",
       "\\item TRUE\n",
       "\\item TRUE\n",
       "\\item TRUE\n",
       "\\item TRUE\n",
       "\\item TRUE\n",
       "\\item TRUE\n",
       "\\item TRUE\n",
       "\\item TRUE\n",
       "\\item TRUE\n",
       "\\item TRUE\n",
       "\\item TRUE\n",
       "\\item TRUE\n",
       "\\item TRUE\n",
       "\\item TRUE\n",
       "\\item TRUE\n",
       "\\end{enumerate*}\n"
      ],
      "text/markdown": [
       "1. TRUE\n",
       "2. TRUE\n",
       "3. TRUE\n",
       "4. TRUE\n",
       "5. TRUE\n",
       "6. TRUE\n",
       "7. TRUE\n",
       "8. TRUE\n",
       "9. TRUE\n",
       "10. TRUE\n",
       "11. TRUE\n",
       "12. TRUE\n",
       "13. TRUE\n",
       "14. TRUE\n",
       "15. TRUE\n",
       "16. TRUE\n",
       "17. TRUE\n",
       "18. TRUE\n",
       "19. TRUE\n",
       "20. TRUE\n",
       "\n",
       "\n"
      ],
      "text/plain": [
       " [1] TRUE TRUE TRUE TRUE TRUE TRUE TRUE TRUE TRUE TRUE TRUE TRUE TRUE TRUE TRUE\n",
       "[16] TRUE TRUE TRUE TRUE TRUE"
      ]
     },
     "metadata": {},
     "output_type": "display_data"
    }
   ],
   "source": [
    "Purposes_library <- skyscrapers$purposes.library\n",
    "\n",
    "# Gives first 20 rows of purposes.library column\n",
    "head(Purposes_library, 20)"
   ]
  },
  {
   "cell_type": "markdown",
   "id": "5e1f3eb9-1020-4509-865e-1250e6216d33",
   "metadata": {},
   "source": [
    "**Question 4.** What did you notice about the output? Specifically, consider the description of the column and what the values in the column represent."
   ]
  },
  {
   "cell_type": "markdown",
   "id": "a2eb823f-0c5b-48dd-8969-070855cddf6e",
   "metadata": {},
   "source": [
    "What I noticed about the output was that it was all listed as TRUE."
   ]
  },
  {
   "cell_type": "markdown",
   "id": "87c102a4-7923-451c-aad7-5bbead8fb756",
   "metadata": {},
   "source": [
    "You should have noticed that every value in the column is `TRUE`. It's probably not the case that every building in the dataset is used every purpose listed. To see only the `logi` columns we can filter the output from the `str` command. To learn how to do this, click [here](https://docs.google.com/document/d/1ufj6hpEOERnWmCejmXfH6Pc8_36OyEBc1lQv6oYFLdI/edit?usp=sharing) to read the conversation I had with ChatGPT."
   ]
  },
  {
   "cell_type": "markdown",
   "id": "d4ac640d-8e43-4a61-ad03-2ab8731811d5",
   "metadata": {},
   "source": [
    "**Question 5.** Use the hints from the ChatGPT conversatioin to filter the output from the `str` command to only show the columns that are logical (i.e., `logi`)."
   ]
  },
  {
   "cell_type": "code",
   "execution_count": 4,
   "id": "bba0e463-f1b6-4a87-a1c8-e81022e4fb37",
   "metadata": {
    "tags": []
   },
   "outputs": [
    {
     "name": "stdout",
     "output_type": "stream",
     "text": [
      "'data.frame':\t2431 obs. of  25 variables:\n",
      " $ purposes.abandoned                : logi  TRUE TRUE TRUE TRUE TRUE TRUE ...\n",
      " $ purposes.air.traffic.control.tower: logi  TRUE TRUE TRUE TRUE TRUE TRUE ...\n",
      " $ purposes.belltower                : logi  TRUE TRUE TRUE TRUE TRUE TRUE ...\n",
      " $ purposes.bridge                   : logi  TRUE TRUE TRUE TRUE TRUE TRUE ...\n",
      " $ purposes.casino                   : logi  TRUE TRUE TRUE TRUE TRUE TRUE ...\n",
      " $ purposes.commercial               : logi  TRUE TRUE TRUE TRUE TRUE TRUE ...\n",
      " $ purposes.education                : logi  TRUE TRUE TRUE TRUE TRUE TRUE ...\n",
      " $ purposes.exhibition               : logi  TRUE TRUE TRUE TRUE TRUE TRUE ...\n",
      " $ purposes.government               : logi  TRUE TRUE TRUE TRUE TRUE TRUE ...\n",
      " $ purposes.hospital                 : logi  TRUE TRUE TRUE TRUE TRUE TRUE ...\n",
      " $ purposes.hotel                    : logi  TRUE TRUE TRUE TRUE TRUE TRUE ...\n",
      " $ purposes.industrial               : logi  TRUE TRUE TRUE TRUE TRUE TRUE ...\n",
      " $ purposes.library                  : logi  TRUE TRUE TRUE TRUE TRUE TRUE ...\n",
      " $ purposes.multiple                 : logi  TRUE TRUE TRUE TRUE TRUE TRUE ...\n",
      " $ purposes.museum                   : logi  TRUE TRUE TRUE TRUE TRUE TRUE ...\n",
      " $ purposes.observation              : logi  TRUE TRUE TRUE TRUE TRUE TRUE ...\n",
      " $ purposes.office                   : logi  TRUE TRUE TRUE TRUE TRUE TRUE ...\n",
      " $ purposes.other                    : logi  TRUE TRUE TRUE TRUE TRUE TRUE ...\n",
      " $ purposes.religious                : logi  TRUE TRUE TRUE TRUE TRUE TRUE ...\n",
      " $ purposes.residential              : logi  TRUE TRUE TRUE TRUE TRUE TRUE ...\n",
      " $ purposes.retail                   : logi  TRUE TRUE TRUE TRUE TRUE TRUE ...\n",
      " $ purposes.serviced.apartments      : logi  TRUE TRUE TRUE TRUE TRUE TRUE ...\n",
      " $ purposes.telecommunications       : logi  TRUE TRUE TRUE TRUE TRUE TRUE ...\n",
      " $ status.completed.is.completed     : logi  TRUE TRUE TRUE TRUE TRUE TRUE ...\n",
      " $ status.started.is.started         : logi  TRUE TRUE TRUE TRUE TRUE TRUE ...\n"
     ]
    }
   ],
   "source": [
    "\n",
    "#Filters cols that are logical using str and sapply\n",
    "logical_cols <- names(skyscrapers)[sapply(skyscrapers, is.logical)]\n",
    "\n",
    "#Prints the str of the df with only logical cols\n",
    "str(skyscrapers[, logical_cols])\n",
    "\n",
    "\n"
   ]
  },
  {
   "cell_type": "markdown",
   "id": "727c0215-2c30-460c-ae18-579e41d2e265",
   "metadata": {},
   "source": [
    "This information will be useful for future data manipulation.\n",
    "\n",
    "Before we continue let's address a statement that was made in the overview - *\"Collected statistics about the tallest buildings all over the world ...\"*"
   ]
  },
  {
   "cell_type": "markdown",
   "id": "04b7b1b6-43b2-4afa-9197-14acca40ae3c",
   "metadata": {
    "tags": []
   },
   "source": [
    "**Question 6.** Does this dataset truly contain information for buildings all over the world? Use programming code to provide evidence for your response. \n",
    "\n",
    "**Hint:** Look at the output from the structure command."
   ]
  },
  {
   "cell_type": "code",
   "execution_count": 5,
   "id": "6263faeb-c115-4434-a0e7-e6694916aa62",
   "metadata": {
    "tags": []
   },
   "outputs": [
    {
     "data": {
      "text/plain": [
       "\n",
       "  US \n",
       "2431 "
      ]
     },
     "metadata": {},
     "output_type": "display_data"
    }
   ],
   "source": [
    "#This code suggest that all locations from countries these buildings are from are all from the US so this is not all over the world.\n",
    "\n",
    "table(skyscrapers$location.country) "
   ]
  },
  {
   "cell_type": "markdown",
   "id": "734a1e70-5f44-4dbd-9d41-e951cb7279e9",
   "metadata": {},
   "source": [
    "There is 2431 places in the country that this data set has but they are all from the US. This proves this data does not have statistics about the tallest buildings in the world"
   ]
  },
  {
   "cell_type": "markdown",
   "id": "669fc153-ec64-4825-9dae-cabd1e3934df",
   "metadata": {},
   "source": [
    "## Data Analysis\n",
    "\n",
    "In this section you will execute a series of data moves (see [Data Moves](https://escholarship.org/uc/item/0mg8m7g6)) to gain meaningful insight from the dataset.\n",
    "\n",
    "We will utilize the capabilities of the `dplyr` and `ggplot2` packages to conduct our Exploratory Data Analysis (EDA)."
   ]
  },
  {
   "cell_type": "markdown",
   "id": "69f4880e-fbf9-4518-ae65-71bb2d38292d",
   "metadata": {},
   "source": [
    "In the cell below load the `dplyr` and `ggplot2` packages."
   ]
  },
  {
   "cell_type": "code",
   "execution_count": 6,
   "id": "3087ef5c-2db6-453a-a821-96a76e3c1c20",
   "metadata": {
    "tags": []
   },
   "outputs": [
    {
     "name": "stderr",
     "output_type": "stream",
     "text": [
      "\n",
      "Attaching package: ‘dplyr’\n",
      "\n",
      "\n",
      "The following objects are masked from ‘package:stats’:\n",
      "\n",
      "    filter, lag\n",
      "\n",
      "\n",
      "The following objects are masked from ‘package:base’:\n",
      "\n",
      "    intersect, setdiff, setequal, union\n",
      "\n",
      "\n"
     ]
    }
   ],
   "source": [
    "library(\"dplyr\")\n",
    "library(\"ggplot2\")"
   ]
  },
  {
   "cell_type": "markdown",
   "id": "fcbac2e6-9ef7-45fe-909a-523ce185902f",
   "metadata": {},
   "source": [
    "Since all columns describing the purpose for each building uniformly hold the value `TRUE`, offering no distinctive characteristics, we will proceed to remove them before starting our EDA."
   ]
  },
  {
   "cell_type": "markdown",
   "id": "fe6bb6ee-8b43-4c5f-932c-4f672bd3080e",
   "metadata": {},
   "source": [
    "**Question 7.** Construct a modified dataset named `df` by excluding columns associated with the building's purpose or having a data type of logical from the original `skyscrapers` dataframe. Use the `str` command to confirm that the altered dataframe adheres to the specified criteria."
   ]
  },
  {
   "cell_type": "code",
   "execution_count": 7,
   "id": "645b3124-a01c-426d-890f-23fb37d7227a",
   "metadata": {
    "tags": []
   },
   "outputs": [
    {
     "name": "stdout",
     "output_type": "stream",
     "text": [
      "'data.frame':\t2431 obs. of  15 variables:\n",
      " $ id                     : int  12 62 68 98 14269 16334 139 169 14320 187 ...\n",
      " $ material               : chr  \"steel\" \"composite\" \"composite\" \"composite\" ...\n",
      " $ name                   : chr  \"The Illinois\" \"Chicago Spire\" \"Miglin-Beitler Skyneedle\" \"One World Trade Center\" ...\n",
      " $ location.city          : chr  \"Chicago\" \"Chicago\" \"Chicago\" \"New York City\" ...\n",
      " $ location.city_id       : int  1539 1539 1539 1641 1641 1641 1539 1539 1641 1593 ...\n",
      " $ location.country       : chr  \"US\" \"US\" \"US\" \"US\" ...\n",
      " $ location.country.id    : int  163 163 163 163 163 163 163 163 163 163 ...\n",
      " $ location.latitude      : num  0 41.9 41.9 40.7 40.8 ...\n",
      " $ location.longitude     : num  0 -87.6 -87.6 -74 -74 ...\n",
      " $ statistics.floors.above: int  528 150 125 94 95 132 112 108 80 82 ...\n",
      " $ statistics.height      : num  1609 610 609 541 541 ...\n",
      " $ statistics.rank        : int  1 2 3 4 5 6 7 8 9 10 ...\n",
      " $ status.current         : chr  \"vision\" \"never completed\" \"vision\" \"completed\" ...\n",
      " $ status.completed.year  : int  0 0 0 2014 2019 0 0 1974 2018 0 ...\n",
      " $ status.started.year    : int  0 2007 0 2006 2014 0 0 1970 2015 0 ...\n"
     ]
    }
   ],
   "source": [
    "# Adjusts skyscraper info to just get rid of what cols contain purposes and columns where logical is present\n",
    "df <- skyscrapers %>%\n",
    "    select(-contains(\"purposes\"), -where(is.logical))\n",
    "\n",
    "str(df)\n",
    "    "
   ]
  },
  {
   "cell_type": "markdown",
   "id": "9b0146d4-a75e-4fa1-89df-7508ae17cac7",
   "metadata": {},
   "source": [
    "**Question 8.** Display only the unique values in the `status.current` column."
   ]
  },
  {
   "cell_type": "code",
   "execution_count": 8,
   "id": "ff66604b-570e-4ee9-aa64-b371afb93660",
   "metadata": {},
   "outputs": [
    {
     "data": {
      "text/html": [
       "<style>\n",
       ".list-inline {list-style: none; margin:0; padding: 0}\n",
       ".list-inline>li {display: inline-block}\n",
       ".list-inline>li:not(:last-child)::after {content: \"\\00b7\"; padding: 0 .5ex}\n",
       "</style>\n",
       "<ol class=list-inline><li>'vision'</li><li>'never completed'</li><li>'completed'</li><li>'under construction'</li><li>'demolished'</li><li>'proposed'</li><li>'structurally topped out'</li><li>'architecturally topped out'</li><li>'on hold'</li></ol>\n"
      ],
      "text/latex": [
       "\\begin{enumerate*}\n",
       "\\item 'vision'\n",
       "\\item 'never completed'\n",
       "\\item 'completed'\n",
       "\\item 'under construction'\n",
       "\\item 'demolished'\n",
       "\\item 'proposed'\n",
       "\\item 'structurally topped out'\n",
       "\\item 'architecturally topped out'\n",
       "\\item 'on hold'\n",
       "\\end{enumerate*}\n"
      ],
      "text/markdown": [
       "1. 'vision'\n",
       "2. 'never completed'\n",
       "3. 'completed'\n",
       "4. 'under construction'\n",
       "5. 'demolished'\n",
       "6. 'proposed'\n",
       "7. 'structurally topped out'\n",
       "8. 'architecturally topped out'\n",
       "9. 'on hold'\n",
       "\n",
       "\n"
      ],
      "text/plain": [
       "[1] \"vision\"                     \"never completed\"           \n",
       "[3] \"completed\"                  \"under construction\"        \n",
       "[5] \"demolished\"                 \"proposed\"                  \n",
       "[7] \"structurally topped out\"    \"architecturally topped out\"\n",
       "[9] \"on hold\"                   "
      ]
     },
     "metadata": {},
     "output_type": "display_data"
    }
   ],
   "source": [
    "#Gives unique values in status.current column\n",
    "Unique_status <- unique(skyscrapers$status.current)\n",
    "\n",
    "Unique_status"
   ]
  },
  {
   "cell_type": "markdown",
   "id": "4280a67a-8ab6-4edb-b0ab-9f5e43384103",
   "metadata": {},
   "source": [
    "In an article entitled [\"Explainer: Stages of Construction\"](https://skyrisecities.com/news/2015/12/explainer-stages-construction.18748#:~:text=As%20it%20nears%20its%20final,building%20as%20architecturally%20topped%20out.) Marc Mitanis explains the difference between architecturally topped out and structurally topped out. \n",
    "\n",
    "**Question 9.** Explain the difference between architecturally topped out and structurally topped out."
   ]
  },
  {
   "cell_type": "markdown",
   "id": "2dc74e9b-bfa5-4c68-b985-8253eee6255e",
   "metadata": {},
   "source": [
    "Architecturally topped means the building is in the final structural process of the building that includes stuff like antennas and spires already secured into place. Structurally topped out means for a building to have all the structural elements of a building present except the things like spires and antennas. "
   ]
  },
  {
   "cell_type": "markdown",
   "id": "4b80c113-084f-4a23-9fe7-6e68dd24ac00",
   "metadata": {},
   "source": [
    "**Question 10.** How many buildings fall into the category of either architecturally topped out or structurally topped out? Use the `table` command to make a contingency table that shows only those two categories."
   ]
  },
  {
   "cell_type": "code",
   "execution_count": 9,
   "id": "c5418e3a-72b4-4498-ad94-ce00bad80c4f",
   "metadata": {
    "tags": []
   },
   "outputs": [
    {
     "data": {
      "text/plain": [
       "\n",
       "architecturally topped out    structurally topped out \n",
       "                        45                          7 "
      ]
     },
     "metadata": {},
     "output_type": "display_data"
    }
   ],
   "source": [
    "#Gets a table for all cols in status.current\n",
    "contingency_table <-  table(skyscrapers$status.current)\n",
    "\n",
    "#Creates table by comibining both columns I want\n",
    "filtered_contingency <- contingency_table [c(\"architecturally topped out\", \"structurally topped out\")]\n",
    "\n",
    "filtered_contingency"
   ]
  },
  {
   "cell_type": "markdown",
   "id": "5223d6b2-3a69-480b-aacc-2ca75da04edd",
   "metadata": {
    "tags": []
   },
   "source": [
    "**Question 11.** Generate a bar chart to visually represent the data presented in the table from the previous question."
   ]
  },
  {
   "cell_type": "code",
   "execution_count": 10,
   "id": "55bf7bd3-ac96-410a-9251-61e8941f7307",
   "metadata": {
    "tags": []
   },
   "outputs": [
    {
     "data": {
      "image/png": "[encoded data removed]",
      "text/plain": [
       "Plot with title “Current Status of Buildings”"
      ]
     },
     "metadata": {
      "image/png": {
       "height": 420,
       "width": 420
      }
     },
     "output_type": "display_data"
    }
   ],
   "source": [
    "#Creates a bar plot with the filtered contingency table by specifiying x & y axis along with title and color. \n",
    "barplot(filtered_contingency, \n",
    "        main = \"Current Status of Buildings\",\n",
    "        xlab = \"Status\",\n",
    "        ylab = \"Number of Buildings\",\n",
    "        col = \"Red\")"
   ]
  },
  {
   "cell_type": "markdown",
   "id": "092c6adb-da62-40c7-8329-d53842fc2b5a",
   "metadata": {},
   "source": [
    "For our analysis, we will focus exclusively on completed buildings. It's important to note that while other buildings in the dataset may also be completed, our analysis will solely rely on the information available within this dataset."
   ]
  },
  {
   "cell_type": "markdown",
   "id": "00b2f1e3-f0bf-4f11-b5af-14c186fc6bfa",
   "metadata": {},
   "source": [
    "**Question 12.** Create a new dataframe named `completed`, that contains only completed buildings from the existing df dataframe. Display the first 5 rows of the `completed` dataframe."
   ]
  },
  {
   "cell_type": "code",
   "execution_count": 11,
   "id": "d279700c-7bd0-4e76-ba38-98f1825eb8fe",
   "metadata": {
    "tags": []
   },
   "outputs": [
    {
     "data": {
      "text/html": [
       "<style>\n",
       ".list-inline {list-style: none; margin:0; padding: 0}\n",
       ".list-inline>li {display: inline-block}\n",
       ".list-inline>li:not(:last-child)::after {content: \"\\00b7\"; padding: 0 .5ex}\n",
       "</style>\n",
       "<ol class=list-inline><li>FALSE</li><li>FALSE</li><li>FALSE</li><li>TRUE</li><li>FALSE</li></ol>\n"
      ],
      "text/latex": [
       "\\begin{enumerate*}\n",
       "\\item FALSE\n",
       "\\item FALSE\n",
       "\\item FALSE\n",
       "\\item TRUE\n",
       "\\item FALSE\n",
       "\\end{enumerate*}\n"
      ],
      "text/markdown": [
       "1. FALSE\n",
       "2. FALSE\n",
       "3. FALSE\n",
       "4. TRUE\n",
       "5. FALSE\n",
       "\n",
       "\n"
      ],
      "text/plain": [
       "[1] FALSE FALSE FALSE  TRUE FALSE"
      ]
     },
     "metadata": {},
     "output_type": "display_data"
    }
   ],
   "source": [
    "#Creates a new data frame with only completed buildings\n",
    "completed <- (df$status.current == \"completed\")\n",
    "\n",
    "#Displays first 5 rows of completed data frame\n",
    "head(completed, 5)"
   ]
  },
  {
   "cell_type": "markdown",
   "id": "321fb29c-af74-4a4b-ba33-863afec4a0ed",
   "metadata": {},
   "source": [
    "**Question 13.** Use the `summary` command to find the minimum, 1st quartile, median, mean, 3rd quartile, and maximum for the height of the completed skyscrapers."
   ]
  },
  {
   "cell_type": "code",
   "execution_count": 12,
   "id": "e37ef534-7463-4795-882b-6b93240c0c76",
   "metadata": {
    "tags": []
   },
   "outputs": [
    {
     "data": {
      "text/plain": [
       "   Min. 1st Qu.  Median    Mean 3rd Qu.    Max. \n",
       "    0.0   100.0   123.5   130.4   154.2   541.3 "
      ]
     },
     "metadata": {},
     "output_type": "display_data"
    }
   ],
   "source": [
    "\n",
    "# Gives df where status is only completed\n",
    "completed <- df[df$status.current == \"completed\", ]\n",
    "\n",
    "#Takes completed df and gives 5 number summary in regard to the height of those\n",
    "summary(completed$statistics.height)"
   ]
  },
  {
   "cell_type": "markdown",
   "id": "d8322516-4dd8-42a2-869f-098d9b59fc71",
   "metadata": {
    "tags": []
   },
   "source": [
    "**Question 14.** Write a breif paragraph (no more than 200 words) interpreting the output from **Question 13**."
   ]
  },
  {
   "cell_type": "markdown",
   "id": "8bf1f8bb-9db4-4c50-a6a2-aa932f967ade",
   "metadata": {},
   "source": [
    "For question 13 the output that was given was 6 items in the summary. The min stated 0.0 which means that there is a building that is completed but has not maybe logged a height yet. In the 1st Quartile being 100, that means that theres 75% of the buildings have a larger height than 100. The median of 123.5 and the mean of 130.4 shows that there could be some high heights in the data set that are skewing the average higher than it actually is. The median of 123.5 may be a better use for interpretation. The max being 541.3 shows that there is no other completed buildings that are over 541.3. "
   ]
  },
  {
   "cell_type": "markdown",
   "id": "c1c70a79-3784-47f5-8743-6bd43edb8030",
   "metadata": {},
   "source": [
    "**Question 15.** The output from the `summary` command shows that there is a height with a minimum value of 0. How many buildings have a height of 0? Use programming code to provide evidence for your response. "
   ]
  },
  {
   "cell_type": "code",
   "execution_count": 31,
   "id": "ee31c52c-8833-4f0e-ba47-6abaf4c3be34",
   "metadata": {
    "tags": []
   },
   "outputs": [
    {
     "data": {
      "text/html": [
       "35"
      ],
      "text/latex": [
       "35"
      ],
      "text/markdown": [
       "35"
      ],
      "text/plain": [
       "[1] 35"
      ]
     },
     "metadata": {},
     "output_type": "display_data"
    }
   ],
   "source": [
    "# Sums all building heights that have 0 as their height in the completed df\n",
    "Building_height_zero <- sum(completed$statistics.height == 0)\n",
    "\n",
    "Building_height_zero"
   ]
  },
  {
   "cell_type": "markdown",
   "id": "de0c84db-c66a-42e5-a4e9-50c0c9d2f76b",
   "metadata": {},
   "source": [
    "There are 35 buildings with the height of 0."
   ]
  },
  {
   "cell_type": "markdown",
   "id": "818d57d9-6907-440c-8345-e396538978db",
   "metadata": {},
   "source": [
    "**Question 16.** How do you think the output from the `summary` command would be different if you remove the buildings with a height of 0? Explain."
   ]
  },
  {
   "cell_type": "markdown",
   "id": "ac230486-738f-49df-bc58-54e2b18ac9bd",
   "metadata": {},
   "source": [
    "The output summary command would be vastly different if I remove the buildings with a height of 0 as it would make the median and mean both go up as you are getting rid of lower values. This would also increase the min as it will no longer be the height of 0. This will not effect the max, but it will affect the 1st Quartile and 3rd Quartile. "
   ]
  },
  {
   "cell_type": "markdown",
   "id": "31c1f23a-5edf-4496-b40e-5facc87aceea",
   "metadata": {},
   "source": [
    "**Question 17.** Remove the buildings have a height of 0, then run  `summary` command again."
   ]
  },
  {
   "cell_type": "code",
   "execution_count": 32,
   "id": "3095a1cd-8f88-452b-882c-d46f28a1d724",
   "metadata": {
    "tags": []
   },
   "outputs": [
    {
     "data": {
      "text/plain": [
       "   Min. 1st Qu.  Median    Mean 3rd Qu.    Max. \n",
       "  35.97  100.60  124.38  132.58  155.06  541.30 "
      ]
     },
     "metadata": {},
     "output_type": "display_data"
    }
   ],
   "source": [
    "# We remove the buildings with heights that do not equal to 0\n",
    "completed_zero_height_buildings <- completed[completed$statistics.height != 0 , ]\n",
    "\n",
    "summary(completed_zero_height_buildings$statistics.height)"
   ]
  },
  {
   "cell_type": "markdown",
   "id": "4bb2d2fc-e030-4278-9744-b25c99810830",
   "metadata": {},
   "source": [
    "**Question 18.** How was the output from **Question 17** different from the output from **Question 13**? Explain."
   ]
  },
  {
   "cell_type": "markdown",
   "id": "65f3d905-0efe-4e2d-b22d-16e4eb4c8ea0",
   "metadata": {},
   "source": [
    "The output was different as I expected. I had expected the minimum to no longer be 0, but something else that was the lowest. I had expected the 1st Q and 3rd Q to increase along with the maximum remaining the same. Lastly we saw an increase in both the mean and median values. We saw more change in the mean than the median. "
   ]
  },
  {
   "cell_type": "markdown",
   "id": "8e96ed4a-47a9-4936-a9c6-5de5ea3c0bbd",
   "metadata": {},
   "source": [
    "**Question 19.** Which city has the most completed sckyscapers (not including skyscrapers with a height of 0)? Answer this question by creating a dataframe that has 10 rows (for the top 10 cities) and two columns (one for the name of the city and one for the number of skyscrapers).\n",
    "\n",
    "For example, your output could look like this\n",
    "\n",
    "|**location.city**|**count**|\n",
    "|----------------:|--------:|\n",
    "|**`<chr>`**|**`<int>`**|\n",
    "|New York City|533|\n",
    "|Chicago|360|\n",
    "|Miami|86|\n",
    "|Houston|61|\n",
    "|Seattle|54|\n",
    "|Honolulu|50|\n",
    "|Los Angeles|50|\n",
    "|Las Vegas|44|\n",
    "|Minneapolis|39|\n",
    "\n",
    "**Hint:** Use the `group_by`, `summarise`, and `arrange` functions."
   ]
  },
  {
   "cell_type": "code",
   "execution_count": 15,
   "id": "be1e8996-e450-44d0-ae90-220f8934570a",
   "metadata": {
    "tags": []
   },
   "outputs": [
    {
     "data": {
      "text/html": [
       "<table class=\"dataframe\">\n",
       "<caption>A tibble: 10 × 2</caption>\n",
       "<thead>\n",
       "\t<tr><th scope=col>location.city</th><th scope=col>num_skyscrapers</th></tr>\n",
       "\t<tr><th scope=col>&lt;chr&gt;</th><th scope=col>&lt;int&gt;</th></tr>\n",
       "</thead>\n",
       "<tbody>\n",
       "\t<tr><td>New York City</td><td>533</td></tr>\n",
       "\t<tr><td>Chicago      </td><td>360</td></tr>\n",
       "\t<tr><td>Miami        </td><td> 86</td></tr>\n",
       "\t<tr><td>San Francisco</td><td> 61</td></tr>\n",
       "\t<tr><td>Houston      </td><td> 54</td></tr>\n",
       "\t<tr><td>Seattle      </td><td> 54</td></tr>\n",
       "\t<tr><td>Honolulu     </td><td> 50</td></tr>\n",
       "\t<tr><td>Los Angeles  </td><td> 50</td></tr>\n",
       "\t<tr><td>Las Vegas    </td><td> 44</td></tr>\n",
       "\t<tr><td>Minneapolis  </td><td> 39</td></tr>\n",
       "</tbody>\n",
       "</table>\n"
      ],
      "text/latex": [
       "A tibble: 10 × 2\n",
       "\\begin{tabular}{ll}\n",
       " location.city & num\\_skyscrapers\\\\\n",
       " <chr> & <int>\\\\\n",
       "\\hline\n",
       "\t New York City & 533\\\\\n",
       "\t Chicago       & 360\\\\\n",
       "\t Miami         &  86\\\\\n",
       "\t San Francisco &  61\\\\\n",
       "\t Houston       &  54\\\\\n",
       "\t Seattle       &  54\\\\\n",
       "\t Honolulu      &  50\\\\\n",
       "\t Los Angeles   &  50\\\\\n",
       "\t Las Vegas     &  44\\\\\n",
       "\t Minneapolis   &  39\\\\\n",
       "\\end{tabular}\n"
      ],
      "text/markdown": [
       "\n",
       "A tibble: 10 × 2\n",
       "\n",
       "| location.city &lt;chr&gt; | num_skyscrapers &lt;int&gt; |\n",
       "|---|---|\n",
       "| New York City | 533 |\n",
       "| Chicago       | 360 |\n",
       "| Miami         |  86 |\n",
       "| San Francisco |  61 |\n",
       "| Houston       |  54 |\n",
       "| Seattle       |  54 |\n",
       "| Honolulu      |  50 |\n",
       "| Los Angeles   |  50 |\n",
       "| Las Vegas     |  44 |\n",
       "| Minneapolis   |  39 |\n",
       "\n"
      ],
      "text/plain": [
       "   location.city num_skyscrapers\n",
       "1  New York City 533            \n",
       "2  Chicago       360            \n",
       "3  Miami          86            \n",
       "4  San Francisco  61            \n",
       "5  Houston        54            \n",
       "6  Seattle        54            \n",
       "7  Honolulu       50            \n",
       "8  Los Angeles    50            \n",
       "9  Las Vegas      44            \n",
       "10 Minneapolis    39            "
      ]
     },
     "metadata": {},
     "output_type": "display_data"
    }
   ],
   "source": [
    "# This manipulates the df with 0 height. First filter out heights not equal to 0, group by location of cities, summarise num of skyscrapers and then arrange in descending order.\n",
    "# Head (10) keeps the top 10 rows\n",
    "\n",
    "cities <- completed_zero_height_buildings %>%\n",
    "  filter(statistics.height != 0) %>%\n",
    "  group_by(location.city) %>%\n",
    "  summarise(num_skyscrapers = n()) %>%\n",
    "  arrange(desc(num_skyscrapers)) %>%\n",
    "  head(10)\n",
    "\n",
    "cities"
   ]
  },
  {
   "cell_type": "markdown",
   "id": "25cefe6d-ff42-4ad2-b4b4-ca85535b7a51",
   "metadata": {
    "tags": []
   },
   "source": [
    "## A Tale of Two Cities\n",
    "\n",
    "A Tale of Two Cities is a historical novel published in 1859 by Charles Dickens, set in London and Paris before and during the French Revolution. The novel tells the story of the French Doctor Manette, his 18-year-long imprisonment in the Bastille in Paris, and his release to live in London with his daughter Lucie whom he had never met. The story is set against the conditions that led up to the French Revolution and the Reign of Terror.\n",
    "\n",
    "In 2003, the novel was ranked 63rd on the BBC's The Big Read poll. The novel has been adapted for film, television, radio, and the stage, and has continued to influence popular culture. \n",
    "\n",
    "**Source:** [Wikipedia](https://en.wikipedia.org/wiki/A_Tale_of_Two_Cities)\n",
    "\n",
    "For the last part of your analysis you get to make a choice."
   ]
  },
  {
   "cell_type": "markdown",
   "id": "a246baf6-2492-4c8c-8389-8e11c2f7b6ec",
   "metadata": {
    "tags": []
   },
   "source": [
    "**Question 20.** Choose two cities from the output from **Question 19**. Create a filtered dataframe containing observations for those two cities while adhering to the following criteria:\n",
    "\n",
    "- Exclude skyscrapers with a height of 0 in each dataframe.\n",
    "\n",
    "- Include only skyscrapers with valid start and completion years.\n",
    "\n",
    "- Keep only the columns `material`, `name`, `location.city`, `statistics.floors.above`, `statistics.height`, `status.completed.year`, and `status.started.year`.\n",
    "\n",
    "Save this new dataframe to `two_cities`."
   ]
  },
  {
   "cell_type": "code",
   "execution_count": 16,
   "id": "8cd8439a-61b0-4d00-9f8a-d8f7ad85d69c",
   "metadata": {
    "tags": []
   },
   "outputs": [
    {
     "data": {
      "text/html": [
       "<table class=\"dataframe\">\n",
       "<caption>A data.frame: 85 × 7</caption>\n",
       "<thead>\n",
       "\t<tr><th scope=col>material</th><th scope=col>name</th><th scope=col>location.city</th><th scope=col>statistics.floors.above</th><th scope=col>statistics.height</th><th scope=col>status.completed.year</th><th scope=col>status.started.year</th></tr>\n",
       "\t<tr><th scope=col>&lt;chr&gt;</th><th scope=col>&lt;chr&gt;</th><th scope=col>&lt;chr&gt;</th><th scope=col>&lt;int&gt;</th><th scope=col>&lt;dbl&gt;</th><th scope=col>&lt;int&gt;</th><th scope=col>&lt;int&gt;</th></tr>\n",
       "</thead>\n",
       "<tbody>\n",
       "\t<tr><td>steel         </td><td>U.S. Bank Tower                          </td><td>Los Angeles</td><td>73</td><td>310.29</td><td>1990</td><td>1987</td></tr>\n",
       "\t<tr><td><span style=white-space:pre-wrap>concrete      </span></td><td><span style=white-space:pre-wrap>Four Seasons Hotel &amp; Tower               </span></td><td><span style=white-space:pre-wrap>Miami      </span></td><td>64</td><td>240.41</td><td>2003</td><td>2000</td></tr>\n",
       "\t<tr><td>composite     </td><td>Southeast Financial Center               </td><td>Miami      </td><td>55</td><td>232.80</td><td>1983</td><td>1982</td></tr>\n",
       "\t<tr><td>steel         </td><td>Gas Company Tower                        </td><td>Los Angeles</td><td>52</td><td>228.30</td><td>1991</td><td>1988</td></tr>\n",
       "\t<tr><td>steel         </td><td>777 Tower                                </td><td>Los Angeles</td><td>53</td><td>221.00</td><td>1991</td><td>1988</td></tr>\n",
       "\t<tr><td>steel         </td><td>Wells Fargo Tower                        </td><td>Los Angeles</td><td>54</td><td>220.37</td><td>1983</td><td>1982</td></tr>\n",
       "\t<tr><td>steel         </td><td>Figueroa at Wilshire                     </td><td>Los Angeles</td><td>52</td><td>218.54</td><td>1989</td><td>1986</td></tr>\n",
       "\t<tr><td>concrete      </td><td>Marquis                                  </td><td>Miami      </td><td>63</td><td>207.00</td><td>2009</td><td>2005</td></tr>\n",
       "\t<tr><td>steel         </td><td>Ritz-Carlton/Marriott Marquis Los Angeles</td><td>Los Angeles</td><td>54</td><td>203.28</td><td>2010</td><td>2007</td></tr>\n",
       "\t<tr><td>steel/concrete</td><td>Wells Fargo Tower                        </td><td>Miami      </td><td>47</td><td>199.50</td><td>2010</td><td>2007</td></tr>\n",
       "\t<tr><td>concrete      </td><td>900 Biscayne Bay                         </td><td>Miami      </td><td>63</td><td>198.00</td><td>2008</td><td>2005</td></tr>\n",
       "\t<tr><td>concrete      </td><td>Mint at Riverfront                       </td><td>Miami      </td><td>55</td><td>192.28</td><td>2009</td><td>2006</td></tr>\n",
       "\t<tr><td>concrete      </td><td>Infinity at Brickell                     </td><td>Miami      </td><td>52</td><td>192.00</td><td>2008</td><td>2005</td></tr>\n",
       "\t<tr><td>concrete      </td><td>Miami Tower                              </td><td>Miami      </td><td>47</td><td>190.50</td><td>1987</td><td>1980</td></tr>\n",
       "\t<tr><td>concrete      </td><td>Marina Blue                              </td><td>Miami      </td><td>57</td><td>187.45</td><td>2007</td><td>2004</td></tr>\n",
       "\t<tr><td>concrete      </td><td>Plaza on Brickell Tower I                </td><td>Miami      </td><td>56</td><td>185.93</td><td>2007</td><td>2005</td></tr>\n",
       "\t<tr><td>steel         </td><td>KPMG Tower                               </td><td>Los Angeles</td><td>45</td><td>184.80</td><td>1984</td><td>1981</td></tr>\n",
       "\t<tr><td><span style=white-space:pre-wrap>concrete      </span></td><td><span style=white-space:pre-wrap>Epic Residences &amp; Hotel                  </span></td><td><span style=white-space:pre-wrap>Miami      </span></td><td>54</td><td>183.20</td><td>2009</td><td>2005</td></tr>\n",
       "\t<tr><td>concrete      </td><td>Icon Brickell North Tower                </td><td>Miami      </td><td>58</td><td>178.62</td><td>2008</td><td>2006</td></tr>\n",
       "\t<tr><td>concrete      </td><td>Ten Museum Park                          </td><td>Miami      </td><td>50</td><td>178.31</td><td>2007</td><td>2004</td></tr>\n",
       "\t<tr><td>steel         </td><td>One California Plaza                     </td><td>Los Angeles</td><td>42</td><td>176.18</td><td>1985</td><td>1983</td></tr>\n",
       "\t<tr><td>concrete      </td><td>Paramount at Edgewater Square            </td><td>Miami      </td><td>47</td><td>169.14</td><td>2009</td><td>2006</td></tr>\n",
       "\t<tr><td>concrete      </td><td>50 Biscayne                              </td><td>Miami      </td><td>55</td><td>168.86</td><td>2007</td><td>2005</td></tr>\n",
       "\t<tr><td>concrete      </td><td>Quantum on the Bay South Tower           </td><td>Miami      </td><td>51</td><td>168.86</td><td>2008</td><td>2005</td></tr>\n",
       "\t<tr><td>concrete      </td><td>Opera Tower                              </td><td>Miami      </td><td>56</td><td>165.50</td><td>2007</td><td>2005</td></tr>\n",
       "\t<tr><td>concrete      </td><td>Vizcayne, North Tower                    </td><td>Miami      </td><td>49</td><td>164.00</td><td>2008</td><td>2005</td></tr>\n",
       "\t<tr><td>concrete      </td><td>Jade at Brickell Bay                     </td><td>Miami      </td><td>49</td><td>160.94</td><td>2004</td><td>2002</td></tr>\n",
       "\t<tr><td>concrete      </td><td>Plaza on Brickell Tower II               </td><td>Miami      </td><td>48</td><td>160.00</td><td>2007</td><td>2005</td></tr>\n",
       "\t<tr><td>steel         </td><td>Union Bank Plaza                         </td><td>Los Angeles</td><td>40</td><td>157.28</td><td>1968</td><td>1965</td></tr>\n",
       "\t<tr><td>concrete      </td><td>The Ivy                                  </td><td>Miami      </td><td>45</td><td>156.16</td><td>2008</td><td>2005</td></tr>\n",
       "\t<tr><td>⋮</td><td>⋮</td><td>⋮</td><td>⋮</td><td>⋮</td><td>⋮</td><td>⋮</td></tr>\n",
       "\t<tr><td>concrete      </td><td>VUE at Brickell                  </td><td>Miami      </td><td>36</td><td>129.00</td><td>2004</td><td>2002</td></tr>\n",
       "\t<tr><td>concrete      </td><td>Brickell on the River South Tower</td><td>Miami      </td><td>42</td><td>128.93</td><td>2007</td><td>2005</td></tr>\n",
       "\t<tr><td>concrete      </td><td>Axis on Brickell North Tower     </td><td>Miami      </td><td>40</td><td>127.40</td><td>2008</td><td>2005</td></tr>\n",
       "\t<tr><td>concrete      </td><td>Axis on Brickell South Tower     </td><td>Miami      </td><td>40</td><td>127.40</td><td>2008</td><td>2005</td></tr>\n",
       "\t<tr><td>concrete      </td><td>One Broadway on Brickell         </td><td>Miami      </td><td>36</td><td>126.00</td><td>2005</td><td>2003</td></tr>\n",
       "\t<tr><td>concrete      </td><td>The Club at Brickell Bay         </td><td>Miami      </td><td>42</td><td>125.30</td><td>2004</td><td>2002</td></tr>\n",
       "\t<tr><td>concrete      </td><td>Carbonell Condominium            </td><td>Miami      </td><td>39</td><td>124.00</td><td>2005</td><td>2003</td></tr>\n",
       "\t<tr><td>concrete      </td><td>The Palace                       </td><td>Miami      </td><td>42</td><td>121.90</td><td>1982</td><td>1979</td></tr>\n",
       "\t<tr><td>concrete      </td><td>WaterMarke Tower                 </td><td>Los Angeles</td><td>35</td><td>120.40</td><td>2009</td><td>2006</td></tr>\n",
       "\t<tr><td>composite     </td><td>Westin Bonaventure Hotel         </td><td>Los Angeles</td><td>35</td><td>118.26</td><td>1976</td><td>1974</td></tr>\n",
       "\t<tr><td>concrete      </td><td>NINE at Mary Brickell Village    </td><td>Miami      </td><td>34</td><td>115.50</td><td>2015</td><td>2004</td></tr>\n",
       "\t<tr><td>concrete      </td><td>Museum Tower                     </td><td>Miami      </td><td>30</td><td>114.90</td><td>1986</td><td>1983</td></tr>\n",
       "\t<tr><td>concrete      </td><td>Skyline on Brickell              </td><td>Miami      </td><td>34</td><td>114.66</td><td>2004</td><td>2002</td></tr>\n",
       "\t<tr><td>concrete      </td><td>NeoVertika                       </td><td>Miami      </td><td>35</td><td>112.50</td><td>2006</td><td>2004</td></tr>\n",
       "\t<tr><td>concrete/steel</td><td>Hotel Inter-Continental Miami    </td><td>Miami      </td><td>34</td><td>111.56</td><td>1982</td><td>1980</td></tr>\n",
       "\t<tr><td>concrete      </td><td>Avenue Southeast First Tower     </td><td>Miami      </td><td>35</td><td>111.20</td><td>2007</td><td>2005</td></tr>\n",
       "\t<tr><td>concrete      </td><td>Bay House Miami Residences       </td><td>Miami      </td><td>36</td><td>110.00</td><td>2015</td><td>2013</td></tr>\n",
       "\t<tr><td>concrete      </td><td>Miami-Dade County Courthouse     </td><td>Miami      </td><td>28</td><td>109.70</td><td>1928</td><td>1925</td></tr>\n",
       "\t<tr><td>concrete      </td><td>4 Midtown                        </td><td>Miami      </td><td>33</td><td>106.70</td><td>2008</td><td>2005</td></tr>\n",
       "\t<tr><td>steel         </td><td>City National Bank Building      </td><td>Los Angeles</td><td>24</td><td>106.07</td><td>1968</td><td>1966</td></tr>\n",
       "\t<tr><td>concrete      </td><td>Grovenor House                   </td><td>Miami      </td><td>33</td><td>103.90</td><td>2006</td><td>2004</td></tr>\n",
       "\t<tr><td>concrete      </td><td>Concerto Tower 1                 </td><td>Los Angeles</td><td>28</td><td>101.20</td><td>2009</td><td>2007</td></tr>\n",
       "\t<tr><td>concrete      </td><td>MyBrickell                       </td><td>Miami      </td><td>25</td><td> 99.40</td><td>2014</td><td>2012</td></tr>\n",
       "\t<tr><td>concrete      </td><td>Flagler on the River             </td><td>Miami      </td><td>32</td><td> 97.84</td><td>2014</td><td>2013</td></tr>\n",
       "\t<tr><td>concrete      </td><td>The Vermont West Tower           </td><td>Los Angeles</td><td>29</td><td> 97.10</td><td>2014</td><td>2012</td></tr>\n",
       "\t<tr><td>concrete      </td><td>22 Skyview                       </td><td>Miami      </td><td>31</td><td> 87.20</td><td>2013</td><td>2012</td></tr>\n",
       "\t<tr><td>concrete      </td><td>Sunset and Gordon                </td><td>Los Angeles</td><td>23</td><td> 79.20</td><td>2015</td><td>2012</td></tr>\n",
       "\t<tr><td>concrete      </td><td>The Vermont East Tower           </td><td>Los Angeles</td><td>22</td><td> 75.30</td><td>2014</td><td>2012</td></tr>\n",
       "\t<tr><td>steel         </td><td>Capitol Records Building         </td><td>Los Angeles</td><td>13</td><td> 67.00</td><td>1956</td><td>1954</td></tr>\n",
       "\t<tr><td>concrete      </td><td>The Crimson                      </td><td>Miami      </td><td>18</td><td> 61.60</td><td>2015</td><td>2013</td></tr>\n",
       "</tbody>\n",
       "</table>\n"
      ],
      "text/latex": [
       "A data.frame: 85 × 7\n",
       "\\begin{tabular}{lllllll}\n",
       " material & name & location.city & statistics.floors.above & statistics.height & status.completed.year & status.started.year\\\\\n",
       " <chr> & <chr> & <chr> & <int> & <dbl> & <int> & <int>\\\\\n",
       "\\hline\n",
       "\t steel          & U.S. Bank Tower                           & Los Angeles & 73 & 310.29 & 1990 & 1987\\\\\n",
       "\t concrete       & Four Seasons Hotel \\& Tower                & Miami       & 64 & 240.41 & 2003 & 2000\\\\\n",
       "\t composite      & Southeast Financial Center                & Miami       & 55 & 232.80 & 1983 & 1982\\\\\n",
       "\t steel          & Gas Company Tower                         & Los Angeles & 52 & 228.30 & 1991 & 1988\\\\\n",
       "\t steel          & 777 Tower                                 & Los Angeles & 53 & 221.00 & 1991 & 1988\\\\\n",
       "\t steel          & Wells Fargo Tower                         & Los Angeles & 54 & 220.37 & 1983 & 1982\\\\\n",
       "\t steel          & Figueroa at Wilshire                      & Los Angeles & 52 & 218.54 & 1989 & 1986\\\\\n",
       "\t concrete       & Marquis                                   & Miami       & 63 & 207.00 & 2009 & 2005\\\\\n",
       "\t steel          & Ritz-Carlton/Marriott Marquis Los Angeles & Los Angeles & 54 & 203.28 & 2010 & 2007\\\\\n",
       "\t steel/concrete & Wells Fargo Tower                         & Miami       & 47 & 199.50 & 2010 & 2007\\\\\n",
       "\t concrete       & 900 Biscayne Bay                          & Miami       & 63 & 198.00 & 2008 & 2005\\\\\n",
       "\t concrete       & Mint at Riverfront                        & Miami       & 55 & 192.28 & 2009 & 2006\\\\\n",
       "\t concrete       & Infinity at Brickell                      & Miami       & 52 & 192.00 & 2008 & 2005\\\\\n",
       "\t concrete       & Miami Tower                               & Miami       & 47 & 190.50 & 1987 & 1980\\\\\n",
       "\t concrete       & Marina Blue                               & Miami       & 57 & 187.45 & 2007 & 2004\\\\\n",
       "\t concrete       & Plaza on Brickell Tower I                 & Miami       & 56 & 185.93 & 2007 & 2005\\\\\n",
       "\t steel          & KPMG Tower                                & Los Angeles & 45 & 184.80 & 1984 & 1981\\\\\n",
       "\t concrete       & Epic Residences \\& Hotel                   & Miami       & 54 & 183.20 & 2009 & 2005\\\\\n",
       "\t concrete       & Icon Brickell North Tower                 & Miami       & 58 & 178.62 & 2008 & 2006\\\\\n",
       "\t concrete       & Ten Museum Park                           & Miami       & 50 & 178.31 & 2007 & 2004\\\\\n",
       "\t steel          & One California Plaza                      & Los Angeles & 42 & 176.18 & 1985 & 1983\\\\\n",
       "\t concrete       & Paramount at Edgewater Square             & Miami       & 47 & 169.14 & 2009 & 2006\\\\\n",
       "\t concrete       & 50 Biscayne                               & Miami       & 55 & 168.86 & 2007 & 2005\\\\\n",
       "\t concrete       & Quantum on the Bay South Tower            & Miami       & 51 & 168.86 & 2008 & 2005\\\\\n",
       "\t concrete       & Opera Tower                               & Miami       & 56 & 165.50 & 2007 & 2005\\\\\n",
       "\t concrete       & Vizcayne, North Tower                     & Miami       & 49 & 164.00 & 2008 & 2005\\\\\n",
       "\t concrete       & Jade at Brickell Bay                      & Miami       & 49 & 160.94 & 2004 & 2002\\\\\n",
       "\t concrete       & Plaza on Brickell Tower II                & Miami       & 48 & 160.00 & 2007 & 2005\\\\\n",
       "\t steel          & Union Bank Plaza                          & Los Angeles & 40 & 157.28 & 1968 & 1965\\\\\n",
       "\t concrete       & The Ivy                                   & Miami       & 45 & 156.16 & 2008 & 2005\\\\\n",
       "\t ⋮ & ⋮ & ⋮ & ⋮ & ⋮ & ⋮ & ⋮\\\\\n",
       "\t concrete       & VUE at Brickell                   & Miami       & 36 & 129.00 & 2004 & 2002\\\\\n",
       "\t concrete       & Brickell on the River South Tower & Miami       & 42 & 128.93 & 2007 & 2005\\\\\n",
       "\t concrete       & Axis on Brickell North Tower      & Miami       & 40 & 127.40 & 2008 & 2005\\\\\n",
       "\t concrete       & Axis on Brickell South Tower      & Miami       & 40 & 127.40 & 2008 & 2005\\\\\n",
       "\t concrete       & One Broadway on Brickell          & Miami       & 36 & 126.00 & 2005 & 2003\\\\\n",
       "\t concrete       & The Club at Brickell Bay          & Miami       & 42 & 125.30 & 2004 & 2002\\\\\n",
       "\t concrete       & Carbonell Condominium             & Miami       & 39 & 124.00 & 2005 & 2003\\\\\n",
       "\t concrete       & The Palace                        & Miami       & 42 & 121.90 & 1982 & 1979\\\\\n",
       "\t concrete       & WaterMarke Tower                  & Los Angeles & 35 & 120.40 & 2009 & 2006\\\\\n",
       "\t composite      & Westin Bonaventure Hotel          & Los Angeles & 35 & 118.26 & 1976 & 1974\\\\\n",
       "\t concrete       & NINE at Mary Brickell Village     & Miami       & 34 & 115.50 & 2015 & 2004\\\\\n",
       "\t concrete       & Museum Tower                      & Miami       & 30 & 114.90 & 1986 & 1983\\\\\n",
       "\t concrete       & Skyline on Brickell               & Miami       & 34 & 114.66 & 2004 & 2002\\\\\n",
       "\t concrete       & NeoVertika                        & Miami       & 35 & 112.50 & 2006 & 2004\\\\\n",
       "\t concrete/steel & Hotel Inter-Continental Miami     & Miami       & 34 & 111.56 & 1982 & 1980\\\\\n",
       "\t concrete       & Avenue Southeast First Tower      & Miami       & 35 & 111.20 & 2007 & 2005\\\\\n",
       "\t concrete       & Bay House Miami Residences        & Miami       & 36 & 110.00 & 2015 & 2013\\\\\n",
       "\t concrete       & Miami-Dade County Courthouse      & Miami       & 28 & 109.70 & 1928 & 1925\\\\\n",
       "\t concrete       & 4 Midtown                         & Miami       & 33 & 106.70 & 2008 & 2005\\\\\n",
       "\t steel          & City National Bank Building       & Los Angeles & 24 & 106.07 & 1968 & 1966\\\\\n",
       "\t concrete       & Grovenor House                    & Miami       & 33 & 103.90 & 2006 & 2004\\\\\n",
       "\t concrete       & Concerto Tower 1                  & Los Angeles & 28 & 101.20 & 2009 & 2007\\\\\n",
       "\t concrete       & MyBrickell                        & Miami       & 25 &  99.40 & 2014 & 2012\\\\\n",
       "\t concrete       & Flagler on the River              & Miami       & 32 &  97.84 & 2014 & 2013\\\\\n",
       "\t concrete       & The Vermont West Tower            & Los Angeles & 29 &  97.10 & 2014 & 2012\\\\\n",
       "\t concrete       & 22 Skyview                        & Miami       & 31 &  87.20 & 2013 & 2012\\\\\n",
       "\t concrete       & Sunset and Gordon                 & Los Angeles & 23 &  79.20 & 2015 & 2012\\\\\n",
       "\t concrete       & The Vermont East Tower            & Los Angeles & 22 &  75.30 & 2014 & 2012\\\\\n",
       "\t steel          & Capitol Records Building          & Los Angeles & 13 &  67.00 & 1956 & 1954\\\\\n",
       "\t concrete       & The Crimson                       & Miami       & 18 &  61.60 & 2015 & 2013\\\\\n",
       "\\end{tabular}\n"
      ],
      "text/markdown": [
       "\n",
       "A data.frame: 85 × 7\n",
       "\n",
       "| material &lt;chr&gt; | name &lt;chr&gt; | location.city &lt;chr&gt; | statistics.floors.above &lt;int&gt; | statistics.height &lt;dbl&gt; | status.completed.year &lt;int&gt; | status.started.year &lt;int&gt; |\n",
       "|---|---|---|---|---|---|---|\n",
       "| steel          | U.S. Bank Tower                           | Los Angeles | 73 | 310.29 | 1990 | 1987 |\n",
       "| concrete       | Four Seasons Hotel &amp; Tower                | Miami       | 64 | 240.41 | 2003 | 2000 |\n",
       "| composite      | Southeast Financial Center                | Miami       | 55 | 232.80 | 1983 | 1982 |\n",
       "| steel          | Gas Company Tower                         | Los Angeles | 52 | 228.30 | 1991 | 1988 |\n",
       "| steel          | 777 Tower                                 | Los Angeles | 53 | 221.00 | 1991 | 1988 |\n",
       "| steel          | Wells Fargo Tower                         | Los Angeles | 54 | 220.37 | 1983 | 1982 |\n",
       "| steel          | Figueroa at Wilshire                      | Los Angeles | 52 | 218.54 | 1989 | 1986 |\n",
       "| concrete       | Marquis                                   | Miami       | 63 | 207.00 | 2009 | 2005 |\n",
       "| steel          | Ritz-Carlton/Marriott Marquis Los Angeles | Los Angeles | 54 | 203.28 | 2010 | 2007 |\n",
       "| steel/concrete | Wells Fargo Tower                         | Miami       | 47 | 199.50 | 2010 | 2007 |\n",
       "| concrete       | 900 Biscayne Bay                          | Miami       | 63 | 198.00 | 2008 | 2005 |\n",
       "| concrete       | Mint at Riverfront                        | Miami       | 55 | 192.28 | 2009 | 2006 |\n",
       "| concrete       | Infinity at Brickell                      | Miami       | 52 | 192.00 | 2008 | 2005 |\n",
       "| concrete       | Miami Tower                               | Miami       | 47 | 190.50 | 1987 | 1980 |\n",
       "| concrete       | Marina Blue                               | Miami       | 57 | 187.45 | 2007 | 2004 |\n",
       "| concrete       | Plaza on Brickell Tower I                 | Miami       | 56 | 185.93 | 2007 | 2005 |\n",
       "| steel          | KPMG Tower                                | Los Angeles | 45 | 184.80 | 1984 | 1981 |\n",
       "| concrete       | Epic Residences &amp; Hotel                   | Miami       | 54 | 183.20 | 2009 | 2005 |\n",
       "| concrete       | Icon Brickell North Tower                 | Miami       | 58 | 178.62 | 2008 | 2006 |\n",
       "| concrete       | Ten Museum Park                           | Miami       | 50 | 178.31 | 2007 | 2004 |\n",
       "| steel          | One California Plaza                      | Los Angeles | 42 | 176.18 | 1985 | 1983 |\n",
       "| concrete       | Paramount at Edgewater Square             | Miami       | 47 | 169.14 | 2009 | 2006 |\n",
       "| concrete       | 50 Biscayne                               | Miami       | 55 | 168.86 | 2007 | 2005 |\n",
       "| concrete       | Quantum on the Bay South Tower            | Miami       | 51 | 168.86 | 2008 | 2005 |\n",
       "| concrete       | Opera Tower                               | Miami       | 56 | 165.50 | 2007 | 2005 |\n",
       "| concrete       | Vizcayne, North Tower                     | Miami       | 49 | 164.00 | 2008 | 2005 |\n",
       "| concrete       | Jade at Brickell Bay                      | Miami       | 49 | 160.94 | 2004 | 2002 |\n",
       "| concrete       | Plaza on Brickell Tower II                | Miami       | 48 | 160.00 | 2007 | 2005 |\n",
       "| steel          | Union Bank Plaza                          | Los Angeles | 40 | 157.28 | 1968 | 1965 |\n",
       "| concrete       | The Ivy                                   | Miami       | 45 | 156.16 | 2008 | 2005 |\n",
       "| ⋮ | ⋮ | ⋮ | ⋮ | ⋮ | ⋮ | ⋮ |\n",
       "| concrete       | VUE at Brickell                   | Miami       | 36 | 129.00 | 2004 | 2002 |\n",
       "| concrete       | Brickell on the River South Tower | Miami       | 42 | 128.93 | 2007 | 2005 |\n",
       "| concrete       | Axis on Brickell North Tower      | Miami       | 40 | 127.40 | 2008 | 2005 |\n",
       "| concrete       | Axis on Brickell South Tower      | Miami       | 40 | 127.40 | 2008 | 2005 |\n",
       "| concrete       | One Broadway on Brickell          | Miami       | 36 | 126.00 | 2005 | 2003 |\n",
       "| concrete       | The Club at Brickell Bay          | Miami       | 42 | 125.30 | 2004 | 2002 |\n",
       "| concrete       | Carbonell Condominium             | Miami       | 39 | 124.00 | 2005 | 2003 |\n",
       "| concrete       | The Palace                        | Miami       | 42 | 121.90 | 1982 | 1979 |\n",
       "| concrete       | WaterMarke Tower                  | Los Angeles | 35 | 120.40 | 2009 | 2006 |\n",
       "| composite      | Westin Bonaventure Hotel          | Los Angeles | 35 | 118.26 | 1976 | 1974 |\n",
       "| concrete       | NINE at Mary Brickell Village     | Miami       | 34 | 115.50 | 2015 | 2004 |\n",
       "| concrete       | Museum Tower                      | Miami       | 30 | 114.90 | 1986 | 1983 |\n",
       "| concrete       | Skyline on Brickell               | Miami       | 34 | 114.66 | 2004 | 2002 |\n",
       "| concrete       | NeoVertika                        | Miami       | 35 | 112.50 | 2006 | 2004 |\n",
       "| concrete/steel | Hotel Inter-Continental Miami     | Miami       | 34 | 111.56 | 1982 | 1980 |\n",
       "| concrete       | Avenue Southeast First Tower      | Miami       | 35 | 111.20 | 2007 | 2005 |\n",
       "| concrete       | Bay House Miami Residences        | Miami       | 36 | 110.00 | 2015 | 2013 |\n",
       "| concrete       | Miami-Dade County Courthouse      | Miami       | 28 | 109.70 | 1928 | 1925 |\n",
       "| concrete       | 4 Midtown                         | Miami       | 33 | 106.70 | 2008 | 2005 |\n",
       "| steel          | City National Bank Building       | Los Angeles | 24 | 106.07 | 1968 | 1966 |\n",
       "| concrete       | Grovenor House                    | Miami       | 33 | 103.90 | 2006 | 2004 |\n",
       "| concrete       | Concerto Tower 1                  | Los Angeles | 28 | 101.20 | 2009 | 2007 |\n",
       "| concrete       | MyBrickell                        | Miami       | 25 |  99.40 | 2014 | 2012 |\n",
       "| concrete       | Flagler on the River              | Miami       | 32 |  97.84 | 2014 | 2013 |\n",
       "| concrete       | The Vermont West Tower            | Los Angeles | 29 |  97.10 | 2014 | 2012 |\n",
       "| concrete       | 22 Skyview                        | Miami       | 31 |  87.20 | 2013 | 2012 |\n",
       "| concrete       | Sunset and Gordon                 | Los Angeles | 23 |  79.20 | 2015 | 2012 |\n",
       "| concrete       | The Vermont East Tower            | Los Angeles | 22 |  75.30 | 2014 | 2012 |\n",
       "| steel          | Capitol Records Building          | Los Angeles | 13 |  67.00 | 1956 | 1954 |\n",
       "| concrete       | The Crimson                       | Miami       | 18 |  61.60 | 2015 | 2013 |\n",
       "\n"
      ],
      "text/plain": [
       "   material       name                                      location.city\n",
       "1  steel          U.S. Bank Tower                           Los Angeles  \n",
       "2  concrete       Four Seasons Hotel & Tower                Miami        \n",
       "3  composite      Southeast Financial Center                Miami        \n",
       "4  steel          Gas Company Tower                         Los Angeles  \n",
       "5  steel          777 Tower                                 Los Angeles  \n",
       "6  steel          Wells Fargo Tower                         Los Angeles  \n",
       "7  steel          Figueroa at Wilshire                      Los Angeles  \n",
       "8  concrete       Marquis                                   Miami        \n",
       "9  steel          Ritz-Carlton/Marriott Marquis Los Angeles Los Angeles  \n",
       "10 steel/concrete Wells Fargo Tower                         Miami        \n",
       "11 concrete       900 Biscayne Bay                          Miami        \n",
       "12 concrete       Mint at Riverfront                        Miami        \n",
       "13 concrete       Infinity at Brickell                      Miami        \n",
       "14 concrete       Miami Tower                               Miami        \n",
       "15 concrete       Marina Blue                               Miami        \n",
       "16 concrete       Plaza on Brickell Tower I                 Miami        \n",
       "17 steel          KPMG Tower                                Los Angeles  \n",
       "18 concrete       Epic Residences & Hotel                   Miami        \n",
       "19 concrete       Icon Brickell North Tower                 Miami        \n",
       "20 concrete       Ten Museum Park                           Miami        \n",
       "21 steel          One California Plaza                      Los Angeles  \n",
       "22 concrete       Paramount at Edgewater Square             Miami        \n",
       "23 concrete       50 Biscayne                               Miami        \n",
       "24 concrete       Quantum on the Bay South Tower            Miami        \n",
       "25 concrete       Opera Tower                               Miami        \n",
       "26 concrete       Vizcayne, North Tower                     Miami        \n",
       "27 concrete       Jade at Brickell Bay                      Miami        \n",
       "28 concrete       Plaza on Brickell Tower II                Miami        \n",
       "29 steel          Union Bank Plaza                          Los Angeles  \n",
       "30 concrete       The Ivy                                   Miami        \n",
       "⋮  ⋮              ⋮                                         ⋮            \n",
       "56 concrete       VUE at Brickell                           Miami        \n",
       "57 concrete       Brickell on the River South Tower         Miami        \n",
       "58 concrete       Axis on Brickell North Tower              Miami        \n",
       "59 concrete       Axis on Brickell South Tower              Miami        \n",
       "60 concrete       One Broadway on Brickell                  Miami        \n",
       "61 concrete       The Club at Brickell Bay                  Miami        \n",
       "62 concrete       Carbonell Condominium                     Miami        \n",
       "63 concrete       The Palace                                Miami        \n",
       "64 concrete       WaterMarke Tower                          Los Angeles  \n",
       "65 composite      Westin Bonaventure Hotel                  Los Angeles  \n",
       "66 concrete       NINE at Mary Brickell Village             Miami        \n",
       "67 concrete       Museum Tower                              Miami        \n",
       "68 concrete       Skyline on Brickell                       Miami        \n",
       "69 concrete       NeoVertika                                Miami        \n",
       "70 concrete/steel Hotel Inter-Continental Miami             Miami        \n",
       "71 concrete       Avenue Southeast First Tower              Miami        \n",
       "72 concrete       Bay House Miami Residences                Miami        \n",
       "73 concrete       Miami-Dade County Courthouse              Miami        \n",
       "74 concrete       4 Midtown                                 Miami        \n",
       "75 steel          City National Bank Building               Los Angeles  \n",
       "76 concrete       Grovenor House                            Miami        \n",
       "77 concrete       Concerto Tower 1                          Los Angeles  \n",
       "78 concrete       MyBrickell                                Miami        \n",
       "79 concrete       Flagler on the River                      Miami        \n",
       "80 concrete       The Vermont West Tower                    Los Angeles  \n",
       "81 concrete       22 Skyview                                Miami        \n",
       "82 concrete       Sunset and Gordon                         Los Angeles  \n",
       "83 concrete       The Vermont East Tower                    Los Angeles  \n",
       "84 steel          Capitol Records Building                  Los Angeles  \n",
       "85 concrete       The Crimson                               Miami        \n",
       "   statistics.floors.above statistics.height status.completed.year\n",
       "1  73                      310.29            1990                 \n",
       "2  64                      240.41            2003                 \n",
       "3  55                      232.80            1983                 \n",
       "4  52                      228.30            1991                 \n",
       "5  53                      221.00            1991                 \n",
       "6  54                      220.37            1983                 \n",
       "7  52                      218.54            1989                 \n",
       "8  63                      207.00            2009                 \n",
       "9  54                      203.28            2010                 \n",
       "10 47                      199.50            2010                 \n",
       "11 63                      198.00            2008                 \n",
       "12 55                      192.28            2009                 \n",
       "13 52                      192.00            2008                 \n",
       "14 47                      190.50            1987                 \n",
       "15 57                      187.45            2007                 \n",
       "16 56                      185.93            2007                 \n",
       "17 45                      184.80            1984                 \n",
       "18 54                      183.20            2009                 \n",
       "19 58                      178.62            2008                 \n",
       "20 50                      178.31            2007                 \n",
       "21 42                      176.18            1985                 \n",
       "22 47                      169.14            2009                 \n",
       "23 55                      168.86            2007                 \n",
       "24 51                      168.86            2008                 \n",
       "25 56                      165.50            2007                 \n",
       "26 49                      164.00            2008                 \n",
       "27 49                      160.94            2004                 \n",
       "28 48                      160.00            2007                 \n",
       "29 40                      157.28            1968                 \n",
       "30 45                      156.16            2008                 \n",
       "⋮  ⋮                       ⋮                 ⋮                    \n",
       "56 36                      129.00            2004                 \n",
       "57 42                      128.93            2007                 \n",
       "58 40                      127.40            2008                 \n",
       "59 40                      127.40            2008                 \n",
       "60 36                      126.00            2005                 \n",
       "61 42                      125.30            2004                 \n",
       "62 39                      124.00            2005                 \n",
       "63 42                      121.90            1982                 \n",
       "64 35                      120.40            2009                 \n",
       "65 35                      118.26            1976                 \n",
       "66 34                      115.50            2015                 \n",
       "67 30                      114.90            1986                 \n",
       "68 34                      114.66            2004                 \n",
       "69 35                      112.50            2006                 \n",
       "70 34                      111.56            1982                 \n",
       "71 35                      111.20            2007                 \n",
       "72 36                      110.00            2015                 \n",
       "73 28                      109.70            1928                 \n",
       "74 33                      106.70            2008                 \n",
       "75 24                      106.07            1968                 \n",
       "76 33                      103.90            2006                 \n",
       "77 28                      101.20            2009                 \n",
       "78 25                       99.40            2014                 \n",
       "79 32                       97.84            2014                 \n",
       "80 29                       97.10            2014                 \n",
       "81 31                       87.20            2013                 \n",
       "82 23                       79.20            2015                 \n",
       "83 22                       75.30            2014                 \n",
       "84 13                       67.00            1956                 \n",
       "85 18                       61.60            2015                 \n",
       "   status.started.year\n",
       "1  1987               \n",
       "2  2000               \n",
       "3  1982               \n",
       "4  1988               \n",
       "5  1988               \n",
       "6  1982               \n",
       "7  1986               \n",
       "8  2005               \n",
       "9  2007               \n",
       "10 2007               \n",
       "11 2005               \n",
       "12 2006               \n",
       "13 2005               \n",
       "14 1980               \n",
       "15 2004               \n",
       "16 2005               \n",
       "17 1981               \n",
       "18 2005               \n",
       "19 2006               \n",
       "20 2004               \n",
       "21 1983               \n",
       "22 2006               \n",
       "23 2005               \n",
       "24 2005               \n",
       "25 2005               \n",
       "26 2005               \n",
       "27 2002               \n",
       "28 2005               \n",
       "29 1965               \n",
       "30 2005               \n",
       "⋮  ⋮                  \n",
       "56 2002               \n",
       "57 2005               \n",
       "58 2005               \n",
       "59 2005               \n",
       "60 2003               \n",
       "61 2002               \n",
       "62 2003               \n",
       "63 1979               \n",
       "64 2006               \n",
       "65 1974               \n",
       "66 2004               \n",
       "67 1983               \n",
       "68 2002               \n",
       "69 2004               \n",
       "70 1980               \n",
       "71 2005               \n",
       "72 2013               \n",
       "73 1925               \n",
       "74 2005               \n",
       "75 1966               \n",
       "76 2004               \n",
       "77 2007               \n",
       "78 2012               \n",
       "79 2013               \n",
       "80 2012               \n",
       "81 2012               \n",
       "82 2012               \n",
       "83 2012               \n",
       "84 1954               \n",
       "85 2013               "
      ]
     },
     "metadata": {},
     "output_type": "display_data"
    }
   ],
   "source": [
    "\n",
    "#Gets selected cities that I wanted\n",
    "selected_cities <- c(\"Miami\", \"Los Angeles\")\n",
    "\n",
    "#Do manipulations based by filtering out the rest of the cities based on the ones I chose\n",
    "selected_cities_df <- completed_zero_height_buildings %>%\n",
    "    filter(location.city %in% selected_cities,\n",
    "#Excluded any height that was a 0\n",
    "           statistics.height != 0,\n",
    "#Made sure no invalid values were there for the completed and started year          \n",
    "           !is.na(status.started.year),\n",
    "           !is.na(status.completed.year), \n",
    "#Checked to take out any 0 values that were present in the completed or started.year values\n",
    "           status.completed.year != 0,\n",
    "           status.started.year != 0) %>%\n",
    "\n",
    "#Selected what was told in the instructions\n",
    "select(material, name, location.city, statistics.floors.above, statistics.height, status.completed.year, status.started.year)\n",
    "\n",
    "#Took the df we made manipulations to and set it under another name and displayed\n",
    "two_cities <- selected_cities_df\n",
    "\n",
    "two_cities\n",
    "           "
   ]
  },
  {
   "cell_type": "markdown",
   "id": "5a0a07e8-2dfb-4d76-a2d4-625066e9faf2",
   "metadata": {},
   "source": [
    "**Question 21.** Verify that the `two_cities` dataframe meets all criteria."
   ]
  },
  {
   "cell_type": "code",
   "execution_count": 17,
   "id": "44a8d2ba-4f4a-4e55-9da9-7e44170f956f",
   "metadata": {
    "tags": []
   },
   "outputs": [
    {
     "name": "stdout",
     "output_type": "stream",
     "text": [
      "[1] \"The dimensions of the dataframe are:\"\n",
      "[1] 85  7\n",
      "\n",
      "[1] \"The column names are:\"\n",
      "[1] \"material\"                \"name\"                   \n",
      "[3] \"location.city\"           \"statistics.floors.above\"\n",
      "[5] \"statistics.height\"       \"status.completed.year\"  \n",
      "[7] \"status.started.year\"    \n",
      "\n",
      "[1] \"The city names are:\"\n",
      "[1] \"Los Angeles\" \"Miami\"      \n",
      "\n",
      "[1] \"The number of buildings with height 0 are:\"\n",
      "[1] 0\n",
      "\n",
      "[1] \"The number of buildings with 0 for year started and year completed are:\"\n",
      "[1] 0\n"
     ]
    }
   ],
   "source": [
    "print(\"The dimensions of the dataframe are:\")\n",
    "print(dim(two_cities))\n",
    "cat(\"\\n\")\n",
    "print(\"The column names are:\")\n",
    "print(colnames(two_cities))\n",
    "cat(\"\\n\")\n",
    "print(\"The city names are:\")\n",
    "print(unique(two_cities$location.city))\n",
    "cat(\"\\n\")\n",
    "print(\"The number of buildings with height 0 are:\")\n",
    "print(nrow(filter(two_cities, statistics.height == 0)))\n",
    "cat(\"\\n\")\n",
    "print(\"The number of buildings with 0 for year started and year completed are:\")\n",
    "print(nrow(filter(two_cities, status.completed.year == 0 | status.started.year == 0)))"
   ]
  },
  {
   "cell_type": "markdown",
   "id": "5d477e68-a552-4177-bfdc-e295c8920524",
   "metadata": {
    "tags": []
   },
   "source": [
    "**Question 22.** Find the distribution of the proportion of materials used for buildings in each city. You can use the `table` command to complete this task."
   ]
  },
  {
   "cell_type": "code",
   "execution_count": 18,
   "id": "eee67d65-8de1-4e43-b6f0-d35f452bcb28",
   "metadata": {
    "tags": []
   },
   "outputs": [
    {
     "data": {
      "text/plain": [
       "             \n",
       "               composite   concrete concrete/steel      steel steel/concrete\n",
       "  Los Angeles 0.05000000 0.30000000     0.00000000 0.65000000     0.00000000\n",
       "  Miami       0.01538462 0.92307692     0.01538462 0.01538462     0.03076923"
      ]
     },
     "metadata": {},
     "output_type": "display_data"
    }
   ],
   "source": [
    "#Gives both cities with their location and materials\n",
    "proportion <- table(two_cities$location.city, two_cities$material)\n",
    "\n",
    "#Creates a proportion table for materials used in buildings for each city\n",
    "dist_number <- prop.table(proportion, margin = 1)\n",
    "\n",
    "dist_number"
   ]
  },
  {
   "cell_type": "markdown",
   "id": "0f42e096-8389-4e3e-ae1e-22b50454040c",
   "metadata": {},
   "source": [
    "**Question 23.** Compare the material distributions of skyscrapers in each city, focusing on materials where the difference between proportions are the largest. Take note of any patterns or observations and consider what questions may arise from the comparison. In other words, what do you notice? What do you wonder?"
   ]
  },
  {
   "cell_type": "markdown",
   "id": "cf997877-c21d-4298-b7ed-abc11218e3cb",
   "metadata": {},
   "source": [
    "Based on my analysis I see that steel is much more used in Los Angeles than in Miami. I can also see from the data that concrete is more popular in Miami than in Los Angeles. The building materials make me wonder do construction companies choose these based on pricing or based on weather elements making one better suited."
   ]
  },
  {
   "cell_type": "markdown",
   "id": "7276c37b-8249-4bcf-b457-2cadfe5ce736",
   "metadata": {},
   "source": [
    "**Question 24.** Construct a box plot to visually compare the material distributions of skyscrapers across the selected cities."
   ]
  },
  {
   "cell_type": "code",
   "execution_count": 27,
   "id": "af5f4091-a1ca-4f6a-bdd0-688bde81697b",
   "metadata": {
    "tags": []
   },
   "outputs": [
    {
     "data": {
      "image/png": "[encoded data removed]",
      "text/plain": [
       "Plot with title “Material Distributions in Los Angeles and Miami”"
      ]
     },
     "metadata": {
      "image/png": {
       "height": 420,
       "width": 420
      }
     },
     "output_type": "display_data"
    }
   ],
   "source": [
    "# Creating a box chart graphing the values for Los Angeles and Miami\n",
    "# Miami is colored light grey and Los Angeles is colored dark grey\n",
    "barplot(dist_number,\n",
    "        main = \"Material Distributions in Los Angeles and Miami\",\n",
    "        xlab = \"Proportion\",\n",
    "        ylab = \"Material\")\n",
    "       \n",
    "\n",
    "\n",
    "\n"
   ]
  },
  {
   "cell_type": "markdown",
   "id": "6061c818-14a0-4408-b846-77b66ab8d996",
   "metadata": {},
   "source": [
    "**Question 25.** Compare the height distributions of skyscrapers in each city, focusing on the median, lower and upper quartiles, and the outliers. Take note of any patterns or observations and consider what questions may arise from the comparison. In other words, what do you notice? What do you wonder?"
   ]
  },
  {
   "cell_type": "markdown",
   "id": "fbbdb751-cd35-4664-bc2b-7ed98b38eed4",
   "metadata": {},
   "source": [
    "With the instructions changing to a bar plot than a box plot I am not able to clearly see the information I need. From what I do see in the bar plot is that there is not a lot of use when it comes to the combination of steel/concrete, concrete/steel, and composite. There is large utility to just one item with that being either concrete or steel only and Miami tends to use a lot of concrete while Los Angeles uses a lot of steel. This makes me wonder why these certain materials are used. Are they perhaps cheaper to get in those areas?"
   ]
  },
  {
   "cell_type": "markdown",
   "id": "74310788-7689-4d00-931f-ba3a05edc894",
   "metadata": {},
   "source": [
    "**Question 26.** Construct an overlaid histogram to visually compare the distributions of the number of floors across the selected cities."
   ]
  },
  {
   "cell_type": "code",
   "execution_count": 30,
   "id": "c3926989-d384-4df0-9af2-f0e5ed5f2a90",
   "metadata": {
    "tags": []
   },
   "outputs": [],
   "source": [
    "# Could not complete.\n"
   ]
  },
  {
   "cell_type": "markdown",
   "id": "730e8a8a-fd3b-4fd9-a280-212cce1a9f4f",
   "metadata": {},
   "source": [
    "**Question 27.** Compare the distributions of the number of floors of the skyscrapers in each city, focusing on the shape and the frequency. Take note of any patterns or observations and consider what questions may arise from the comparison. In other words, what do you notice? What do you wonder?"
   ]
  },
  {
   "cell_type": "markdown",
   "id": "bb0b318c-a5e6-4f31-88c0-6c59aa01563f",
   "metadata": {},
   "source": [
    "Could not complete."
   ]
  },
  {
   "cell_type": "markdown",
   "id": "c305f3ac-a87e-4694-9020-9dcc20014cae",
   "metadata": {},
   "source": [
    "**Question 28.** Write a breif paragraph (no more than 300 words) that summarizes the results from your EDA of the two cities."
   ]
  },
  {
   "cell_type": "markdown",
   "id": "f33f1d9a-21fa-479a-bd3e-e00c70a4a770",
   "metadata": {},
   "source": [
    "From the data that I have accumulated I have drawn a couple of conclusions for these two cities of Miami and Los Angeles. Firstly, it was quickly apparent that there is not a lot of mixing of materials like steel/concrete or the other way around going on. The reason for this could be several things like the weather encountered in these certain places or even things like the building height playing a factor in what is better to use. A trend that I did notice with my bar chart was that Miami and Los Angeles both use a lot of one material. In this case Miami uses a lot of concrete while Los Angeles uses a lot of steel. Once again, this could be for structure or for height or any other factors. "
   ]
  }
 ],
 "metadata": {
  "kernelspec": {
   "display_name": "R",
   "language": "R",
   "name": "ir"
  },
  "language_info": {
   "codemirror_mode": "r",
   "file_extension": ".r",
   "mimetype": "text/x-r-source",
   "name": "R",
   "pygments_lexer": "r",
   "version": "4.3.2"
  }
 },
 "nbformat": 4,
 "nbformat_minor": 5
}
